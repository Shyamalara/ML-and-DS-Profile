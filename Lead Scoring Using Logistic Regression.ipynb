{
 "cells": [
  {
   "cell_type": "markdown",
   "metadata": {},
   "source": [
    "#  Lead Scoring Case Study"
   ]
  },
  {
   "cell_type": "markdown",
   "metadata": {},
   "source": [
    "### Problem Statement"
   ]
  },
  {
   "cell_type": "markdown",
   "metadata": {},
   "source": [
    "An education company named X Education sells online courses.The company markets its courses on several websites and search engines like Google. Once these people land on the website, they might browse the courses or fill up a form for the course or watch some videos. \n",
    "When these people fill up a form providing their email address or phone number, they are classified to be a **lead**.Once these leads are acquired, employees from the sales team start making calls, writing emails, etc. Through this process, some of the leads get converted while most do not. The typical lead conversion rate at X education is around 30%. \n",
    "\n"
   ]
  },
  {
   "cell_type": "markdown",
   "metadata": {},
   "source": [
    "#### Objective\n",
    "\n",
    "30% is a poor conversion rate. The company intends to identify some 'Hot leads' to increase the conversion rate to a desirable 80%. If Hot leads are identified, the sales team can concentrate the efforts on these Hot leads and increase the conversion rate. \n",
    "\n",
    "The objective of this analysis is to build a logistic regression model that will assign a score to each lead and those with high lead scores can be targeted. The 80% conversion rate desired is nothing but the sensitivity of the model.Lead score must be between 0 to 100."
   ]
  },
  {
   "cell_type": "markdown",
   "metadata": {},
   "source": [
    "#### Overview\n",
    "\n",
    "We are given with a dataset with columns like Lead source, lead quality, city of the lead, country of the lead etc. The column 'Converted' forms the Target variable. Converted has binary values : 1 is converted and 0 is not converted.\n",
    "\n",
    "Steps in analysis:\n",
    "\n",
    "1. **Data Cleaning** : \n",
    "    - Some columns have Select as a value. The customer/lead has not picked any value in that feature. \n",
    "    - There are considerable amount of null values in some columns \n",
    "    - A significant no. of columns have skewed data i.e. more than 90% of the column values are inclined towards one particular values. \n",
    "    - Datatypes are not correct. \n",
    " \n",
    "2. **Data Preparation** \n",
    "    - Create dummies for 8 features\n",
    "    - Train test split\n",
    "    - scaling of the numerical features\n",
    "3. **Model building** :\n",
    "       \n",
    "       - logm1 : model with all features, train set is X_train\n",
    "       - logm2 : model with RFE, X_train2_sm\n",
    "        - logm3 : dropped Lead_Origin_Lead Add Form\n",
    "        - logm4 : dropped Lead Source_NC_EDM\n",
    "        - logm5 : dropped Last Notable Activity_SMS Sent\n",
    "        -logm6 : dropped Last Notable Activity_Others\n",
    "        -logm7 : Dropped City_Mumbai\n",
    "        - logm8 : Dropped City_Others, City_Thane & Outskirts\n",
    "        - logm9 : dropped Lead_Origin_Landing Page Submission and Specialization_Others\n",
    "        - logm10 : Dropped Specialization_Operations Management\n",
    "        - logm11 : Drop Specialization_Human Resource Management\n",
    "        - logm12 : dropped Specialisation_Finance Management. \n",
    "        - logm13 : dropped Lead Source_Social Media\n",
    "\n",
    "Model Log13 was taken as the final one and predictions were made on it. Metrics were calculated. Further, ROC curve was plotted. Accuracy, sensitivity, specificity curve was plotted and 0.35 was taken as the optimal cut off. Metrics were calculated for the same. \n",
    "\n",
    "Model was used on test set to make predictions and metrics were calculated. \n",
    "\n",
    "Further, a lead score was generated for each lead number. \n",
    "\n"
   ]
  },
  {
   "cell_type": "markdown",
   "metadata": {},
   "source": [
    "## 1. Importing the Libraries"
   ]
  },
  {
   "cell_type": "code",
   "execution_count": 1159,
   "metadata": {},
   "outputs": [],
   "source": [
    "# Importing required libraries and packages\n",
    "import numpy as np\n",
    "import pandas as pd\n",
    "import matplotlib.pyplot as plt\n",
    "import seaborn as sns\n",
    "\n",
    "# Supress Warnings\n",
    "import warnings\n",
    "warnings.filterwarnings('ignore')\n",
    "\n",
    "# for train test split\n",
    "from sklearn.model_selection import train_test_split\n",
    "\n",
    "from sklearn.preprocessing import StandardScaler\n",
    "\n",
    "import statsmodels.api as sm ##statsmodel\n",
    "\n",
    "# Check for the VIF values of the feature variables. \n",
    "from statsmodels.stats.outliers_influence import variance_inflation_factor"
   ]
  },
  {
   "cell_type": "markdown",
   "metadata": {},
   "source": [
    "## 2. Reading Dataset"
   ]
  },
  {
   "cell_type": "code",
   "execution_count": 1160,
   "metadata": {},
   "outputs": [
    {
     "data": {
      "text/html": [
       "<div>\n",
       "<style scoped>\n",
       "    .dataframe tbody tr th:only-of-type {\n",
       "        vertical-align: middle;\n",
       "    }\n",
       "\n",
       "    .dataframe tbody tr th {\n",
       "        vertical-align: top;\n",
       "    }\n",
       "\n",
       "    .dataframe thead th {\n",
       "        text-align: right;\n",
       "    }\n",
       "</style>\n",
       "<table border=\"1\" class=\"dataframe\">\n",
       "  <thead>\n",
       "    <tr style=\"text-align: right;\">\n",
       "      <th></th>\n",
       "      <th>Prospect ID</th>\n",
       "      <th>Lead Number</th>\n",
       "      <th>Lead Origin</th>\n",
       "      <th>Lead Source</th>\n",
       "      <th>Do Not Email</th>\n",
       "      <th>Do Not Call</th>\n",
       "      <th>Converted</th>\n",
       "      <th>TotalVisits</th>\n",
       "      <th>Total Time Spent on Website</th>\n",
       "      <th>Page Views Per Visit</th>\n",
       "      <th>...</th>\n",
       "      <th>Get updates on DM Content</th>\n",
       "      <th>Lead Profile</th>\n",
       "      <th>City</th>\n",
       "      <th>Asymmetrique Activity Index</th>\n",
       "      <th>Asymmetrique Profile Index</th>\n",
       "      <th>Asymmetrique Activity Score</th>\n",
       "      <th>Asymmetrique Profile Score</th>\n",
       "      <th>I agree to pay the amount through cheque</th>\n",
       "      <th>A free copy of Mastering The Interview</th>\n",
       "      <th>Last Notable Activity</th>\n",
       "    </tr>\n",
       "  </thead>\n",
       "  <tbody>\n",
       "    <tr>\n",
       "      <th>0</th>\n",
       "      <td>7927b2df-8bba-4d29-b9a2-b6e0beafe620</td>\n",
       "      <td>660737</td>\n",
       "      <td>API</td>\n",
       "      <td>Olark Chat</td>\n",
       "      <td>No</td>\n",
       "      <td>No</td>\n",
       "      <td>0</td>\n",
       "      <td>0.00</td>\n",
       "      <td>0</td>\n",
       "      <td>0.00</td>\n",
       "      <td>...</td>\n",
       "      <td>No</td>\n",
       "      <td>Select</td>\n",
       "      <td>Select</td>\n",
       "      <td>02.Medium</td>\n",
       "      <td>02.Medium</td>\n",
       "      <td>15.00</td>\n",
       "      <td>15.00</td>\n",
       "      <td>No</td>\n",
       "      <td>No</td>\n",
       "      <td>Modified</td>\n",
       "    </tr>\n",
       "    <tr>\n",
       "      <th>1</th>\n",
       "      <td>2a272436-5132-4136-86fa-dcc88c88f482</td>\n",
       "      <td>660728</td>\n",
       "      <td>API</td>\n",
       "      <td>Organic Search</td>\n",
       "      <td>No</td>\n",
       "      <td>No</td>\n",
       "      <td>0</td>\n",
       "      <td>5.00</td>\n",
       "      <td>674</td>\n",
       "      <td>2.50</td>\n",
       "      <td>...</td>\n",
       "      <td>No</td>\n",
       "      <td>Select</td>\n",
       "      <td>Select</td>\n",
       "      <td>02.Medium</td>\n",
       "      <td>02.Medium</td>\n",
       "      <td>15.00</td>\n",
       "      <td>15.00</td>\n",
       "      <td>No</td>\n",
       "      <td>No</td>\n",
       "      <td>Email Opened</td>\n",
       "    </tr>\n",
       "    <tr>\n",
       "      <th>2</th>\n",
       "      <td>8cc8c611-a219-4f35-ad23-fdfd2656bd8a</td>\n",
       "      <td>660727</td>\n",
       "      <td>Landing Page Submission</td>\n",
       "      <td>Direct Traffic</td>\n",
       "      <td>No</td>\n",
       "      <td>No</td>\n",
       "      <td>1</td>\n",
       "      <td>2.00</td>\n",
       "      <td>1532</td>\n",
       "      <td>2.00</td>\n",
       "      <td>...</td>\n",
       "      <td>No</td>\n",
       "      <td>Potential Lead</td>\n",
       "      <td>Mumbai</td>\n",
       "      <td>02.Medium</td>\n",
       "      <td>01.High</td>\n",
       "      <td>14.00</td>\n",
       "      <td>20.00</td>\n",
       "      <td>No</td>\n",
       "      <td>Yes</td>\n",
       "      <td>Email Opened</td>\n",
       "    </tr>\n",
       "    <tr>\n",
       "      <th>3</th>\n",
       "      <td>0cc2df48-7cf4-4e39-9de9-19797f9b38cc</td>\n",
       "      <td>660719</td>\n",
       "      <td>Landing Page Submission</td>\n",
       "      <td>Direct Traffic</td>\n",
       "      <td>No</td>\n",
       "      <td>No</td>\n",
       "      <td>0</td>\n",
       "      <td>1.00</td>\n",
       "      <td>305</td>\n",
       "      <td>1.00</td>\n",
       "      <td>...</td>\n",
       "      <td>No</td>\n",
       "      <td>Select</td>\n",
       "      <td>Mumbai</td>\n",
       "      <td>02.Medium</td>\n",
       "      <td>01.High</td>\n",
       "      <td>13.00</td>\n",
       "      <td>17.00</td>\n",
       "      <td>No</td>\n",
       "      <td>No</td>\n",
       "      <td>Modified</td>\n",
       "    </tr>\n",
       "    <tr>\n",
       "      <th>4</th>\n",
       "      <td>3256f628-e534-4826-9d63-4a8b88782852</td>\n",
       "      <td>660681</td>\n",
       "      <td>Landing Page Submission</td>\n",
       "      <td>Google</td>\n",
       "      <td>No</td>\n",
       "      <td>No</td>\n",
       "      <td>1</td>\n",
       "      <td>2.00</td>\n",
       "      <td>1428</td>\n",
       "      <td>1.00</td>\n",
       "      <td>...</td>\n",
       "      <td>No</td>\n",
       "      <td>Select</td>\n",
       "      <td>Mumbai</td>\n",
       "      <td>02.Medium</td>\n",
       "      <td>01.High</td>\n",
       "      <td>15.00</td>\n",
       "      <td>18.00</td>\n",
       "      <td>No</td>\n",
       "      <td>No</td>\n",
       "      <td>Modified</td>\n",
       "    </tr>\n",
       "  </tbody>\n",
       "</table>\n",
       "<p>5 rows × 37 columns</p>\n",
       "</div>"
      ],
      "text/plain": [
       "                            Prospect ID  Lead Number              Lead Origin  \\\n",
       "0  7927b2df-8bba-4d29-b9a2-b6e0beafe620       660737                      API   \n",
       "1  2a272436-5132-4136-86fa-dcc88c88f482       660728                      API   \n",
       "2  8cc8c611-a219-4f35-ad23-fdfd2656bd8a       660727  Landing Page Submission   \n",
       "3  0cc2df48-7cf4-4e39-9de9-19797f9b38cc       660719  Landing Page Submission   \n",
       "4  3256f628-e534-4826-9d63-4a8b88782852       660681  Landing Page Submission   \n",
       "\n",
       "      Lead Source Do Not Email Do Not Call  Converted  TotalVisits  \\\n",
       "0      Olark Chat           No          No          0         0.00   \n",
       "1  Organic Search           No          No          0         5.00   \n",
       "2  Direct Traffic           No          No          1         2.00   \n",
       "3  Direct Traffic           No          No          0         1.00   \n",
       "4          Google           No          No          1         2.00   \n",
       "\n",
       "   Total Time Spent on Website  Page Views Per Visit  ...  \\\n",
       "0                            0                  0.00  ...   \n",
       "1                          674                  2.50  ...   \n",
       "2                         1532                  2.00  ...   \n",
       "3                          305                  1.00  ...   \n",
       "4                         1428                  1.00  ...   \n",
       "\n",
       "  Get updates on DM Content    Lead Profile    City  \\\n",
       "0                        No          Select  Select   \n",
       "1                        No          Select  Select   \n",
       "2                        No  Potential Lead  Mumbai   \n",
       "3                        No          Select  Mumbai   \n",
       "4                        No          Select  Mumbai   \n",
       "\n",
       "  Asymmetrique Activity Index Asymmetrique Profile Index  \\\n",
       "0                   02.Medium                  02.Medium   \n",
       "1                   02.Medium                  02.Medium   \n",
       "2                   02.Medium                    01.High   \n",
       "3                   02.Medium                    01.High   \n",
       "4                   02.Medium                    01.High   \n",
       "\n",
       "  Asymmetrique Activity Score Asymmetrique Profile Score  \\\n",
       "0                       15.00                      15.00   \n",
       "1                       15.00                      15.00   \n",
       "2                       14.00                      20.00   \n",
       "3                       13.00                      17.00   \n",
       "4                       15.00                      18.00   \n",
       "\n",
       "  I agree to pay the amount through cheque  \\\n",
       "0                                       No   \n",
       "1                                       No   \n",
       "2                                       No   \n",
       "3                                       No   \n",
       "4                                       No   \n",
       "\n",
       "  A free copy of Mastering The Interview Last Notable Activity  \n",
       "0                                     No              Modified  \n",
       "1                                     No          Email Opened  \n",
       "2                                    Yes          Email Opened  \n",
       "3                                     No              Modified  \n",
       "4                                     No              Modified  \n",
       "\n",
       "[5 rows x 37 columns]"
      ]
     },
     "execution_count": 1160,
     "metadata": {},
     "output_type": "execute_result"
    }
   ],
   "source": [
    "leads = pd.read_csv(\"Leads.csv\")\n",
    "leads.head()"
   ]
  },
  {
   "cell_type": "markdown",
   "metadata": {},
   "source": [
    "### 2.1 Inspecting the dataframe"
   ]
  },
  {
   "cell_type": "code",
   "execution_count": 1161,
   "metadata": {},
   "outputs": [
    {
     "data": {
      "text/plain": [
       "Landing Page Submission    4886\n",
       "API                        3580\n",
       "Lead Add Form               718\n",
       "Lead Import                  55\n",
       "Quick Add Form                1\n",
       "Name: Lead Origin, dtype: int64"
      ]
     },
     "execution_count": 1161,
     "metadata": {},
     "output_type": "execute_result"
    }
   ],
   "source": [
    "leads['Lead Origin'].value_counts()"
   ]
  },
  {
   "cell_type": "code",
   "execution_count": 1162,
   "metadata": {},
   "outputs": [
    {
     "name": "stdout",
     "output_type": "stream",
     "text": [
      "<class 'pandas.core.frame.DataFrame'>\n",
      "RangeIndex: 9240 entries, 0 to 9239\n",
      "Data columns (total 37 columns):\n",
      " #   Column                                         Non-Null Count  Dtype  \n",
      "---  ------                                         --------------  -----  \n",
      " 0   Prospect ID                                    9240 non-null   object \n",
      " 1   Lead Number                                    9240 non-null   int64  \n",
      " 2   Lead Origin                                    9240 non-null   object \n",
      " 3   Lead Source                                    9204 non-null   object \n",
      " 4   Do Not Email                                   9240 non-null   object \n",
      " 5   Do Not Call                                    9240 non-null   object \n",
      " 6   Converted                                      9240 non-null   int64  \n",
      " 7   TotalVisits                                    9103 non-null   float64\n",
      " 8   Total Time Spent on Website                    9240 non-null   int64  \n",
      " 9   Page Views Per Visit                           9103 non-null   float64\n",
      " 10  Last Activity                                  9137 non-null   object \n",
      " 11  Country                                        6779 non-null   object \n",
      " 12  Specialization                                 7802 non-null   object \n",
      " 13  How did you hear about X Education             7033 non-null   object \n",
      " 14  What is your current occupation                6550 non-null   object \n",
      " 15  What matters most to you in choosing a course  6531 non-null   object \n",
      " 16  Search                                         9240 non-null   object \n",
      " 17  Magazine                                       9240 non-null   object \n",
      " 18  Newspaper Article                              9240 non-null   object \n",
      " 19  X Education Forums                             9240 non-null   object \n",
      " 20  Newspaper                                      9240 non-null   object \n",
      " 21  Digital Advertisement                          9240 non-null   object \n",
      " 22  Through Recommendations                        9240 non-null   object \n",
      " 23  Receive More Updates About Our Courses         9240 non-null   object \n",
      " 24  Tags                                           5887 non-null   object \n",
      " 25  Lead Quality                                   4473 non-null   object \n",
      " 26  Update me on Supply Chain Content              9240 non-null   object \n",
      " 27  Get updates on DM Content                      9240 non-null   object \n",
      " 28  Lead Profile                                   6531 non-null   object \n",
      " 29  City                                           7820 non-null   object \n",
      " 30  Asymmetrique Activity Index                    5022 non-null   object \n",
      " 31  Asymmetrique Profile Index                     5022 non-null   object \n",
      " 32  Asymmetrique Activity Score                    5022 non-null   float64\n",
      " 33  Asymmetrique Profile Score                     5022 non-null   float64\n",
      " 34  I agree to pay the amount through cheque       9240 non-null   object \n",
      " 35  A free copy of Mastering The Interview         9240 non-null   object \n",
      " 36  Last Notable Activity                          9240 non-null   object \n",
      "dtypes: float64(4), int64(3), object(30)\n",
      "memory usage: 2.6+ MB\n"
     ]
    }
   ],
   "source": [
    "leads.info()"
   ]
  },
  {
   "cell_type": "markdown",
   "metadata": {},
   "source": [
    "There arer some null values "
   ]
  },
  {
   "cell_type": "code",
   "execution_count": 1163,
   "metadata": {},
   "outputs": [
    {
     "data": {
      "text/plain": [
       "(9240, 37)"
      ]
     },
     "execution_count": 1163,
     "metadata": {},
     "output_type": "execute_result"
    }
   ],
   "source": [
    "leads.shape"
   ]
  },
  {
   "cell_type": "markdown",
   "metadata": {},
   "source": [
    "## 3. Data Cleaning "
   ]
  },
  {
   "cell_type": "code",
   "execution_count": 1164,
   "metadata": {},
   "outputs": [
    {
     "data": {
      "text/plain": [
       "True"
      ]
     },
     "execution_count": 1164,
     "metadata": {},
     "output_type": "execute_result"
    }
   ],
   "source": [
    "# Checking duplicate rows\n",
    "sum(leads.duplicated(subset = 'Lead Number')) == 0\n"
   ]
  },
  {
   "cell_type": "markdown",
   "metadata": {},
   "source": [
    "There are No duplicate values in Dataset. Lead Number is a number assigned to each lead procured."
   ]
  },
  {
   "cell_type": "code",
   "execution_count": 1165,
   "metadata": {},
   "outputs": [
    {
     "data": {
      "text/plain": [
       "Lead Quality                                    51.59\n",
       "Asymmetrique Profile Score                      45.65\n",
       "Asymmetrique Activity Score                     45.65\n",
       "Asymmetrique Profile Index                      45.65\n",
       "Asymmetrique Activity Index                     45.65\n",
       "Tags                                            36.29\n",
       "What matters most to you in choosing a course   29.32\n",
       "Lead Profile                                    29.32\n",
       "What is your current occupation                 29.11\n",
       "Country                                         26.63\n",
       "How did you hear about X Education              23.89\n",
       "Specialization                                  15.56\n",
       "City                                            15.37\n",
       "TotalVisits                                      1.48\n",
       "Page Views Per Visit                             1.48\n",
       "Last Activity                                    1.11\n",
       "Lead Source                                      0.39\n",
       "Do Not Email                                     0.00\n",
       "Do Not Call                                      0.00\n",
       "Converted                                        0.00\n",
       "Total Time Spent on Website                      0.00\n",
       "Lead Origin                                      0.00\n",
       "Lead Number                                      0.00\n",
       "Last Notable Activity                            0.00\n",
       "Newspaper Article                                0.00\n",
       "Search                                           0.00\n",
       "Magazine                                         0.00\n",
       "A free copy of Mastering The Interview           0.00\n",
       "X Education Forums                               0.00\n",
       "Newspaper                                        0.00\n",
       "Digital Advertisement                            0.00\n",
       "Through Recommendations                          0.00\n",
       "Receive More Updates About Our Courses           0.00\n",
       "Update me on Supply Chain Content                0.00\n",
       "Get updates on DM Content                        0.00\n",
       "I agree to pay the amount through cheque         0.00\n",
       "Prospect ID                                      0.00\n",
       "dtype: float64"
      ]
     },
     "execution_count": 1165,
     "metadata": {},
     "output_type": "execute_result"
    }
   ],
   "source": [
    "# Checking Percentage null values in every column\n",
    "\n",
    "round(100*(leads.isnull().sum()/len(leads)),2).sort_values(ascending=False)"
   ]
  },
  {
   "cell_type": "code",
   "execution_count": 1166,
   "metadata": {},
   "outputs": [],
   "source": [
    "### Checking for Select in columns and imputing it with null.\n",
    "\n",
    "listselect = ['Specialization','Lead Profile','City','How did you hear about X Education']\n",
    "leads[leads[listselect] == 'Select'] = np.nan"
   ]
  },
  {
   "cell_type": "code",
   "execution_count": 1167,
   "metadata": {},
   "outputs": [
    {
     "data": {
      "text/plain": [
       "How did you hear about X Education              78.46\n",
       "Lead Profile                                    74.19\n",
       "Lead Quality                                    51.59\n",
       "Asymmetrique Profile Score                      45.65\n",
       "Asymmetrique Activity Score                     45.65\n",
       "Asymmetrique Profile Index                      45.65\n",
       "Asymmetrique Activity Index                     45.65\n",
       "City                                            39.71\n",
       "Specialization                                  36.58\n",
       "Tags                                            36.29\n",
       "What matters most to you in choosing a course   29.32\n",
       "What is your current occupation                 29.11\n",
       "Country                                         26.63\n",
       "TotalVisits                                      1.48\n",
       "Page Views Per Visit                             1.48\n",
       "Last Activity                                    1.11\n",
       "Lead Source                                      0.39\n",
       "Lead Origin                                      0.00\n",
       "Lead Number                                      0.00\n",
       "Do Not Email                                     0.00\n",
       "Do Not Call                                      0.00\n",
       "Converted                                        0.00\n",
       "Total Time Spent on Website                      0.00\n",
       "Last Notable Activity                            0.00\n",
       "Newspaper Article                                0.00\n",
       "Search                                           0.00\n",
       "Magazine                                         0.00\n",
       "A free copy of Mastering The Interview           0.00\n",
       "X Education Forums                               0.00\n",
       "Newspaper                                        0.00\n",
       "Digital Advertisement                            0.00\n",
       "Through Recommendations                          0.00\n",
       "Receive More Updates About Our Courses           0.00\n",
       "Update me on Supply Chain Content                0.00\n",
       "Get updates on DM Content                        0.00\n",
       "I agree to pay the amount through cheque         0.00\n",
       "Prospect ID                                      0.00\n",
       "dtype: float64"
      ]
     },
     "execution_count": 1167,
     "metadata": {},
     "output_type": "execute_result"
    }
   ],
   "source": [
    "round(100*(leads.isnull().sum()/len(leads)),2).sort_values(ascending=False)"
   ]
  },
  {
   "cell_type": "markdown",
   "metadata": {},
   "source": [
    "The Number of missing values have increased. "
   ]
  },
  {
   "cell_type": "markdown",
   "metadata": {},
   "source": [
    "### 3.1 Dropping columns "
   ]
  },
  {
   "cell_type": "markdown",
   "metadata": {},
   "source": [
    "How did you hear about X education has too many null values. It is best to drop it. "
   ]
  },
  {
   "cell_type": "code",
   "execution_count": 1168,
   "metadata": {},
   "outputs": [],
   "source": [
    "leads = leads.drop(['How did you hear about X Education'], axis = 1)"
   ]
  },
  {
   "cell_type": "code",
   "execution_count": 1169,
   "metadata": {},
   "outputs": [
    {
     "data": {
      "text/plain": [
       "Potential Lead                67.63\n",
       "Other Leads                   20.42\n",
       "Student of SomeSchool         10.10\n",
       "Lateral Student                1.01\n",
       "Dual Specialization Student    0.84\n",
       "Name: Lead Profile, dtype: float64"
      ]
     },
     "execution_count": 1169,
     "metadata": {},
     "output_type": "execute_result"
    }
   ],
   "source": [
    "##Checking the contents of Lead Profile\n",
    "\n",
    "leads['Lead Profile'].value_counts(normalize = True)*100"
   ]
  },
  {
   "cell_type": "markdown",
   "metadata": {},
   "source": [
    "This seems to be a sales team generated variable. Also it has very high missing values. This can be dropped and dropping it wont impact the model"
   ]
  },
  {
   "cell_type": "code",
   "execution_count": 1170,
   "metadata": {},
   "outputs": [],
   "source": [
    "leads = leads.drop('Lead Profile', axis = 1)"
   ]
  },
  {
   "cell_type": "code",
   "execution_count": 1171,
   "metadata": {},
   "outputs": [
    {
     "data": {
      "text/plain": [
       "Might be             1560\n",
       "Not Sure             1092\n",
       "High in Relevance     637\n",
       "Worst                 601\n",
       "Low in Relevance      583\n",
       "Name: Lead Quality, dtype: int64"
      ]
     },
     "execution_count": 1171,
     "metadata": {},
     "output_type": "execute_result"
    }
   ],
   "source": [
    "## Checking the contents of Lead Quality\n",
    "\n",
    "leads['Lead Quality'].value_counts()"
   ]
  },
  {
   "cell_type": "markdown",
   "metadata": {},
   "source": [
    "This also seems to be a sales team generated variable. Also it has very high missing values. This can be dropped and dropping it wont impact the model"
   ]
  },
  {
   "cell_type": "code",
   "execution_count": 1172,
   "metadata": {},
   "outputs": [],
   "source": [
    "leads = leads.drop('Lead Quality', axis = 1)"
   ]
  },
  {
   "cell_type": "markdown",
   "metadata": {},
   "source": [
    "Asymmetrique Profile Score, Asymmetrique Activity Score, Asymmetrique Profile Index,Asymmetrique Activity Index are all sales team generated scores. They can be dropped. They have high number of missing values too. "
   ]
  },
  {
   "cell_type": "code",
   "execution_count": 1173,
   "metadata": {},
   "outputs": [],
   "source": [
    "leads = leads.drop(['Asymmetrique Profile Score','Asymmetrique Activity Score','Asymmetrique Profile Index','Asymmetrique Activity Index'], axis =1)         "
   ]
  },
  {
   "cell_type": "code",
   "execution_count": 1174,
   "metadata": {},
   "outputs": [],
   "source": [
    "#Remove columns which has only one unique value\n",
    "\n",
    "\"\"\"\n",
    "Deleting the following columns as they have only one unique value and hence cannot be responsible in predicting a successful lead case\n",
    "\n",
    "Magazine\n",
    "Receive More Updates About Our Courses\n",
    "Update me on Supply Chain Content\n",
    "I agree to pay the amount through cheque\n",
    "\"\"\"   \n",
    "columns_to_drop=['Magazine','Receive More Updates About Our Courses','Update me on Supply Chain Content','I agree to pay the amount through cheque']\n",
    "leads= leads.drop(columns_to_drop,axis=1)"
   ]
  },
  {
   "cell_type": "markdown",
   "metadata": {},
   "source": [
    "### 3.2 Checking for skewed columns"
   ]
  },
  {
   "cell_type": "code",
   "execution_count": 1175,
   "metadata": {},
   "outputs": [
    {
     "data": {
      "text/plain": [
       "No    99.98\n",
       "Yes    0.02\n",
       "Name: Newspaper Article, dtype: float64"
      ]
     },
     "execution_count": 1175,
     "metadata": {},
     "output_type": "execute_result"
    }
   ],
   "source": [
    "leads['Newspaper Article'].value_counts(normalize = True)*100"
   ]
  },
  {
   "cell_type": "code",
   "execution_count": 1176,
   "metadata": {},
   "outputs": [
    {
     "data": {
      "text/plain": [
       "No    99.99\n",
       "Yes    0.01\n",
       "Name: X Education Forums, dtype: float64"
      ]
     },
     "execution_count": 1176,
     "metadata": {},
     "output_type": "execute_result"
    }
   ],
   "source": [
    "leads['X Education Forums'].value_counts(normalize = True)*100"
   ]
  },
  {
   "cell_type": "code",
   "execution_count": 1177,
   "metadata": {},
   "outputs": [
    {
     "data": {
      "text/plain": [
       "No    99.96\n",
       "Yes    0.04\n",
       "Name: Digital Advertisement, dtype: float64"
      ]
     },
     "execution_count": 1177,
     "metadata": {},
     "output_type": "execute_result"
    }
   ],
   "source": [
    "leads['Digital Advertisement'].value_counts(normalize = True)*100"
   ]
  },
  {
   "cell_type": "code",
   "execution_count": 1178,
   "metadata": {},
   "outputs": [
    {
     "data": {
      "text/plain": [
       "No   100.00\n",
       "Name: Get updates on DM Content, dtype: float64"
      ]
     },
     "execution_count": 1178,
     "metadata": {},
     "output_type": "execute_result"
    }
   ],
   "source": [
    "leads['Get updates on DM Content'].value_counts(normalize = True)*100"
   ]
  },
  {
   "cell_type": "code",
   "execution_count": 1179,
   "metadata": {},
   "outputs": [
    {
     "data": {
      "text/plain": [
       "No    99.85\n",
       "Yes    0.15\n",
       "Name: Search, dtype: float64"
      ]
     },
     "execution_count": 1179,
     "metadata": {},
     "output_type": "execute_result"
    }
   ],
   "source": [
    "leads['Search'].value_counts(normalize = True)*100"
   ]
  },
  {
   "cell_type": "code",
   "execution_count": 1180,
   "metadata": {},
   "outputs": [
    {
     "data": {
      "text/plain": [
       "No    99.99\n",
       "Yes    0.01\n",
       "Name: Newspaper, dtype: float64"
      ]
     },
     "execution_count": 1180,
     "metadata": {},
     "output_type": "execute_result"
    }
   ],
   "source": [
    "leads['Newspaper'].value_counts(normalize = True)*100"
   ]
  },
  {
   "cell_type": "code",
   "execution_count": 1181,
   "metadata": {},
   "outputs": [
    {
     "data": {
      "text/plain": [
       "No    99.98\n",
       "Yes    0.02\n",
       "Name: Do Not Call, dtype: float64"
      ]
     },
     "execution_count": 1181,
     "metadata": {},
     "output_type": "execute_result"
    }
   ],
   "source": [
    "leads['Do Not Call'].value_counts(normalize = True)*100"
   ]
  },
  {
   "cell_type": "code",
   "execution_count": 1182,
   "metadata": {},
   "outputs": [
    {
     "data": {
      "text/plain": [
       "No    99.92\n",
       "Yes    0.08\n",
       "Name: Through Recommendations, dtype: float64"
      ]
     },
     "execution_count": 1182,
     "metadata": {},
     "output_type": "execute_result"
    }
   ],
   "source": [
    "leads['Through Recommendations'].value_counts(normalize = True)*100"
   ]
  },
  {
   "cell_type": "markdown",
   "metadata": {},
   "source": [
    "The above columns have very skewed data. They need to be dropped. "
   ]
  },
  {
   "cell_type": "code",
   "execution_count": 1183,
   "metadata": {},
   "outputs": [],
   "source": [
    "leads = leads.drop(['Do Not Call','Get updates on DM Content','Digital Advertisement','Newspaper Article','X Education Forums','Through Recommendations','Search','Newspaper'], axis = 1)"
   ]
  },
  {
   "cell_type": "code",
   "execution_count": 1184,
   "metadata": {},
   "outputs": [
    {
     "data": {
      "text/plain": [
       "Better Career Prospects     99.95\n",
       "Flexibility & Convenience    0.03\n",
       "Other                        0.02\n",
       "Name: What matters most to you in choosing a course, dtype: float64"
      ]
     },
     "execution_count": 1184,
     "metadata": {},
     "output_type": "execute_result"
    }
   ],
   "source": [
    "leads['What matters most to you in choosing a course'].value_counts(normalize = True)*100"
   ]
  },
  {
   "cell_type": "code",
   "execution_count": 1185,
   "metadata": {
    "scrolled": true
   },
   "outputs": [
    {
     "data": {
      "text/plain": [
       "No    92.06\n",
       "Yes    7.94\n",
       "Name: Do Not Email, dtype: float64"
      ]
     },
     "execution_count": 1185,
     "metadata": {},
     "output_type": "execute_result"
    }
   ],
   "source": [
    "leads['Do Not Email'].value_counts(normalize = True)*100"
   ]
  },
  {
   "cell_type": "markdown",
   "metadata": {},
   "source": [
    "Very skewed data, Columns are best dropped. "
   ]
  },
  {
   "cell_type": "code",
   "execution_count": 1186,
   "metadata": {},
   "outputs": [],
   "source": [
    "leads= leads.drop(['What matters most to you in choosing a course','Do Not Email'], axis = 1)"
   ]
  },
  {
   "cell_type": "markdown",
   "metadata": {},
   "source": [
    "Tags is also a sales team generated variable. It can be removed. "
   ]
  },
  {
   "cell_type": "code",
   "execution_count": 1187,
   "metadata": {},
   "outputs": [],
   "source": [
    "leads = leads.drop('Tags', axis =1)"
   ]
  },
  {
   "cell_type": "code",
   "execution_count": 1188,
   "metadata": {},
   "outputs": [
    {
     "data": {
      "text/plain": [
       "City                                     39.71\n",
       "Specialization                           36.58\n",
       "What is your current occupation          29.11\n",
       "Country                                  26.63\n",
       "Page Views Per Visit                      1.48\n",
       "TotalVisits                               1.48\n",
       "Last Activity                             1.11\n",
       "Lead Source                               0.39\n",
       "Last Notable Activity                     0.00\n",
       "A free copy of Mastering The Interview    0.00\n",
       "Total Time Spent on Website               0.00\n",
       "Converted                                 0.00\n",
       "Lead Origin                               0.00\n",
       "Lead Number                               0.00\n",
       "Prospect ID                               0.00\n",
       "dtype: float64"
      ]
     },
     "execution_count": 1188,
     "metadata": {},
     "output_type": "execute_result"
    }
   ],
   "source": [
    "round(100*(leads.isnull().sum()/len(leads)),2).sort_values(ascending=False)"
   ]
  },
  {
   "cell_type": "code",
   "execution_count": 1189,
   "metadata": {
    "scrolled": false
   },
   "outputs": [
    {
     "data": {
      "text/html": [
       "<div>\n",
       "<style scoped>\n",
       "    .dataframe tbody tr th:only-of-type {\n",
       "        vertical-align: middle;\n",
       "    }\n",
       "\n",
       "    .dataframe tbody tr th {\n",
       "        vertical-align: top;\n",
       "    }\n",
       "\n",
       "    .dataframe thead th {\n",
       "        text-align: right;\n",
       "    }\n",
       "</style>\n",
       "<table border=\"1\" class=\"dataframe\">\n",
       "  <thead>\n",
       "    <tr style=\"text-align: right;\">\n",
       "      <th></th>\n",
       "      <th>Lead Origin</th>\n",
       "      <th>Lead Source</th>\n",
       "      <th>Converted</th>\n",
       "      <th>TotalVisits</th>\n",
       "      <th>Total Time Spent on Website</th>\n",
       "      <th>Page Views Per Visit</th>\n",
       "      <th>Last Activity</th>\n",
       "      <th>Country</th>\n",
       "      <th>Specialization</th>\n",
       "      <th>What is your current occupation</th>\n",
       "      <th>City</th>\n",
       "      <th>A free copy of Mastering The Interview</th>\n",
       "      <th>Last Notable Activity</th>\n",
       "    </tr>\n",
       "    <tr>\n",
       "      <th>Lead Number</th>\n",
       "      <th></th>\n",
       "      <th></th>\n",
       "      <th></th>\n",
       "      <th></th>\n",
       "      <th></th>\n",
       "      <th></th>\n",
       "      <th></th>\n",
       "      <th></th>\n",
       "      <th></th>\n",
       "      <th></th>\n",
       "      <th></th>\n",
       "      <th></th>\n",
       "      <th></th>\n",
       "    </tr>\n",
       "  </thead>\n",
       "  <tbody>\n",
       "    <tr>\n",
       "      <th>660737</th>\n",
       "      <td>API</td>\n",
       "      <td>Olark Chat</td>\n",
       "      <td>0</td>\n",
       "      <td>0.00</td>\n",
       "      <td>0</td>\n",
       "      <td>0.00</td>\n",
       "      <td>Page Visited on Website</td>\n",
       "      <td>NaN</td>\n",
       "      <td>NaN</td>\n",
       "      <td>Unemployed</td>\n",
       "      <td>NaN</td>\n",
       "      <td>No</td>\n",
       "      <td>Modified</td>\n",
       "    </tr>\n",
       "    <tr>\n",
       "      <th>660728</th>\n",
       "      <td>API</td>\n",
       "      <td>Organic Search</td>\n",
       "      <td>0</td>\n",
       "      <td>5.00</td>\n",
       "      <td>674</td>\n",
       "      <td>2.50</td>\n",
       "      <td>Email Opened</td>\n",
       "      <td>India</td>\n",
       "      <td>NaN</td>\n",
       "      <td>Unemployed</td>\n",
       "      <td>NaN</td>\n",
       "      <td>No</td>\n",
       "      <td>Email Opened</td>\n",
       "    </tr>\n",
       "    <tr>\n",
       "      <th>660727</th>\n",
       "      <td>Landing Page Submission</td>\n",
       "      <td>Direct Traffic</td>\n",
       "      <td>1</td>\n",
       "      <td>2.00</td>\n",
       "      <td>1532</td>\n",
       "      <td>2.00</td>\n",
       "      <td>Email Opened</td>\n",
       "      <td>India</td>\n",
       "      <td>Business Administration</td>\n",
       "      <td>Student</td>\n",
       "      <td>Mumbai</td>\n",
       "      <td>Yes</td>\n",
       "      <td>Email Opened</td>\n",
       "    </tr>\n",
       "    <tr>\n",
       "      <th>660719</th>\n",
       "      <td>Landing Page Submission</td>\n",
       "      <td>Direct Traffic</td>\n",
       "      <td>0</td>\n",
       "      <td>1.00</td>\n",
       "      <td>305</td>\n",
       "      <td>1.00</td>\n",
       "      <td>Unreachable</td>\n",
       "      <td>India</td>\n",
       "      <td>Media and Advertising</td>\n",
       "      <td>Unemployed</td>\n",
       "      <td>Mumbai</td>\n",
       "      <td>No</td>\n",
       "      <td>Modified</td>\n",
       "    </tr>\n",
       "    <tr>\n",
       "      <th>660681</th>\n",
       "      <td>Landing Page Submission</td>\n",
       "      <td>Google</td>\n",
       "      <td>1</td>\n",
       "      <td>2.00</td>\n",
       "      <td>1428</td>\n",
       "      <td>1.00</td>\n",
       "      <td>Converted to Lead</td>\n",
       "      <td>India</td>\n",
       "      <td>NaN</td>\n",
       "      <td>Unemployed</td>\n",
       "      <td>Mumbai</td>\n",
       "      <td>No</td>\n",
       "      <td>Modified</td>\n",
       "    </tr>\n",
       "  </tbody>\n",
       "</table>\n",
       "</div>"
      ],
      "text/plain": [
       "                         Lead Origin     Lead Source  Converted  TotalVisits  \\\n",
       "Lead Number                                                                    \n",
       "660737                           API      Olark Chat          0         0.00   \n",
       "660728                           API  Organic Search          0         5.00   \n",
       "660727       Landing Page Submission  Direct Traffic          1         2.00   \n",
       "660719       Landing Page Submission  Direct Traffic          0         1.00   \n",
       "660681       Landing Page Submission          Google          1         2.00   \n",
       "\n",
       "             Total Time Spent on Website  Page Views Per Visit  \\\n",
       "Lead Number                                                      \n",
       "660737                                 0                  0.00   \n",
       "660728                               674                  2.50   \n",
       "660727                              1532                  2.00   \n",
       "660719                               305                  1.00   \n",
       "660681                              1428                  1.00   \n",
       "\n",
       "                       Last Activity Country           Specialization  \\\n",
       "Lead Number                                                             \n",
       "660737       Page Visited on Website     NaN                      NaN   \n",
       "660728                  Email Opened   India                      NaN   \n",
       "660727                  Email Opened   India  Business Administration   \n",
       "660719                   Unreachable   India    Media and Advertising   \n",
       "660681             Converted to Lead   India                      NaN   \n",
       "\n",
       "            What is your current occupation    City  \\\n",
       "Lead Number                                           \n",
       "660737                           Unemployed     NaN   \n",
       "660728                           Unemployed     NaN   \n",
       "660727                              Student  Mumbai   \n",
       "660719                           Unemployed  Mumbai   \n",
       "660681                           Unemployed  Mumbai   \n",
       "\n",
       "            A free copy of Mastering The Interview Last Notable Activity  \n",
       "Lead Number                                                               \n",
       "660737                                          No              Modified  \n",
       "660728                                          No          Email Opened  \n",
       "660727                                         Yes          Email Opened  \n",
       "660719                                          No              Modified  \n",
       "660681                                          No              Modified  "
      ]
     },
     "execution_count": 1189,
     "metadata": {},
     "output_type": "execute_result"
    }
   ],
   "source": [
    "leads = leads.drop('Prospect ID', axis=1) ## alphanumeric and has no significance to the model\n",
    "leads = leads.set_index('Lead Number') ## Lead Number is set index \n",
    "leads.head()"
   ]
  },
  {
   "cell_type": "code",
   "execution_count": 1190,
   "metadata": {},
   "outputs": [
    {
     "data": {
      "text/plain": [
       "(9240, 13)"
      ]
     },
     "execution_count": 1190,
     "metadata": {},
     "output_type": "execute_result"
    }
   ],
   "source": [
    "leads.shape"
   ]
  },
  {
   "cell_type": "markdown",
   "metadata": {},
   "source": [
    "### 3.3 Treating features and aggregating those with low percentage representation. "
   ]
  },
  {
   "cell_type": "code",
   "execution_count": 1191,
   "metadata": {},
   "outputs": [
    {
     "data": {
      "text/plain": [
       "39.70779220779221"
      ]
     },
     "execution_count": 1191,
     "metadata": {},
     "output_type": "execute_result"
    }
   ],
   "source": [
    "## treating City Feature\n",
    "leads['City'].isnull().sum()/len(leads)*100"
   ]
  },
  {
   "cell_type": "markdown",
   "metadata": {},
   "source": [
    "There are around 40% null values "
   ]
  },
  {
   "cell_type": "code",
   "execution_count": 1192,
   "metadata": {},
   "outputs": [
    {
     "data": {
      "text/plain": [
       "Unknown                       39.71\n",
       "Mumbai                        34.87\n",
       "Thane & Outskirts              8.14\n",
       "Other Cities                   7.42\n",
       "Other Cities of Maharashtra    4.95\n",
       "Other Metro Cities             4.11\n",
       "Tier II Cities                 0.80\n",
       "Name: City, dtype: float64"
      ]
     },
     "execution_count": 1192,
     "metadata": {},
     "output_type": "execute_result"
    }
   ],
   "source": [
    "leads['City'].fillna(\"Unknown\", inplace = True) \n",
    "leads['City'].value_counts(normalize = True)*100"
   ]
  },
  {
   "cell_type": "markdown",
   "metadata": {},
   "source": [
    "Null values are replaced with Unknown. Dropping 40% of data would lead to loss of important data and hence it is best to impute it. Further, the values which constitute less than 5% of values are clubbed together as \"Others\"."
   ]
  },
  {
   "cell_type": "code",
   "execution_count": 1193,
   "metadata": {},
   "outputs": [
    {
     "data": {
      "text/plain": [
       "Unknown             39.71\n",
       "Mumbai              34.87\n",
       "Others              17.28\n",
       "Thane & Outskirts    8.14\n",
       "Name: City, dtype: float64"
      ]
     },
     "execution_count": 1193,
     "metadata": {},
     "output_type": "execute_result"
    }
   ],
   "source": [
    "## adding all those below 5% as Others\n",
    "\n",
    "city = ['Other Cities of Maharashtra','Other Metro Cities','Tier II Cities','Other Cities']\n",
    "\n",
    "leads['City'].replace(city, 'Others', inplace =True)\n",
    "leads['City'].value_counts(normalize = True)*100"
   ]
  },
  {
   "cell_type": "code",
   "execution_count": 1194,
   "metadata": {},
   "outputs": [],
   "source": [
    "### Treating Specialization "
   ]
  },
  {
   "cell_type": "code",
   "execution_count": 1195,
   "metadata": {},
   "outputs": [
    {
     "data": {
      "text/plain": [
       "36.58008658008658"
      ]
     },
     "execution_count": 1195,
     "metadata": {},
     "output_type": "execute_result"
    }
   ],
   "source": [
    "leads['Specialization'].isnull().sum()/len(leads)*100"
   ]
  },
  {
   "cell_type": "markdown",
   "metadata": {},
   "source": [
    "There are aroudn 37% null values in Specialization "
   ]
  },
  {
   "cell_type": "code",
   "execution_count": 1196,
   "metadata": {},
   "outputs": [
    {
     "data": {
      "text/plain": [
       "Unknown                             36.58\n",
       "Finance Management                  10.56\n",
       "Human Resource Management            9.18\n",
       "Marketing Management                 9.07\n",
       "Operations Management                5.44\n",
       "Business Administration              4.36\n",
       "IT Projects Management               3.96\n",
       "Supply Chain Management              3.78\n",
       "Banking, Investment And Insurance    3.66\n",
       "Media and Advertising                2.20\n",
       "Travel and Tourism                   2.20\n",
       "International Business               1.93\n",
       "Healthcare Management                1.72\n",
       "Hospitality Management               1.23\n",
       "E-COMMERCE                           1.21\n",
       "Retail Management                    1.08\n",
       "Rural and Agribusiness               0.79\n",
       "E-Business                           0.62\n",
       "Services Excellence                  0.43\n",
       "Name: Specialization, dtype: float64"
      ]
     },
     "execution_count": 1196,
     "metadata": {},
     "output_type": "execute_result"
    }
   ],
   "source": [
    "leads['Specialization'].fillna(\"Unknown\", inplace = True)\n",
    "leads['Specialization'].value_counts(normalize = True)*100"
   ]
  },
  {
   "cell_type": "markdown",
   "metadata": {},
   "source": [
    "Clubbing all those below 5% as 'others'."
   ]
  },
  {
   "cell_type": "code",
   "execution_count": 1197,
   "metadata": {},
   "outputs": [
    {
     "data": {
      "text/plain": [
       "Unknown                     36.58\n",
       "Others                      29.17\n",
       "Finance Management          10.56\n",
       "Human Resource Management    9.18\n",
       "Marketing Management         9.07\n",
       "Operations Management        5.44\n",
       "Name: Specialization, dtype: float64"
      ]
     },
     "execution_count": 1197,
     "metadata": {},
     "output_type": "execute_result"
    }
   ],
   "source": [
    "spec = ['Business Administration','IT Projects Management','Supply Chain Management','Banking, Investment And Insurance','Media and Advertising',\n",
    "        'Travel and Tourism','International Business','Healthcare Management','Hospitality Management','E-COMMERCE','Retail Management',\n",
    "        'Rural and Agribusiness','E-Business','Services Excellence']\n",
    "        \n",
    "leads['Specialization'].replace(spec, 'Others', inplace =True)\n",
    "leads['Specialization'].value_counts(normalize = True)*100"
   ]
  },
  {
   "cell_type": "code",
   "execution_count": 1198,
   "metadata": {},
   "outputs": [],
   "source": [
    "## Treating Country"
   ]
  },
  {
   "cell_type": "markdown",
   "metadata": {},
   "source": [
    "To restrict our analysis, let's consider only two types of countries India and outside India."
   ]
  },
  {
   "cell_type": "code",
   "execution_count": 1199,
   "metadata": {},
   "outputs": [
    {
     "data": {
      "text/plain": [
       "India           70.26\n",
       "Outside India   29.74\n",
       "Name: Country, dtype: float64"
      ]
     },
     "execution_count": 1199,
     "metadata": {},
     "output_type": "execute_result"
    }
   ],
   "source": [
    "leads['Country'] = leads['Country'].apply(lambda x: 'India' if x=='India' else 'Outside India')\n",
    "leads['Country'].value_counts(normalize = True)*100"
   ]
  },
  {
   "cell_type": "code",
   "execution_count": 1200,
   "metadata": {
    "scrolled": true
   },
   "outputs": [
    {
     "data": {
      "text/plain": [
       "Email Opened                   37.62\n",
       "SMS Sent                       30.04\n",
       "Olark Chat Conversation        10.65\n",
       "Page Visited on Website         7.00\n",
       "Converted to Lead               4.68\n",
       "Email Bounced                   3.57\n",
       "Email Link Clicked              2.92\n",
       "Form Submitted on Website       1.27\n",
       "Unreachable                     1.02\n",
       "Unsubscribed                    0.67\n",
       "Had a Phone Conversation        0.33\n",
       "Approached upfront              0.10\n",
       "View in browser link Clicked    0.07\n",
       "Email Received                  0.02\n",
       "Email Marked Spam               0.02\n",
       "Resubscribed to emails          0.01\n",
       "Visited Booth in Tradeshow      0.01\n",
       "Name: Last Activity, dtype: float64"
      ]
     },
     "execution_count": 1200,
     "metadata": {},
     "output_type": "execute_result"
    }
   ],
   "source": [
    "### Inspecting Last Activity\n",
    "leads['Last Activity'].value_counts(normalize = True)*100"
   ]
  },
  {
   "cell_type": "markdown",
   "metadata": {},
   "source": [
    "Adding all those values below 5% as others"
   ]
  },
  {
   "cell_type": "code",
   "execution_count": 1201,
   "metadata": {},
   "outputs": [
    {
     "data": {
      "text/plain": [
       "Email Opened              37.62\n",
       "SMS Sent                  30.04\n",
       "Others                    14.69\n",
       "Olark Chat Conversation   10.65\n",
       "Page Visited on Website    7.00\n",
       "Name: Last Activity, dtype: float64"
      ]
     },
     "execution_count": 1201,
     "metadata": {},
     "output_type": "execute_result"
    }
   ],
   "source": [
    "activity = ['Converted to Lead','Email Bounced','Email Link Clicked','Form Submitted on Website','Unreachable',\n",
    "            'Unsubscribed','Had a Phone Conversation','Approached upfront','View in browser link Clicked',\n",
    "            'Email Received','Email Marked Spam','Visited Booth in Tradeshow','Resubscribed to emails']\n",
    "\n",
    "leads['Last Activity'].replace(activity, 'Others', inplace =True)\n",
    "leads['Last Activity'].value_counts(normalize = True)*100"
   ]
  },
  {
   "cell_type": "code",
   "execution_count": 1202,
   "metadata": {},
   "outputs": [],
   "source": [
    "## Treating What is your current occupation"
   ]
  },
  {
   "cell_type": "code",
   "execution_count": 1203,
   "metadata": {},
   "outputs": [
    {
     "data": {
      "text/plain": [
       "29.11255411255411"
      ]
     },
     "execution_count": 1203,
     "metadata": {},
     "output_type": "execute_result"
    }
   ],
   "source": [
    "leads['What is your current occupation'].isnull().sum()/len(leads)*100"
   ]
  },
  {
   "cell_type": "markdown",
   "metadata": {},
   "source": [
    "There are around 30% null values. They cannot be dropped as that will lead to a lot of loss of data. Neither can this column be dropped as it forms an important feature in the model building."
   ]
  },
  {
   "cell_type": "code",
   "execution_count": 1204,
   "metadata": {},
   "outputs": [
    {
     "data": {
      "text/plain": [
       "Unemployed             85.50\n",
       "Working Professional   10.78\n",
       "Student                 3.21\n",
       "Other                   0.24\n",
       "Housewife               0.15\n",
       "Businessman             0.12\n",
       "Name: What is your current occupation, dtype: float64"
      ]
     },
     "execution_count": 1204,
     "metadata": {},
     "output_type": "execute_result"
    }
   ],
   "source": [
    "## Checking the contents of this feature\n",
    "\n",
    "leads['What is your current occupation'].value_counts(normalize = True)*100"
   ]
  },
  {
   "cell_type": "markdown",
   "metadata": {},
   "source": [
    "Null values are hence replaced with Unknown."
   ]
  },
  {
   "cell_type": "code",
   "execution_count": 1205,
   "metadata": {},
   "outputs": [
    {
     "data": {
      "text/plain": [
       "Unemployed             60.61\n",
       "Unknown                29.11\n",
       "Working Professional    7.64\n",
       "Student                 2.27\n",
       "Other                   0.17\n",
       "Housewife               0.11\n",
       "Businessman             0.09\n",
       "Name: What is your current occupation, dtype: float64"
      ]
     },
     "execution_count": 1205,
     "metadata": {},
     "output_type": "execute_result"
    }
   ],
   "source": [
    "leads['What is your current occupation'].fillna(\"Unknown\", inplace = True)\n",
    "leads['What is your current occupation'].value_counts(normalize = True)*100"
   ]
  },
  {
   "cell_type": "markdown",
   "metadata": {},
   "source": [
    "Further all those entries with less than 5% are clubbed as \"Others\"\n"
   ]
  },
  {
   "cell_type": "code",
   "execution_count": 1206,
   "metadata": {},
   "outputs": [
    {
     "data": {
      "text/plain": [
       "Unemployed             60.61\n",
       "Unknown                29.11\n",
       "Working Professional    7.64\n",
       "Others                  2.64\n",
       "Name: What is your current occupation, dtype: float64"
      ]
     },
     "execution_count": 1206,
     "metadata": {},
     "output_type": "execute_result"
    }
   ],
   "source": [
    "occupation = ['Other','Housewife','Businessman','Student']\n",
    "leads['What is your current occupation'].replace(occupation, 'Others', inplace =True)\n",
    "leads['What is your current occupation'].value_counts(normalize = True)*100"
   ]
  },
  {
   "cell_type": "code",
   "execution_count": 1207,
   "metadata": {},
   "outputs": [],
   "source": [
    "### Treating Last Notable activity"
   ]
  },
  {
   "cell_type": "code",
   "execution_count": 1208,
   "metadata": {},
   "outputs": [
    {
     "data": {
      "text/plain": [
       "Modified                       36.87\n",
       "Email Opened                   30.60\n",
       "SMS Sent                       23.51\n",
       "Page Visited on Website         3.44\n",
       "Olark Chat Conversation         1.98\n",
       "Email Link Clicked              1.87\n",
       "Email Bounced                   0.65\n",
       "Unsubscribed                    0.51\n",
       "Unreachable                     0.35\n",
       "Had a Phone Conversation        0.15\n",
       "Email Marked Spam               0.02\n",
       "Approached upfront              0.01\n",
       "Form Submitted on Website       0.01\n",
       "View in browser link Clicked    0.01\n",
       "Resubscribed to emails          0.01\n",
       "Email Received                  0.01\n",
       "Name: Last Notable Activity, dtype: float64"
      ]
     },
     "execution_count": 1208,
     "metadata": {},
     "output_type": "execute_result"
    }
   ],
   "source": [
    "leads['Last Notable Activity'].value_counts(normalize = True)*100"
   ]
  },
  {
   "cell_type": "markdown",
   "metadata": {},
   "source": [
    "Combining all the Last notable entries below 5% as Others"
   ]
  },
  {
   "cell_type": "code",
   "execution_count": 1209,
   "metadata": {},
   "outputs": [
    {
     "data": {
      "text/plain": [
       "Modified       36.87\n",
       "Email Opened   30.60\n",
       "SMS Sent       23.51\n",
       "Others          9.03\n",
       "Name: Last Notable Activity, dtype: float64"
      ]
     },
     "execution_count": 1209,
     "metadata": {},
     "output_type": "execute_result"
    }
   ],
   "source": [
    "notable = ['Page Visited on Website','Olark Chat Conversation','Email Link Clicked','Email Bounced',\n",
    "           'Unsubscribed','Unreachable','Had a Phone Conversation',\n",
    "           'Email Marked Spam','View in browser link Clicked','Form Submitted on Website','Approached upfront',\n",
    "           'Resubscribed to emails','Email Received']\n",
    "leads['Last Notable Activity'].replace(notable, 'Others', inplace =True)\n",
    "leads['Last Notable Activity'].value_counts(normalize = True)*100\n"
   ]
  },
  {
   "cell_type": "code",
   "execution_count": 1210,
   "metadata": {},
   "outputs": [],
   "source": [
    "### Checking for null values after all the data cleaning process."
   ]
  },
  {
   "cell_type": "code",
   "execution_count": 1211,
   "metadata": {},
   "outputs": [
    {
     "data": {
      "text/plain": [
       "Lead Origin                              0.00\n",
       "Lead Source                              0.00\n",
       "Converted                                0.00\n",
       "TotalVisits                              1.00\n",
       "Total Time Spent on Website              0.00\n",
       "Page Views Per Visit                     1.00\n",
       "Last Activity                            1.00\n",
       "Country                                  0.00\n",
       "Specialization                           0.00\n",
       "What is your current occupation          0.00\n",
       "City                                     0.00\n",
       "A free copy of Mastering The Interview   0.00\n",
       "Last Notable Activity                    0.00\n",
       "dtype: float64"
      ]
     },
     "execution_count": 1211,
     "metadata": {},
     "output_type": "execute_result"
    }
   ],
   "source": [
    "round(leads.isnull().sum()/len(leads),2)*100"
   ]
  },
  {
   "cell_type": "markdown",
   "metadata": {},
   "source": [
    "### 3.4 Dropping rows with Null values and checking retention percentage"
   ]
  },
  {
   "cell_type": "code",
   "execution_count": 1212,
   "metadata": {},
   "outputs": [],
   "source": [
    "### remove the rows with null values"
   ]
  },
  {
   "cell_type": "code",
   "execution_count": 1213,
   "metadata": {},
   "outputs": [],
   "source": [
    "leads = leads.dropna(how='any',axis=0) "
   ]
  },
  {
   "cell_type": "code",
   "execution_count": 1214,
   "metadata": {},
   "outputs": [
    {
     "data": {
      "text/plain": [
       "98.2034632034632"
      ]
     },
     "execution_count": 1214,
     "metadata": {},
     "output_type": "execute_result"
    }
   ],
   "source": [
    "leads.shape[0]/9240*100"
   ]
  },
  {
   "cell_type": "markdown",
   "metadata": {},
   "source": [
    "98% of rows are retained. Only 2% were dropped. "
   ]
  },
  {
   "cell_type": "code",
   "execution_count": 1215,
   "metadata": {},
   "outputs": [
    {
     "data": {
      "text/plain": [
       "Lead Origin                                object\n",
       "Lead Source                                object\n",
       "Converted                                   int64\n",
       "TotalVisits                               float64\n",
       "Total Time Spent on Website                 int64\n",
       "Page Views Per Visit                      float64\n",
       "Last Activity                              object\n",
       "Country                                    object\n",
       "Specialization                             object\n",
       "What is your current occupation            object\n",
       "City                                       object\n",
       "A free copy of Mastering The Interview     object\n",
       "Last Notable Activity                      object\n",
       "dtype: object"
      ]
     },
     "execution_count": 1215,
     "metadata": {},
     "output_type": "execute_result"
    }
   ],
   "source": [
    "leads.dtypes"
   ]
  },
  {
   "cell_type": "markdown",
   "metadata": {},
   "source": [
    "All datatypes are correct"
   ]
  },
  {
   "cell_type": "code",
   "execution_count": 1216,
   "metadata": {},
   "outputs": [
    {
     "data": {
      "text/plain": [
       "False"
      ]
     },
     "execution_count": 1216,
     "metadata": {},
     "output_type": "execute_result"
    }
   ],
   "source": [
    "# Identifying if any row exists with only null values\n",
    "leads.isnull().all(axis=1).any()"
   ]
  },
  {
   "cell_type": "markdown",
   "metadata": {},
   "source": [
    "No row have all null values"
   ]
  },
  {
   "cell_type": "markdown",
   "metadata": {},
   "source": [
    "## 4. EDA"
   ]
  },
  {
   "cell_type": "markdown",
   "metadata": {},
   "source": [
    "### 4.1 Checking for Outliers"
   ]
  },
  {
   "cell_type": "code",
   "execution_count": 1217,
   "metadata": {},
   "outputs": [
    {
     "data": {
      "text/html": [
       "<div>\n",
       "<style scoped>\n",
       "    .dataframe tbody tr th:only-of-type {\n",
       "        vertical-align: middle;\n",
       "    }\n",
       "\n",
       "    .dataframe tbody tr th {\n",
       "        vertical-align: top;\n",
       "    }\n",
       "\n",
       "    .dataframe thead th {\n",
       "        text-align: right;\n",
       "    }\n",
       "</style>\n",
       "<table border=\"1\" class=\"dataframe\">\n",
       "  <thead>\n",
       "    <tr style=\"text-align: right;\">\n",
       "      <th></th>\n",
       "      <th>Converted</th>\n",
       "      <th>TotalVisits</th>\n",
       "      <th>Total Time Spent on Website</th>\n",
       "      <th>Page Views Per Visit</th>\n",
       "    </tr>\n",
       "  </thead>\n",
       "  <tbody>\n",
       "    <tr>\n",
       "      <th>count</th>\n",
       "      <td>9074.00</td>\n",
       "      <td>9074.00</td>\n",
       "      <td>9074.00</td>\n",
       "      <td>9074.00</td>\n",
       "    </tr>\n",
       "    <tr>\n",
       "      <th>mean</th>\n",
       "      <td>0.38</td>\n",
       "      <td>3.46</td>\n",
       "      <td>482.89</td>\n",
       "      <td>2.37</td>\n",
       "    </tr>\n",
       "    <tr>\n",
       "      <th>std</th>\n",
       "      <td>0.49</td>\n",
       "      <td>4.86</td>\n",
       "      <td>545.26</td>\n",
       "      <td>2.16</td>\n",
       "    </tr>\n",
       "    <tr>\n",
       "      <th>min</th>\n",
       "      <td>0.00</td>\n",
       "      <td>0.00</td>\n",
       "      <td>0.00</td>\n",
       "      <td>0.00</td>\n",
       "    </tr>\n",
       "    <tr>\n",
       "      <th>25%</th>\n",
       "      <td>0.00</td>\n",
       "      <td>1.00</td>\n",
       "      <td>11.00</td>\n",
       "      <td>1.00</td>\n",
       "    </tr>\n",
       "    <tr>\n",
       "      <th>50%</th>\n",
       "      <td>0.00</td>\n",
       "      <td>3.00</td>\n",
       "      <td>246.00</td>\n",
       "      <td>2.00</td>\n",
       "    </tr>\n",
       "    <tr>\n",
       "      <th>75%</th>\n",
       "      <td>1.00</td>\n",
       "      <td>5.00</td>\n",
       "      <td>922.75</td>\n",
       "      <td>3.20</td>\n",
       "    </tr>\n",
       "    <tr>\n",
       "      <th>90%</th>\n",
       "      <td>1.00</td>\n",
       "      <td>7.00</td>\n",
       "      <td>1373.00</td>\n",
       "      <td>5.00</td>\n",
       "    </tr>\n",
       "    <tr>\n",
       "      <th>95%</th>\n",
       "      <td>1.00</td>\n",
       "      <td>10.00</td>\n",
       "      <td>1557.00</td>\n",
       "      <td>6.00</td>\n",
       "    </tr>\n",
       "    <tr>\n",
       "      <th>99%</th>\n",
       "      <td>1.00</td>\n",
       "      <td>17.00</td>\n",
       "      <td>1839.00</td>\n",
       "      <td>9.00</td>\n",
       "    </tr>\n",
       "    <tr>\n",
       "      <th>max</th>\n",
       "      <td>1.00</td>\n",
       "      <td>251.00</td>\n",
       "      <td>2272.00</td>\n",
       "      <td>55.00</td>\n",
       "    </tr>\n",
       "  </tbody>\n",
       "</table>\n",
       "</div>"
      ],
      "text/plain": [
       "       Converted  TotalVisits  Total Time Spent on Website  \\\n",
       "count    9074.00      9074.00                      9074.00   \n",
       "mean        0.38         3.46                       482.89   \n",
       "std         0.49         4.86                       545.26   \n",
       "min         0.00         0.00                         0.00   \n",
       "25%         0.00         1.00                        11.00   \n",
       "50%         0.00         3.00                       246.00   \n",
       "75%         1.00         5.00                       922.75   \n",
       "90%         1.00         7.00                      1373.00   \n",
       "95%         1.00        10.00                      1557.00   \n",
       "99%         1.00        17.00                      1839.00   \n",
       "max         1.00       251.00                      2272.00   \n",
       "\n",
       "       Page Views Per Visit  \n",
       "count               9074.00  \n",
       "mean                   2.37  \n",
       "std                    2.16  \n",
       "min                    0.00  \n",
       "25%                    1.00  \n",
       "50%                    2.00  \n",
       "75%                    3.20  \n",
       "90%                    5.00  \n",
       "95%                    6.00  \n",
       "99%                    9.00  \n",
       "max                   55.00  "
      ]
     },
     "execution_count": 1217,
     "metadata": {},
     "output_type": "execute_result"
    }
   ],
   "source": [
    "leads.describe(percentiles=[ .25, .5, .75, .90, .95, .99])"
   ]
  },
  {
   "cell_type": "markdown",
   "metadata": {},
   "source": [
    "Total visits and Page views per visit have outliers on the higher range. There is an abrupt jump from 99% to the maximum value"
   ]
  },
  {
   "cell_type": "code",
   "execution_count": 1218,
   "metadata": {},
   "outputs": [],
   "source": [
    "### Inspecting all the numeric columns "
   ]
  },
  {
   "cell_type": "code",
   "execution_count": 1219,
   "metadata": {},
   "outputs": [
    {
     "data": {
      "text/plain": [
       "0   62.14\n",
       "1   37.86\n",
       "Name: Converted, dtype: float64"
      ]
     },
     "execution_count": 1219,
     "metadata": {},
     "output_type": "execute_result"
    }
   ],
   "source": [
    "leads.Converted.value_counts(normalize = True)*100"
   ]
  },
  {
   "cell_type": "markdown",
   "metadata": {},
   "source": [
    "38% were converted. This is the target column and doesnt need any processing. "
   ]
  },
  {
   "cell_type": "code",
   "execution_count": 1220,
   "metadata": {},
   "outputs": [],
   "source": [
    "### Inspecting TotalVisits"
   ]
  },
  {
   "cell_type": "code",
   "execution_count": 1221,
   "metadata": {},
   "outputs": [
    {
     "data": {
      "text/plain": [
       "<matplotlib.axes._subplots.AxesSubplot at 0x25305cab748>"
      ]
     },
     "execution_count": 1221,
     "metadata": {},
     "output_type": "execute_result"
    },
    {
     "data": {
      "image/png": "[encoded data removed]",
      "text/plain": [
       "<Figure size 1800x360 with 1 Axes>"
      ]
     },
     "metadata": {
      "needs_background": "light"
     },
     "output_type": "display_data"
    }
   ],
   "source": [
    "plt.figure(figsize = (25,5))\n",
    "sns.boxplot(x = 'TotalVisits', data = leads)"
   ]
  },
  {
   "cell_type": "markdown",
   "metadata": {},
   "source": [
    "There are many outliers. "
   ]
  },
  {
   "cell_type": "code",
   "execution_count": 1222,
   "metadata": {},
   "outputs": [],
   "source": [
    "## treating Total Time Spent on Website"
   ]
  },
  {
   "cell_type": "code",
   "execution_count": 1223,
   "metadata": {},
   "outputs": [
    {
     "data": {
      "text/plain": [
       "<matplotlib.axes._subplots.AxesSubplot at 0x253047eb888>"
      ]
     },
     "execution_count": 1223,
     "metadata": {},
     "output_type": "execute_result"
    },
    {
     "data": {
      "image/png": "[encoded data removed]",
      "text/plain": [
       "<Figure size 1800x360 with 1 Axes>"
      ]
     },
     "metadata": {
      "needs_background": "light"
     },
     "output_type": "display_data"
    }
   ],
   "source": [
    "plt.figure(figsize = (25,5))\n",
    "sns.boxplot(x = 'Total Time Spent on Website', data = leads)"
   ]
  },
  {
   "cell_type": "markdown",
   "metadata": {},
   "source": [
    "There are no Outliers in Total Time Spent on Website. "
   ]
  },
  {
   "cell_type": "code",
   "execution_count": 1224,
   "metadata": {},
   "outputs": [],
   "source": [
    "## Inspecting Page Views Per Visit"
   ]
  },
  {
   "cell_type": "code",
   "execution_count": 1225,
   "metadata": {},
   "outputs": [
    {
     "data": {
      "text/plain": [
       "<matplotlib.axes._subplots.AxesSubplot at 0x2530035d388>"
      ]
     },
     "execution_count": 1225,
     "metadata": {},
     "output_type": "execute_result"
    },
    {
     "data": {
      "image/png": "[encoded data removed]",
      "text/plain": [
       "<Figure size 1800x360 with 1 Axes>"
      ]
     },
     "metadata": {
      "needs_background": "light"
     },
     "output_type": "display_data"
    }
   ],
   "source": [
    "plt.figure(figsize = (25,5))\n",
    "sns.boxplot(x = 'Page Views Per Visit', data = leads)"
   ]
  },
  {
   "cell_type": "code",
   "execution_count": 1226,
   "metadata": {},
   "outputs": [
    {
     "data": {
      "text/plain": [
       "Landing Page Submission    4885\n",
       "API                        3578\n",
       "Lead Add Form               581\n",
       "Lead Import                  30\n",
       "Name: Lead Origin, dtype: int64"
      ]
     },
     "execution_count": 1226,
     "metadata": {},
     "output_type": "execute_result"
    }
   ],
   "source": [
    "leads['Lead Origin'].value_counts()"
   ]
  },
  {
   "cell_type": "markdown",
   "metadata": {},
   "source": [
    "There are outliers in this Page Views Per Visit. "
   ]
  },
  {
   "cell_type": "markdown",
   "metadata": {},
   "source": []
  },
  {
   "cell_type": "markdown",
   "metadata": {},
   "source": [
    "### 4.2 Capping all outliers at 99th percentile"
   ]
  },
  {
   "cell_type": "code",
   "execution_count": 1227,
   "metadata": {},
   "outputs": [],
   "source": [
    "cap1 = leads['TotalVisits'].quantile(.99)\n",
    "condition = leads['TotalVisits'] > cap1 \n",
    "leads.loc[condition, 'TotalVisits'] = cap1"
   ]
  },
  {
   "cell_type": "code",
   "execution_count": 1228,
   "metadata": {},
   "outputs": [],
   "source": [
    "cap1 = leads['Page Views Per Visit'].quantile(.99)\n",
    "condition = leads['Page Views Per Visit'] > cap1 \n",
    "leads.loc[condition, 'Page Views Per Visit'] = cap1"
   ]
  },
  {
   "cell_type": "code",
   "execution_count": 1229,
   "metadata": {},
   "outputs": [
    {
     "data": {
      "text/html": [
       "<div>\n",
       "<style scoped>\n",
       "    .dataframe tbody tr th:only-of-type {\n",
       "        vertical-align: middle;\n",
       "    }\n",
       "\n",
       "    .dataframe tbody tr th {\n",
       "        vertical-align: top;\n",
       "    }\n",
       "\n",
       "    .dataframe thead th {\n",
       "        text-align: right;\n",
       "    }\n",
       "</style>\n",
       "<table border=\"1\" class=\"dataframe\">\n",
       "  <thead>\n",
       "    <tr style=\"text-align: right;\">\n",
       "      <th></th>\n",
       "      <th>Converted</th>\n",
       "      <th>TotalVisits</th>\n",
       "      <th>Total Time Spent on Website</th>\n",
       "      <th>Page Views Per Visit</th>\n",
       "    </tr>\n",
       "  </thead>\n",
       "  <tbody>\n",
       "    <tr>\n",
       "      <th>count</th>\n",
       "      <td>9074.00</td>\n",
       "      <td>9074.00</td>\n",
       "      <td>9074.00</td>\n",
       "      <td>9074.00</td>\n",
       "    </tr>\n",
       "    <tr>\n",
       "      <th>mean</th>\n",
       "      <td>0.38</td>\n",
       "      <td>3.34</td>\n",
       "      <td>482.89</td>\n",
       "      <td>2.34</td>\n",
       "    </tr>\n",
       "    <tr>\n",
       "      <th>std</th>\n",
       "      <td>0.49</td>\n",
       "      <td>3.25</td>\n",
       "      <td>545.26</td>\n",
       "      <td>1.98</td>\n",
       "    </tr>\n",
       "    <tr>\n",
       "      <th>min</th>\n",
       "      <td>0.00</td>\n",
       "      <td>0.00</td>\n",
       "      <td>0.00</td>\n",
       "      <td>0.00</td>\n",
       "    </tr>\n",
       "    <tr>\n",
       "      <th>25%</th>\n",
       "      <td>0.00</td>\n",
       "      <td>1.00</td>\n",
       "      <td>11.00</td>\n",
       "      <td>1.00</td>\n",
       "    </tr>\n",
       "    <tr>\n",
       "      <th>50%</th>\n",
       "      <td>0.00</td>\n",
       "      <td>3.00</td>\n",
       "      <td>246.00</td>\n",
       "      <td>2.00</td>\n",
       "    </tr>\n",
       "    <tr>\n",
       "      <th>75%</th>\n",
       "      <td>1.00</td>\n",
       "      <td>5.00</td>\n",
       "      <td>922.75</td>\n",
       "      <td>3.20</td>\n",
       "    </tr>\n",
       "    <tr>\n",
       "      <th>99%</th>\n",
       "      <td>1.00</td>\n",
       "      <td>17.00</td>\n",
       "      <td>1839.00</td>\n",
       "      <td>9.00</td>\n",
       "    </tr>\n",
       "    <tr>\n",
       "      <th>max</th>\n",
       "      <td>1.00</td>\n",
       "      <td>17.00</td>\n",
       "      <td>2272.00</td>\n",
       "      <td>9.00</td>\n",
       "    </tr>\n",
       "  </tbody>\n",
       "</table>\n",
       "</div>"
      ],
      "text/plain": [
       "       Converted  TotalVisits  Total Time Spent on Website  \\\n",
       "count    9074.00      9074.00                      9074.00   \n",
       "mean        0.38         3.34                       482.89   \n",
       "std         0.49         3.25                       545.26   \n",
       "min         0.00         0.00                         0.00   \n",
       "25%         0.00         1.00                        11.00   \n",
       "50%         0.00         3.00                       246.00   \n",
       "75%         1.00         5.00                       922.75   \n",
       "99%         1.00        17.00                      1839.00   \n",
       "max         1.00        17.00                      2272.00   \n",
       "\n",
       "       Page Views Per Visit  \n",
       "count               9074.00  \n",
       "mean                   2.34  \n",
       "std                    1.98  \n",
       "min                    0.00  \n",
       "25%                    1.00  \n",
       "50%                    2.00  \n",
       "75%                    3.20  \n",
       "99%                    9.00  \n",
       "max                    9.00  "
      ]
     },
     "execution_count": 1229,
     "metadata": {},
     "output_type": "execute_result"
    }
   ],
   "source": [
    "leads.describe(percentiles = [0.25,0.50,0.75,0.99])"
   ]
  },
  {
   "cell_type": "code",
   "execution_count": 1230,
   "metadata": {},
   "outputs": [
    {
     "data": {
      "text/plain": [
       "Landing Page Submission    4885\n",
       "API                        3578\n",
       "Lead Add Form               581\n",
       "Lead Import                  30\n",
       "Name: Lead Origin, dtype: int64"
      ]
     },
     "execution_count": 1230,
     "metadata": {},
     "output_type": "execute_result"
    }
   ],
   "source": [
    "leads['Lead Origin'].value_counts()"
   ]
  },
  {
   "cell_type": "markdown",
   "metadata": {},
   "source": [
    "### 4.3 Univariate analysis"
   ]
  },
  {
   "cell_type": "code",
   "execution_count": 1231,
   "metadata": {},
   "outputs": [],
   "source": [
    "def univar(feature,x,y):\n",
    "    plt.figure(figsize = (x,y))\n",
    "    plt.xticks(rotation = 45)\n",
    "    sns.countplot(x = leads[feature], data = leads)\n",
    "    plt.show()"
   ]
  },
  {
   "cell_type": "code",
   "execution_count": 1232,
   "metadata": {},
   "outputs": [
    {
     "data": {
      "image/png": "[encoded data removed]",
      "text/plain": [
       "<Figure size 360x216 with 1 Axes>"
      ]
     },
     "metadata": {
      "needs_background": "light"
     },
     "output_type": "display_data"
    }
   ],
   "source": [
    "univar('Converted',5,3)"
   ]
  },
  {
   "cell_type": "markdown",
   "metadata": {},
   "source": [
    "conversion rate is pretty low as evident from above plot. "
   ]
  },
  {
   "cell_type": "code",
   "execution_count": 1233,
   "metadata": {},
   "outputs": [
    {
     "data": {
      "image/png": "[encoded data removed]",
      "text/plain": [
       "<Figure size 504x216 with 1 Axes>"
      ]
     },
     "metadata": {
      "needs_background": "light"
     },
     "output_type": "display_data"
    }
   ],
   "source": [
    "univar('Lead Origin',7,3)"
   ]
  },
  {
   "cell_type": "markdown",
   "metadata": {},
   "source": [
    "Landing Page submission has the highest count in lead origin."
   ]
  },
  {
   "cell_type": "code",
   "execution_count": 1234,
   "metadata": {},
   "outputs": [
    {
     "data": {
      "image/png": "[encoded data removed]",
      "text/plain": [
       "<Figure size 1080x360 with 1 Axes>"
      ]
     },
     "metadata": {
      "needs_background": "light"
     },
     "output_type": "display_data"
    }
   ],
   "source": [
    "univar('Lead Source',15,5)"
   ]
  },
  {
   "cell_type": "markdown",
   "metadata": {},
   "source": [
    "Google is the highest lead source while welingak website has very low leads. Reference has higher leads than Welingak Website but lower than others such as google. "
   ]
  },
  {
   "cell_type": "code",
   "execution_count": 1235,
   "metadata": {},
   "outputs": [
    {
     "data": {
      "image/png": "[encoded data removed]",
      "text/plain": [
       "<Figure size 720x216 with 1 Axes>"
      ]
     },
     "metadata": {
      "needs_background": "light"
     },
     "output_type": "display_data"
    }
   ],
   "source": [
    "univar('Last Activity',10,3)"
   ]
  },
  {
   "cell_type": "markdown",
   "metadata": {},
   "source": [
    "Last Activity for most leads is Email Opened. "
   ]
  },
  {
   "cell_type": "code",
   "execution_count": 1236,
   "metadata": {
    "scrolled": true
   },
   "outputs": [
    {
     "data": {
      "image/png": "[encoded data removed]",
      "text/plain": [
       "<Figure size 720x216 with 1 Axes>"
      ]
     },
     "metadata": {
      "needs_background": "light"
     },
     "output_type": "display_data"
    }
   ],
   "source": [
    "univar('Country',10,3)"
   ]
  },
  {
   "cell_type": "markdown",
   "metadata": {},
   "source": [
    "A large no. of leads came from India. "
   ]
  },
  {
   "cell_type": "markdown",
   "metadata": {},
   "source": [
    "### 4.4 Bivariate Analysis"
   ]
  },
  {
   "cell_type": "code",
   "execution_count": 1237,
   "metadata": {},
   "outputs": [
    {
     "data": {
      "text/plain": [
       "<matplotlib.axes._subplots.AxesSubplot at 0x2530020d7c8>"
      ]
     },
     "execution_count": 1237,
     "metadata": {},
     "output_type": "execute_result"
    },
    {
     "data": {
      "image/png": "[encoded data removed]",
      "text/plain": [
       "<Figure size 432x288 with 1 Axes>"
      ]
     },
     "metadata": {
      "needs_background": "light"
     },
     "output_type": "display_data"
    }
   ],
   "source": [
    "sns.barplot(y='Country', x='Converted', palette='husl', data=leads, estimator=np.sum)"
   ]
  },
  {
   "cell_type": "markdown",
   "metadata": {},
   "source": [
    "India has more conversions than Outside India"
   ]
  },
  {
   "cell_type": "code",
   "execution_count": 1238,
   "metadata": {},
   "outputs": [
    {
     "data": {
      "text/plain": [
       "<matplotlib.axes._subplots.AxesSubplot at 0x25362ace748>"
      ]
     },
     "execution_count": 1238,
     "metadata": {},
     "output_type": "execute_result"
    },
    {
     "data": {
      "image/png": "[encoded data removed]",
      "text/plain": [
       "<Figure size 432x288 with 1 Axes>"
      ]
     },
     "metadata": {
      "needs_background": "light"
     },
     "output_type": "display_data"
    }
   ],
   "source": [
    "sns.barplot(y='City', x='Converted', palette='husl', data=leads, estimator=np.sum)"
   ]
  },
  {
   "cell_type": "markdown",
   "metadata": {},
   "source": [
    "Mumbai has the highest number of conversions."
   ]
  },
  {
   "cell_type": "code",
   "execution_count": 1239,
   "metadata": {},
   "outputs": [
    {
     "data": {
      "text/plain": [
       "<matplotlib.axes._subplots.AxesSubplot at 0x25362ac49c8>"
      ]
     },
     "execution_count": 1239,
     "metadata": {},
     "output_type": "execute_result"
    },
    {
     "data": {
      "image/png": "[encoded data removed]",
      "text/plain": [
       "<Figure size 432x288 with 1 Axes>"
      ]
     },
     "metadata": {
      "needs_background": "light"
     },
     "output_type": "display_data"
    }
   ],
   "source": [
    "sns.barplot(y='Last Activity', x='Converted', palette='husl', data=leads, estimator=np.sum)"
   ]
  },
  {
   "cell_type": "markdown",
   "metadata": {},
   "source": [
    "SMS sent was the most common last activity "
   ]
  },
  {
   "cell_type": "code",
   "execution_count": 1240,
   "metadata": {},
   "outputs": [
    {
     "data": {
      "text/plain": [
       "<matplotlib.axes._subplots.AxesSubplot at 0x25302c28748>"
      ]
     },
     "execution_count": 1240,
     "metadata": {},
     "output_type": "execute_result"
    },
    {
     "data": {
      "image/png": "[encoded data removed]",
      "text/plain": [
       "<Figure size 432x288 with 1 Axes>"
      ]
     },
     "metadata": {
      "needs_background": "light"
     },
     "output_type": "display_data"
    }
   ],
   "source": [
    "sns.barplot(y='What is your current occupation', x='Converted', palette='husl', data=leads, estimator=np.sum)"
   ]
  },
  {
   "cell_type": "markdown",
   "metadata": {},
   "source": [
    "Unemployed constitute a significant percentage of conversions"
   ]
  },
  {
   "cell_type": "markdown",
   "metadata": {},
   "source": [
    "### 4.5 Checking for Correlation "
   ]
  },
  {
   "cell_type": "code",
   "execution_count": 1241,
   "metadata": {},
   "outputs": [
    {
     "data": {
      "image/png": "[encoded data removed]",
      "text/plain": [
       "<Figure size 360x216 with 2 Axes>"
      ]
     },
     "metadata": {
      "needs_background": "light"
     },
     "output_type": "display_data"
    }
   ],
   "source": [
    "plt.figure(figsize = (5,3))\n",
    "sns.heatmap(leads.corr(), annot = True, cmap=\"YlGnBu\")\n",
    "plt.show()"
   ]
  },
  {
   "cell_type": "markdown",
   "metadata": {},
   "source": [
    "From the above Heatmap, the Total time spent on the website has a high correlation with converted. "
   ]
  },
  {
   "cell_type": "markdown",
   "metadata": {},
   "source": [
    "## 5. Data Preparation "
   ]
  },
  {
   "cell_type": "code",
   "execution_count": 1242,
   "metadata": {},
   "outputs": [
    {
     "data": {
      "text/plain": [
       "Index(['Lead Origin', 'Lead Source', 'Converted', 'TotalVisits',\n",
       "       'Total Time Spent on Website', 'Page Views Per Visit', 'Last Activity',\n",
       "       'Country', 'Specialization', 'What is your current occupation', 'City',\n",
       "       'A free copy of Mastering The Interview', 'Last Notable Activity'],\n",
       "      dtype='object')"
      ]
     },
     "execution_count": 1242,
     "metadata": {},
     "output_type": "execute_result"
    }
   ],
   "source": [
    "leads.columns "
   ]
  },
  {
   "cell_type": "code",
   "execution_count": 1243,
   "metadata": {
    "scrolled": true
   },
   "outputs": [],
   "source": [
    "## converting yes and no to 1 and 0\n",
    "\n",
    "listone = ['A free copy of Mastering The Interview']\n",
    "\n",
    "def mapping(x):\n",
    "    return x.map({'Yes':1, 'No':0})\n",
    "\n",
    "leads[listone] = leads[listone].apply(mapping)"
   ]
  },
  {
   "cell_type": "markdown",
   "metadata": {},
   "source": [
    "### 5.1 Dummies creation "
   ]
  },
  {
   "cell_type": "code",
   "execution_count": 1244,
   "metadata": {},
   "outputs": [
    {
     "data": {
      "text/plain": [
       "(9074, 40)"
      ]
     },
     "execution_count": 1244,
     "metadata": {},
     "output_type": "execute_result"
    }
   ],
   "source": [
    "# Creating a dummy variable for some of the categorical variables and dropping the first one.\n",
    "dummy1 = pd.get_dummies(leads[['Lead Origin','Lead Source','Country','Last Notable Activity']], drop_first=True)\n",
    "\n",
    "# Adding the results to the master dataframe\n",
    "leads = pd.concat([leads, dummy1], axis=1)\n",
    "leads.shape"
   ]
  },
  {
   "cell_type": "markdown",
   "metadata": {},
   "source": [
    "Creating dummy variables for the remaining categorical variables and dropping the level called 'Unknown' which represents null/select values."
   ]
  },
  {
   "cell_type": "code",
   "execution_count": 1245,
   "metadata": {},
   "outputs": [],
   "source": [
    "# Creating dummy variables for the variable 'What is your current occupation'\n",
    "ml = pd.get_dummies(leads['What is your current occupation'], prefix='What is your current occupation')\n",
    "# Dropping the level called 'Unknown' which represents null/select values\n",
    "ml1 = ml.drop(['What is your current occupation_Unknown'], 1)\n",
    "#Adding the results to the master dataframe\n",
    "leads = pd.concat([leads,ml1], axis=1)"
   ]
  },
  {
   "cell_type": "code",
   "execution_count": 1246,
   "metadata": {},
   "outputs": [],
   "source": [
    "# Creating dummy variables for the variable 'Specialization'\n",
    "ml = pd.get_dummies(leads['Specialization'], prefix='Specialization')\n",
    "# Dropping the level called 'Unknown' which represents null/select values\n",
    "ml2 = ml.drop(['Specialization_Unknown'], 1)\n",
    "#Adding the results to the master dataframe\n",
    "leads = pd.concat([leads,ml2], axis=1)"
   ]
  },
  {
   "cell_type": "code",
   "execution_count": 1247,
   "metadata": {},
   "outputs": [],
   "source": [
    "# Creating dummy variables for the variable 'City'\n",
    "ml = pd.get_dummies(leads['City'], prefix='City')\n",
    "# Dropping the level called 'Unknown' which represents null/select values\n",
    "ml3 = ml.drop(['City_Unknown'], 1)\n",
    "#Adding the results to the master dataframe\n",
    "leads = pd.concat([leads,ml3], axis=1)"
   ]
  },
  {
   "cell_type": "code",
   "execution_count": 1248,
   "metadata": {},
   "outputs": [],
   "source": [
    "# Creating dummy variables for the variable 'Last Activity'\n",
    "ml = pd.get_dummies(leads['Last Activity'], prefix='Last Activity')\n",
    "#Adding the results to the master dataframe\n",
    "leads = pd.concat([leads,ml], axis=1)"
   ]
  },
  {
   "cell_type": "code",
   "execution_count": 1249,
   "metadata": {
    "scrolled": true
   },
   "outputs": [
    {
     "data": {
      "text/plain": [
       "(9074, 56)"
      ]
     },
     "execution_count": 1249,
     "metadata": {},
     "output_type": "execute_result"
    }
   ],
   "source": [
    "leads.shape"
   ]
  },
  {
   "cell_type": "markdown",
   "metadata": {},
   "source": [
    "#### Dropping the parent variables"
   ]
  },
  {
   "cell_type": "code",
   "execution_count": 1250,
   "metadata": {},
   "outputs": [
    {
     "data": {
      "text/plain": [
       "(9074, 48)"
      ]
     },
     "execution_count": 1250,
     "metadata": {},
     "output_type": "execute_result"
    }
   ],
   "source": [
    "# We have created dummies for the below variables, so we can drop them\n",
    "leads = leads.drop(['Lead Origin','Lead Source','Country','Last Notable Activity','What is your current occupation','Specialization','City','Last Activity'], 1)\n",
    "leads.shape"
   ]
  },
  {
   "cell_type": "code",
   "execution_count": 1251,
   "metadata": {},
   "outputs": [
    {
     "data": {
      "text/html": [
       "<div>\n",
       "<style scoped>\n",
       "    .dataframe tbody tr th:only-of-type {\n",
       "        vertical-align: middle;\n",
       "    }\n",
       "\n",
       "    .dataframe tbody tr th {\n",
       "        vertical-align: top;\n",
       "    }\n",
       "\n",
       "    .dataframe thead th {\n",
       "        text-align: right;\n",
       "    }\n",
       "</style>\n",
       "<table border=\"1\" class=\"dataframe\">\n",
       "  <thead>\n",
       "    <tr style=\"text-align: right;\">\n",
       "      <th></th>\n",
       "      <th>Converted</th>\n",
       "      <th>TotalVisits</th>\n",
       "      <th>Total Time Spent on Website</th>\n",
       "      <th>Page Views Per Visit</th>\n",
       "      <th>A free copy of Mastering The Interview</th>\n",
       "      <th>Lead Origin_Landing Page Submission</th>\n",
       "      <th>Lead Origin_Lead Add Form</th>\n",
       "      <th>Lead Origin_Lead Import</th>\n",
       "      <th>Lead Source_Direct Traffic</th>\n",
       "      <th>Lead Source_Facebook</th>\n",
       "      <th>...</th>\n",
       "      <th>Specialization_Operations Management</th>\n",
       "      <th>Specialization_Others</th>\n",
       "      <th>City_Mumbai</th>\n",
       "      <th>City_Others</th>\n",
       "      <th>City_Thane &amp; Outskirts</th>\n",
       "      <th>Last Activity_Email Opened</th>\n",
       "      <th>Last Activity_Olark Chat Conversation</th>\n",
       "      <th>Last Activity_Others</th>\n",
       "      <th>Last Activity_Page Visited on Website</th>\n",
       "      <th>Last Activity_SMS Sent</th>\n",
       "    </tr>\n",
       "    <tr>\n",
       "      <th>Lead Number</th>\n",
       "      <th></th>\n",
       "      <th></th>\n",
       "      <th></th>\n",
       "      <th></th>\n",
       "      <th></th>\n",
       "      <th></th>\n",
       "      <th></th>\n",
       "      <th></th>\n",
       "      <th></th>\n",
       "      <th></th>\n",
       "      <th></th>\n",
       "      <th></th>\n",
       "      <th></th>\n",
       "      <th></th>\n",
       "      <th></th>\n",
       "      <th></th>\n",
       "      <th></th>\n",
       "      <th></th>\n",
       "      <th></th>\n",
       "      <th></th>\n",
       "      <th></th>\n",
       "    </tr>\n",
       "  </thead>\n",
       "  <tbody>\n",
       "    <tr>\n",
       "      <th>660737</th>\n",
       "      <td>0</td>\n",
       "      <td>0.00</td>\n",
       "      <td>0</td>\n",
       "      <td>0.00</td>\n",
       "      <td>0</td>\n",
       "      <td>0</td>\n",
       "      <td>0</td>\n",
       "      <td>0</td>\n",
       "      <td>0</td>\n",
       "      <td>0</td>\n",
       "      <td>...</td>\n",
       "      <td>0</td>\n",
       "      <td>0</td>\n",
       "      <td>0</td>\n",
       "      <td>0</td>\n",
       "      <td>0</td>\n",
       "      <td>0</td>\n",
       "      <td>0</td>\n",
       "      <td>0</td>\n",
       "      <td>1</td>\n",
       "      <td>0</td>\n",
       "    </tr>\n",
       "    <tr>\n",
       "      <th>660728</th>\n",
       "      <td>0</td>\n",
       "      <td>5.00</td>\n",
       "      <td>674</td>\n",
       "      <td>2.50</td>\n",
       "      <td>0</td>\n",
       "      <td>0</td>\n",
       "      <td>0</td>\n",
       "      <td>0</td>\n",
       "      <td>0</td>\n",
       "      <td>0</td>\n",
       "      <td>...</td>\n",
       "      <td>0</td>\n",
       "      <td>0</td>\n",
       "      <td>0</td>\n",
       "      <td>0</td>\n",
       "      <td>0</td>\n",
       "      <td>1</td>\n",
       "      <td>0</td>\n",
       "      <td>0</td>\n",
       "      <td>0</td>\n",
       "      <td>0</td>\n",
       "    </tr>\n",
       "    <tr>\n",
       "      <th>660727</th>\n",
       "      <td>1</td>\n",
       "      <td>2.00</td>\n",
       "      <td>1532</td>\n",
       "      <td>2.00</td>\n",
       "      <td>1</td>\n",
       "      <td>1</td>\n",
       "      <td>0</td>\n",
       "      <td>0</td>\n",
       "      <td>1</td>\n",
       "      <td>0</td>\n",
       "      <td>...</td>\n",
       "      <td>0</td>\n",
       "      <td>1</td>\n",
       "      <td>1</td>\n",
       "      <td>0</td>\n",
       "      <td>0</td>\n",
       "      <td>1</td>\n",
       "      <td>0</td>\n",
       "      <td>0</td>\n",
       "      <td>0</td>\n",
       "      <td>0</td>\n",
       "    </tr>\n",
       "    <tr>\n",
       "      <th>660719</th>\n",
       "      <td>0</td>\n",
       "      <td>1.00</td>\n",
       "      <td>305</td>\n",
       "      <td>1.00</td>\n",
       "      <td>0</td>\n",
       "      <td>1</td>\n",
       "      <td>0</td>\n",
       "      <td>0</td>\n",
       "      <td>1</td>\n",
       "      <td>0</td>\n",
       "      <td>...</td>\n",
       "      <td>0</td>\n",
       "      <td>1</td>\n",
       "      <td>1</td>\n",
       "      <td>0</td>\n",
       "      <td>0</td>\n",
       "      <td>0</td>\n",
       "      <td>0</td>\n",
       "      <td>1</td>\n",
       "      <td>0</td>\n",
       "      <td>0</td>\n",
       "    </tr>\n",
       "    <tr>\n",
       "      <th>660681</th>\n",
       "      <td>1</td>\n",
       "      <td>2.00</td>\n",
       "      <td>1428</td>\n",
       "      <td>1.00</td>\n",
       "      <td>0</td>\n",
       "      <td>1</td>\n",
       "      <td>0</td>\n",
       "      <td>0</td>\n",
       "      <td>0</td>\n",
       "      <td>0</td>\n",
       "      <td>...</td>\n",
       "      <td>0</td>\n",
       "      <td>0</td>\n",
       "      <td>1</td>\n",
       "      <td>0</td>\n",
       "      <td>0</td>\n",
       "      <td>0</td>\n",
       "      <td>0</td>\n",
       "      <td>1</td>\n",
       "      <td>0</td>\n",
       "      <td>0</td>\n",
       "    </tr>\n",
       "  </tbody>\n",
       "</table>\n",
       "<p>5 rows × 48 columns</p>\n",
       "</div>"
      ],
      "text/plain": [
       "             Converted  TotalVisits  Total Time Spent on Website  \\\n",
       "Lead Number                                                        \n",
       "660737               0         0.00                            0   \n",
       "660728               0         5.00                          674   \n",
       "660727               1         2.00                         1532   \n",
       "660719               0         1.00                          305   \n",
       "660681               1         2.00                         1428   \n",
       "\n",
       "             Page Views Per Visit  A free copy of Mastering The Interview  \\\n",
       "Lead Number                                                                 \n",
       "660737                       0.00                                       0   \n",
       "660728                       2.50                                       0   \n",
       "660727                       2.00                                       1   \n",
       "660719                       1.00                                       0   \n",
       "660681                       1.00                                       0   \n",
       "\n",
       "             Lead Origin_Landing Page Submission  Lead Origin_Lead Add Form  \\\n",
       "Lead Number                                                                   \n",
       "660737                                         0                          0   \n",
       "660728                                         0                          0   \n",
       "660727                                         1                          0   \n",
       "660719                                         1                          0   \n",
       "660681                                         1                          0   \n",
       "\n",
       "             Lead Origin_Lead Import  Lead Source_Direct Traffic  \\\n",
       "Lead Number                                                        \n",
       "660737                             0                           0   \n",
       "660728                             0                           0   \n",
       "660727                             0                           1   \n",
       "660719                             0                           1   \n",
       "660681                             0                           0   \n",
       "\n",
       "             Lead Source_Facebook  ...  Specialization_Operations Management  \\\n",
       "Lead Number                        ...                                         \n",
       "660737                          0  ...                                     0   \n",
       "660728                          0  ...                                     0   \n",
       "660727                          0  ...                                     0   \n",
       "660719                          0  ...                                     0   \n",
       "660681                          0  ...                                     0   \n",
       "\n",
       "             Specialization_Others  City_Mumbai  City_Others  \\\n",
       "Lead Number                                                    \n",
       "660737                           0            0            0   \n",
       "660728                           0            0            0   \n",
       "660727                           1            1            0   \n",
       "660719                           1            1            0   \n",
       "660681                           0            1            0   \n",
       "\n",
       "             City_Thane & Outskirts  Last Activity_Email Opened  \\\n",
       "Lead Number                                                       \n",
       "660737                            0                           0   \n",
       "660728                            0                           1   \n",
       "660727                            0                           1   \n",
       "660719                            0                           0   \n",
       "660681                            0                           0   \n",
       "\n",
       "             Last Activity_Olark Chat Conversation  Last Activity_Others  \\\n",
       "Lead Number                                                                \n",
       "660737                                           0                     0   \n",
       "660728                                           0                     0   \n",
       "660727                                           0                     0   \n",
       "660719                                           0                     1   \n",
       "660681                                           0                     1   \n",
       "\n",
       "             Last Activity_Page Visited on Website  Last Activity_SMS Sent  \n",
       "Lead Number                                                                 \n",
       "660737                                           1                       0  \n",
       "660728                                           0                       0  \n",
       "660727                                           0                       0  \n",
       "660719                                           0                       0  \n",
       "660681                                           0                       0  \n",
       "\n",
       "[5 rows x 48 columns]"
      ]
     },
     "execution_count": 1251,
     "metadata": {},
     "output_type": "execute_result"
    }
   ],
   "source": [
    "leads.head()"
   ]
  },
  {
   "cell_type": "code",
   "execution_count": 1252,
   "metadata": {},
   "outputs": [
    {
     "data": {
      "text/plain": [
       "[]"
      ]
     },
     "execution_count": 1252,
     "metadata": {},
     "output_type": "execute_result"
    }
   ],
   "source": [
    "# Ensuring there are no categorical columns left in the dataframe\n",
    "cols = leads.columns\n",
    "num_cols = leads._get_numeric_data().columns\n",
    "list(set(cols) - set(num_cols))"
   ]
  },
  {
   "cell_type": "markdown",
   "metadata": {},
   "source": [
    "### 5.2 Test - Train Split"
   ]
  },
  {
   "cell_type": "code",
   "execution_count": 1253,
   "metadata": {},
   "outputs": [
    {
     "data": {
      "text/html": [
       "<div>\n",
       "<style scoped>\n",
       "    .dataframe tbody tr th:only-of-type {\n",
       "        vertical-align: middle;\n",
       "    }\n",
       "\n",
       "    .dataframe tbody tr th {\n",
       "        vertical-align: top;\n",
       "    }\n",
       "\n",
       "    .dataframe thead th {\n",
       "        text-align: right;\n",
       "    }\n",
       "</style>\n",
       "<table border=\"1\" class=\"dataframe\">\n",
       "  <thead>\n",
       "    <tr style=\"text-align: right;\">\n",
       "      <th></th>\n",
       "      <th>TotalVisits</th>\n",
       "      <th>Total Time Spent on Website</th>\n",
       "      <th>Page Views Per Visit</th>\n",
       "      <th>A free copy of Mastering The Interview</th>\n",
       "      <th>Lead Origin_Landing Page Submission</th>\n",
       "      <th>Lead Origin_Lead Add Form</th>\n",
       "      <th>Lead Origin_Lead Import</th>\n",
       "      <th>Lead Source_Direct Traffic</th>\n",
       "      <th>Lead Source_Facebook</th>\n",
       "      <th>Lead Source_Google</th>\n",
       "      <th>...</th>\n",
       "      <th>Specialization_Operations Management</th>\n",
       "      <th>Specialization_Others</th>\n",
       "      <th>City_Mumbai</th>\n",
       "      <th>City_Others</th>\n",
       "      <th>City_Thane &amp; Outskirts</th>\n",
       "      <th>Last Activity_Email Opened</th>\n",
       "      <th>Last Activity_Olark Chat Conversation</th>\n",
       "      <th>Last Activity_Others</th>\n",
       "      <th>Last Activity_Page Visited on Website</th>\n",
       "      <th>Last Activity_SMS Sent</th>\n",
       "    </tr>\n",
       "    <tr>\n",
       "      <th>Lead Number</th>\n",
       "      <th></th>\n",
       "      <th></th>\n",
       "      <th></th>\n",
       "      <th></th>\n",
       "      <th></th>\n",
       "      <th></th>\n",
       "      <th></th>\n",
       "      <th></th>\n",
       "      <th></th>\n",
       "      <th></th>\n",
       "      <th></th>\n",
       "      <th></th>\n",
       "      <th></th>\n",
       "      <th></th>\n",
       "      <th></th>\n",
       "      <th></th>\n",
       "      <th></th>\n",
       "      <th></th>\n",
       "      <th></th>\n",
       "      <th></th>\n",
       "      <th></th>\n",
       "    </tr>\n",
       "  </thead>\n",
       "  <tbody>\n",
       "    <tr>\n",
       "      <th>660737</th>\n",
       "      <td>0.00</td>\n",
       "      <td>0</td>\n",
       "      <td>0.00</td>\n",
       "      <td>0</td>\n",
       "      <td>0</td>\n",
       "      <td>0</td>\n",
       "      <td>0</td>\n",
       "      <td>0</td>\n",
       "      <td>0</td>\n",
       "      <td>0</td>\n",
       "      <td>...</td>\n",
       "      <td>0</td>\n",
       "      <td>0</td>\n",
       "      <td>0</td>\n",
       "      <td>0</td>\n",
       "      <td>0</td>\n",
       "      <td>0</td>\n",
       "      <td>0</td>\n",
       "      <td>0</td>\n",
       "      <td>1</td>\n",
       "      <td>0</td>\n",
       "    </tr>\n",
       "    <tr>\n",
       "      <th>660728</th>\n",
       "      <td>5.00</td>\n",
       "      <td>674</td>\n",
       "      <td>2.50</td>\n",
       "      <td>0</td>\n",
       "      <td>0</td>\n",
       "      <td>0</td>\n",
       "      <td>0</td>\n",
       "      <td>0</td>\n",
       "      <td>0</td>\n",
       "      <td>0</td>\n",
       "      <td>...</td>\n",
       "      <td>0</td>\n",
       "      <td>0</td>\n",
       "      <td>0</td>\n",
       "      <td>0</td>\n",
       "      <td>0</td>\n",
       "      <td>1</td>\n",
       "      <td>0</td>\n",
       "      <td>0</td>\n",
       "      <td>0</td>\n",
       "      <td>0</td>\n",
       "    </tr>\n",
       "    <tr>\n",
       "      <th>660727</th>\n",
       "      <td>2.00</td>\n",
       "      <td>1532</td>\n",
       "      <td>2.00</td>\n",
       "      <td>1</td>\n",
       "      <td>1</td>\n",
       "      <td>0</td>\n",
       "      <td>0</td>\n",
       "      <td>1</td>\n",
       "      <td>0</td>\n",
       "      <td>0</td>\n",
       "      <td>...</td>\n",
       "      <td>0</td>\n",
       "      <td>1</td>\n",
       "      <td>1</td>\n",
       "      <td>0</td>\n",
       "      <td>0</td>\n",
       "      <td>1</td>\n",
       "      <td>0</td>\n",
       "      <td>0</td>\n",
       "      <td>0</td>\n",
       "      <td>0</td>\n",
       "    </tr>\n",
       "    <tr>\n",
       "      <th>660719</th>\n",
       "      <td>1.00</td>\n",
       "      <td>305</td>\n",
       "      <td>1.00</td>\n",
       "      <td>0</td>\n",
       "      <td>1</td>\n",
       "      <td>0</td>\n",
       "      <td>0</td>\n",
       "      <td>1</td>\n",
       "      <td>0</td>\n",
       "      <td>0</td>\n",
       "      <td>...</td>\n",
       "      <td>0</td>\n",
       "      <td>1</td>\n",
       "      <td>1</td>\n",
       "      <td>0</td>\n",
       "      <td>0</td>\n",
       "      <td>0</td>\n",
       "      <td>0</td>\n",
       "      <td>1</td>\n",
       "      <td>0</td>\n",
       "      <td>0</td>\n",
       "    </tr>\n",
       "    <tr>\n",
       "      <th>660681</th>\n",
       "      <td>2.00</td>\n",
       "      <td>1428</td>\n",
       "      <td>1.00</td>\n",
       "      <td>0</td>\n",
       "      <td>1</td>\n",
       "      <td>0</td>\n",
       "      <td>0</td>\n",
       "      <td>0</td>\n",
       "      <td>0</td>\n",
       "      <td>1</td>\n",
       "      <td>...</td>\n",
       "      <td>0</td>\n",
       "      <td>0</td>\n",
       "      <td>1</td>\n",
       "      <td>0</td>\n",
       "      <td>0</td>\n",
       "      <td>0</td>\n",
       "      <td>0</td>\n",
       "      <td>1</td>\n",
       "      <td>0</td>\n",
       "      <td>0</td>\n",
       "    </tr>\n",
       "  </tbody>\n",
       "</table>\n",
       "<p>5 rows × 47 columns</p>\n",
       "</div>"
      ],
      "text/plain": [
       "             TotalVisits  Total Time Spent on Website  Page Views Per Visit  \\\n",
       "Lead Number                                                                   \n",
       "660737              0.00                            0                  0.00   \n",
       "660728              5.00                          674                  2.50   \n",
       "660727              2.00                         1532                  2.00   \n",
       "660719              1.00                          305                  1.00   \n",
       "660681              2.00                         1428                  1.00   \n",
       "\n",
       "             A free copy of Mastering The Interview  \\\n",
       "Lead Number                                           \n",
       "660737                                            0   \n",
       "660728                                            0   \n",
       "660727                                            1   \n",
       "660719                                            0   \n",
       "660681                                            0   \n",
       "\n",
       "             Lead Origin_Landing Page Submission  Lead Origin_Lead Add Form  \\\n",
       "Lead Number                                                                   \n",
       "660737                                         0                          0   \n",
       "660728                                         0                          0   \n",
       "660727                                         1                          0   \n",
       "660719                                         1                          0   \n",
       "660681                                         1                          0   \n",
       "\n",
       "             Lead Origin_Lead Import  Lead Source_Direct Traffic  \\\n",
       "Lead Number                                                        \n",
       "660737                             0                           0   \n",
       "660728                             0                           0   \n",
       "660727                             0                           1   \n",
       "660719                             0                           1   \n",
       "660681                             0                           0   \n",
       "\n",
       "             Lead Source_Facebook  Lead Source_Google  ...  \\\n",
       "Lead Number                                            ...   \n",
       "660737                          0                   0  ...   \n",
       "660728                          0                   0  ...   \n",
       "660727                          0                   0  ...   \n",
       "660719                          0                   0  ...   \n",
       "660681                          0                   1  ...   \n",
       "\n",
       "             Specialization_Operations Management  Specialization_Others  \\\n",
       "Lead Number                                                                \n",
       "660737                                          0                      0   \n",
       "660728                                          0                      0   \n",
       "660727                                          0                      1   \n",
       "660719                                          0                      1   \n",
       "660681                                          0                      0   \n",
       "\n",
       "             City_Mumbai  City_Others  City_Thane & Outskirts  \\\n",
       "Lead Number                                                     \n",
       "660737                 0            0                       0   \n",
       "660728                 0            0                       0   \n",
       "660727                 1            0                       0   \n",
       "660719                 1            0                       0   \n",
       "660681                 1            0                       0   \n",
       "\n",
       "             Last Activity_Email Opened  \\\n",
       "Lead Number                               \n",
       "660737                                0   \n",
       "660728                                1   \n",
       "660727                                1   \n",
       "660719                                0   \n",
       "660681                                0   \n",
       "\n",
       "             Last Activity_Olark Chat Conversation  Last Activity_Others  \\\n",
       "Lead Number                                                                \n",
       "660737                                           0                     0   \n",
       "660728                                           0                     0   \n",
       "660727                                           0                     0   \n",
       "660719                                           0                     1   \n",
       "660681                                           0                     1   \n",
       "\n",
       "             Last Activity_Page Visited on Website  Last Activity_SMS Sent  \n",
       "Lead Number                                                                 \n",
       "660737                                           1                       0  \n",
       "660728                                           0                       0  \n",
       "660727                                           0                       0  \n",
       "660719                                           0                       0  \n",
       "660681                                           0                       0  \n",
       "\n",
       "[5 rows x 47 columns]"
      ]
     },
     "execution_count": 1253,
     "metadata": {},
     "output_type": "execute_result"
    }
   ],
   "source": [
    "# Putting feature variable to X\n",
    "X = leads.drop(['Converted'], axis=1)\n",
    "\n",
    "X.head()"
   ]
  },
  {
   "cell_type": "code",
   "execution_count": 1254,
   "metadata": {},
   "outputs": [
    {
     "data": {
      "text/plain": [
       "Lead Number\n",
       "660737    0\n",
       "660728    0\n",
       "660727    1\n",
       "660719    0\n",
       "660681    1\n",
       "Name: Converted, dtype: int64"
      ]
     },
     "execution_count": 1254,
     "metadata": {},
     "output_type": "execute_result"
    }
   ],
   "source": [
    "# Putting response variable to y\n",
    "y = leads['Converted']\n",
    "\n",
    "y.head()"
   ]
  },
  {
   "cell_type": "code",
   "execution_count": 1255,
   "metadata": {},
   "outputs": [],
   "source": [
    "# Splitting the data into train and test\n",
    "X_train, X_test, y_train, y_test = train_test_split(X, y, train_size=0.7, test_size=0.3, random_state=100)"
   ]
  },
  {
   "cell_type": "markdown",
   "metadata": {},
   "source": [
    "### 5.3 Scaling"
   ]
  },
  {
   "cell_type": "code",
   "execution_count": 1256,
   "metadata": {
    "scrolled": false
   },
   "outputs": [
    {
     "data": {
      "text/html": [
       "<div>\n",
       "<style scoped>\n",
       "    .dataframe tbody tr th:only-of-type {\n",
       "        vertical-align: middle;\n",
       "    }\n",
       "\n",
       "    .dataframe tbody tr th {\n",
       "        vertical-align: top;\n",
       "    }\n",
       "\n",
       "    .dataframe thead th {\n",
       "        text-align: right;\n",
       "    }\n",
       "</style>\n",
       "<table border=\"1\" class=\"dataframe\">\n",
       "  <thead>\n",
       "    <tr style=\"text-align: right;\">\n",
       "      <th></th>\n",
       "      <th>TotalVisits</th>\n",
       "      <th>Total Time Spent on Website</th>\n",
       "      <th>Page Views Per Visit</th>\n",
       "      <th>A free copy of Mastering The Interview</th>\n",
       "      <th>Lead Origin_Landing Page Submission</th>\n",
       "      <th>Lead Origin_Lead Add Form</th>\n",
       "      <th>Lead Origin_Lead Import</th>\n",
       "      <th>Lead Source_Direct Traffic</th>\n",
       "      <th>Lead Source_Facebook</th>\n",
       "      <th>Lead Source_Google</th>\n",
       "      <th>...</th>\n",
       "      <th>Specialization_Operations Management</th>\n",
       "      <th>Specialization_Others</th>\n",
       "      <th>City_Mumbai</th>\n",
       "      <th>City_Others</th>\n",
       "      <th>City_Thane &amp; Outskirts</th>\n",
       "      <th>Last Activity_Email Opened</th>\n",
       "      <th>Last Activity_Olark Chat Conversation</th>\n",
       "      <th>Last Activity_Others</th>\n",
       "      <th>Last Activity_Page Visited on Website</th>\n",
       "      <th>Last Activity_SMS Sent</th>\n",
       "    </tr>\n",
       "    <tr>\n",
       "      <th>Lead Number</th>\n",
       "      <th></th>\n",
       "      <th></th>\n",
       "      <th></th>\n",
       "      <th></th>\n",
       "      <th></th>\n",
       "      <th></th>\n",
       "      <th></th>\n",
       "      <th></th>\n",
       "      <th></th>\n",
       "      <th></th>\n",
       "      <th></th>\n",
       "      <th></th>\n",
       "      <th></th>\n",
       "      <th></th>\n",
       "      <th></th>\n",
       "      <th></th>\n",
       "      <th></th>\n",
       "      <th></th>\n",
       "      <th></th>\n",
       "      <th></th>\n",
       "      <th></th>\n",
       "    </tr>\n",
       "  </thead>\n",
       "  <tbody>\n",
       "    <tr>\n",
       "      <th>630949</th>\n",
       "      <td>-0.42</td>\n",
       "      <td>-0.16</td>\n",
       "      <td>-0.18</td>\n",
       "      <td>1</td>\n",
       "      <td>1</td>\n",
       "      <td>0</td>\n",
       "      <td>0</td>\n",
       "      <td>1</td>\n",
       "      <td>0</td>\n",
       "      <td>0</td>\n",
       "      <td>...</td>\n",
       "      <td>0</td>\n",
       "      <td>0</td>\n",
       "      <td>1</td>\n",
       "      <td>0</td>\n",
       "      <td>0</td>\n",
       "      <td>1</td>\n",
       "      <td>0</td>\n",
       "      <td>0</td>\n",
       "      <td>0</td>\n",
       "      <td>0</td>\n",
       "    </tr>\n",
       "    <tr>\n",
       "      <th>649355</th>\n",
       "      <td>-0.42</td>\n",
       "      <td>-0.54</td>\n",
       "      <td>-0.18</td>\n",
       "      <td>0</td>\n",
       "      <td>1</td>\n",
       "      <td>0</td>\n",
       "      <td>0</td>\n",
       "      <td>1</td>\n",
       "      <td>0</td>\n",
       "      <td>0</td>\n",
       "      <td>...</td>\n",
       "      <td>0</td>\n",
       "      <td>0</td>\n",
       "      <td>1</td>\n",
       "      <td>0</td>\n",
       "      <td>0</td>\n",
       "      <td>0</td>\n",
       "      <td>0</td>\n",
       "      <td>1</td>\n",
       "      <td>0</td>\n",
       "      <td>0</td>\n",
       "    </tr>\n",
       "    <tr>\n",
       "      <th>579735</th>\n",
       "      <td>-1.03</td>\n",
       "      <td>-0.89</td>\n",
       "      <td>-1.18</td>\n",
       "      <td>0</td>\n",
       "      <td>0</td>\n",
       "      <td>0</td>\n",
       "      <td>0</td>\n",
       "      <td>0</td>\n",
       "      <td>0</td>\n",
       "      <td>0</td>\n",
       "      <td>...</td>\n",
       "      <td>0</td>\n",
       "      <td>0</td>\n",
       "      <td>0</td>\n",
       "      <td>0</td>\n",
       "      <td>0</td>\n",
       "      <td>0</td>\n",
       "      <td>0</td>\n",
       "      <td>0</td>\n",
       "      <td>0</td>\n",
       "      <td>1</td>\n",
       "    </tr>\n",
       "    <tr>\n",
       "      <th>614238</th>\n",
       "      <td>-0.42</td>\n",
       "      <td>1.64</td>\n",
       "      <td>-0.18</td>\n",
       "      <td>0</td>\n",
       "      <td>1</td>\n",
       "      <td>0</td>\n",
       "      <td>0</td>\n",
       "      <td>1</td>\n",
       "      <td>0</td>\n",
       "      <td>0</td>\n",
       "      <td>...</td>\n",
       "      <td>0</td>\n",
       "      <td>0</td>\n",
       "      <td>0</td>\n",
       "      <td>1</td>\n",
       "      <td>0</td>\n",
       "      <td>0</td>\n",
       "      <td>0</td>\n",
       "      <td>0</td>\n",
       "      <td>0</td>\n",
       "      <td>1</td>\n",
       "    </tr>\n",
       "    <tr>\n",
       "      <th>588625</th>\n",
       "      <td>0.51</td>\n",
       "      <td>2.02</td>\n",
       "      <td>0.07</td>\n",
       "      <td>0</td>\n",
       "      <td>1</td>\n",
       "      <td>0</td>\n",
       "      <td>0</td>\n",
       "      <td>1</td>\n",
       "      <td>0</td>\n",
       "      <td>0</td>\n",
       "      <td>...</td>\n",
       "      <td>0</td>\n",
       "      <td>0</td>\n",
       "      <td>0</td>\n",
       "      <td>1</td>\n",
       "      <td>0</td>\n",
       "      <td>0</td>\n",
       "      <td>0</td>\n",
       "      <td>0</td>\n",
       "      <td>0</td>\n",
       "      <td>1</td>\n",
       "    </tr>\n",
       "  </tbody>\n",
       "</table>\n",
       "<p>5 rows × 47 columns</p>\n",
       "</div>"
      ],
      "text/plain": [
       "             TotalVisits  Total Time Spent on Website  Page Views Per Visit  \\\n",
       "Lead Number                                                                   \n",
       "630949             -0.42                        -0.16                 -0.18   \n",
       "649355             -0.42                        -0.54                 -0.18   \n",
       "579735             -1.03                        -0.89                 -1.18   \n",
       "614238             -0.42                         1.64                 -0.18   \n",
       "588625              0.51                         2.02                  0.07   \n",
       "\n",
       "             A free copy of Mastering The Interview  \\\n",
       "Lead Number                                           \n",
       "630949                                            1   \n",
       "649355                                            0   \n",
       "579735                                            0   \n",
       "614238                                            0   \n",
       "588625                                            0   \n",
       "\n",
       "             Lead Origin_Landing Page Submission  Lead Origin_Lead Add Form  \\\n",
       "Lead Number                                                                   \n",
       "630949                                         1                          0   \n",
       "649355                                         1                          0   \n",
       "579735                                         0                          0   \n",
       "614238                                         1                          0   \n",
       "588625                                         1                          0   \n",
       "\n",
       "             Lead Origin_Lead Import  Lead Source_Direct Traffic  \\\n",
       "Lead Number                                                        \n",
       "630949                             0                           1   \n",
       "649355                             0                           1   \n",
       "579735                             0                           0   \n",
       "614238                             0                           1   \n",
       "588625                             0                           1   \n",
       "\n",
       "             Lead Source_Facebook  Lead Source_Google  ...  \\\n",
       "Lead Number                                            ...   \n",
       "630949                          0                   0  ...   \n",
       "649355                          0                   0  ...   \n",
       "579735                          0                   0  ...   \n",
       "614238                          0                   0  ...   \n",
       "588625                          0                   0  ...   \n",
       "\n",
       "             Specialization_Operations Management  Specialization_Others  \\\n",
       "Lead Number                                                                \n",
       "630949                                          0                      0   \n",
       "649355                                          0                      0   \n",
       "579735                                          0                      0   \n",
       "614238                                          0                      0   \n",
       "588625                                          0                      0   \n",
       "\n",
       "             City_Mumbai  City_Others  City_Thane & Outskirts  \\\n",
       "Lead Number                                                     \n",
       "630949                 1            0                       0   \n",
       "649355                 1            0                       0   \n",
       "579735                 0            0                       0   \n",
       "614238                 0            1                       0   \n",
       "588625                 0            1                       0   \n",
       "\n",
       "             Last Activity_Email Opened  \\\n",
       "Lead Number                               \n",
       "630949                                1   \n",
       "649355                                0   \n",
       "579735                                0   \n",
       "614238                                0   \n",
       "588625                                0   \n",
       "\n",
       "             Last Activity_Olark Chat Conversation  Last Activity_Others  \\\n",
       "Lead Number                                                                \n",
       "630949                                           0                     0   \n",
       "649355                                           0                     1   \n",
       "579735                                           0                     0   \n",
       "614238                                           0                     0   \n",
       "588625                                           0                     0   \n",
       "\n",
       "             Last Activity_Page Visited on Website  Last Activity_SMS Sent  \n",
       "Lead Number                                                                 \n",
       "630949                                           0                       0  \n",
       "649355                                           0                       0  \n",
       "579735                                           0                       1  \n",
       "614238                                           0                       1  \n",
       "588625                                           0                       1  \n",
       "\n",
       "[5 rows x 47 columns]"
      ]
     },
     "execution_count": 1256,
     "metadata": {},
     "output_type": "execute_result"
    }
   ],
   "source": [
    "scaler = StandardScaler()\n",
    "\n",
    "X_train[['TotalVisits','Total Time Spent on Website','Page Views Per Visit']] = scaler.fit_transform(X_train[['TotalVisits','Total Time Spent on Website','Page Views Per Visit']])\n",
    "\n",
    "X_train.head()"
   ]
  },
  {
   "cell_type": "markdown",
   "metadata": {},
   "source": [
    "The three numerical features- TotalVisits','Total Time Spent on Website','Page Views Per Visit are scaled."
   ]
  },
  {
   "cell_type": "code",
   "execution_count": 1257,
   "metadata": {},
   "outputs": [
    {
     "data": {
      "text/html": [
       "<div>\n",
       "<style scoped>\n",
       "    .dataframe tbody tr th:only-of-type {\n",
       "        vertical-align: middle;\n",
       "    }\n",
       "\n",
       "    .dataframe tbody tr th {\n",
       "        vertical-align: top;\n",
       "    }\n",
       "\n",
       "    .dataframe thead th {\n",
       "        text-align: right;\n",
       "    }\n",
       "</style>\n",
       "<table border=\"1\" class=\"dataframe\">\n",
       "  <thead>\n",
       "    <tr style=\"text-align: right;\">\n",
       "      <th></th>\n",
       "      <th>TotalVisits</th>\n",
       "      <th>Total Time Spent on Website</th>\n",
       "      <th>Page Views Per Visit</th>\n",
       "      <th>A free copy of Mastering The Interview</th>\n",
       "      <th>Lead Origin_Landing Page Submission</th>\n",
       "      <th>Lead Origin_Lead Add Form</th>\n",
       "      <th>Lead Origin_Lead Import</th>\n",
       "      <th>Lead Source_Direct Traffic</th>\n",
       "      <th>Lead Source_Facebook</th>\n",
       "      <th>Lead Source_Google</th>\n",
       "      <th>...</th>\n",
       "      <th>Specialization_Operations Management</th>\n",
       "      <th>Specialization_Others</th>\n",
       "      <th>City_Mumbai</th>\n",
       "      <th>City_Others</th>\n",
       "      <th>City_Thane &amp; Outskirts</th>\n",
       "      <th>Last Activity_Email Opened</th>\n",
       "      <th>Last Activity_Olark Chat Conversation</th>\n",
       "      <th>Last Activity_Others</th>\n",
       "      <th>Last Activity_Page Visited on Website</th>\n",
       "      <th>Last Activity_SMS Sent</th>\n",
       "    </tr>\n",
       "  </thead>\n",
       "  <tbody>\n",
       "    <tr>\n",
       "      <th>count</th>\n",
       "      <td>6351.00</td>\n",
       "      <td>6351.00</td>\n",
       "      <td>6351.00</td>\n",
       "      <td>6351.00</td>\n",
       "      <td>6351.00</td>\n",
       "      <td>6351.00</td>\n",
       "      <td>6351.00</td>\n",
       "      <td>6351.00</td>\n",
       "      <td>6351.00</td>\n",
       "      <td>6351.00</td>\n",
       "      <td>...</td>\n",
       "      <td>6351.00</td>\n",
       "      <td>6351.00</td>\n",
       "      <td>6351.00</td>\n",
       "      <td>6351.00</td>\n",
       "      <td>6351.00</td>\n",
       "      <td>6351.00</td>\n",
       "      <td>6351.00</td>\n",
       "      <td>6351.00</td>\n",
       "      <td>6351.00</td>\n",
       "      <td>6351.00</td>\n",
       "    </tr>\n",
       "    <tr>\n",
       "      <th>mean</th>\n",
       "      <td>0.00</td>\n",
       "      <td>0.00</td>\n",
       "      <td>0.00</td>\n",
       "      <td>0.32</td>\n",
       "      <td>0.54</td>\n",
       "      <td>0.07</td>\n",
       "      <td>0.00</td>\n",
       "      <td>0.28</td>\n",
       "      <td>0.00</td>\n",
       "      <td>0.32</td>\n",
       "      <td>...</td>\n",
       "      <td>0.05</td>\n",
       "      <td>0.29</td>\n",
       "      <td>0.35</td>\n",
       "      <td>0.17</td>\n",
       "      <td>0.08</td>\n",
       "      <td>0.37</td>\n",
       "      <td>0.11</td>\n",
       "      <td>0.14</td>\n",
       "      <td>0.07</td>\n",
       "      <td>0.31</td>\n",
       "    </tr>\n",
       "    <tr>\n",
       "      <th>std</th>\n",
       "      <td>1.00</td>\n",
       "      <td>1.00</td>\n",
       "      <td>1.00</td>\n",
       "      <td>0.46</td>\n",
       "      <td>0.50</td>\n",
       "      <td>0.25</td>\n",
       "      <td>0.06</td>\n",
       "      <td>0.45</td>\n",
       "      <td>0.06</td>\n",
       "      <td>0.47</td>\n",
       "      <td>...</td>\n",
       "      <td>0.23</td>\n",
       "      <td>0.45</td>\n",
       "      <td>0.48</td>\n",
       "      <td>0.38</td>\n",
       "      <td>0.27</td>\n",
       "      <td>0.48</td>\n",
       "      <td>0.31</td>\n",
       "      <td>0.35</td>\n",
       "      <td>0.26</td>\n",
       "      <td>0.46</td>\n",
       "    </tr>\n",
       "    <tr>\n",
       "      <th>min</th>\n",
       "      <td>-1.03</td>\n",
       "      <td>-0.89</td>\n",
       "      <td>-1.18</td>\n",
       "      <td>0.00</td>\n",
       "      <td>0.00</td>\n",
       "      <td>0.00</td>\n",
       "      <td>0.00</td>\n",
       "      <td>0.00</td>\n",
       "      <td>0.00</td>\n",
       "      <td>0.00</td>\n",
       "      <td>...</td>\n",
       "      <td>0.00</td>\n",
       "      <td>0.00</td>\n",
       "      <td>0.00</td>\n",
       "      <td>0.00</td>\n",
       "      <td>0.00</td>\n",
       "      <td>0.00</td>\n",
       "      <td>0.00</td>\n",
       "      <td>0.00</td>\n",
       "      <td>0.00</td>\n",
       "      <td>0.00</td>\n",
       "    </tr>\n",
       "    <tr>\n",
       "      <th>25%</th>\n",
       "      <td>-0.73</td>\n",
       "      <td>-0.87</td>\n",
       "      <td>-0.68</td>\n",
       "      <td>0.00</td>\n",
       "      <td>0.00</td>\n",
       "      <td>0.00</td>\n",
       "      <td>0.00</td>\n",
       "      <td>0.00</td>\n",
       "      <td>0.00</td>\n",
       "      <td>0.00</td>\n",
       "      <td>...</td>\n",
       "      <td>0.00</td>\n",
       "      <td>0.00</td>\n",
       "      <td>0.00</td>\n",
       "      <td>0.00</td>\n",
       "      <td>0.00</td>\n",
       "      <td>0.00</td>\n",
       "      <td>0.00</td>\n",
       "      <td>0.00</td>\n",
       "      <td>0.00</td>\n",
       "      <td>0.00</td>\n",
       "    </tr>\n",
       "    <tr>\n",
       "      <th>50%</th>\n",
       "      <td>-0.11</td>\n",
       "      <td>-0.44</td>\n",
       "      <td>-0.18</td>\n",
       "      <td>0.00</td>\n",
       "      <td>1.00</td>\n",
       "      <td>0.00</td>\n",
       "      <td>0.00</td>\n",
       "      <td>0.00</td>\n",
       "      <td>0.00</td>\n",
       "      <td>0.00</td>\n",
       "      <td>...</td>\n",
       "      <td>0.00</td>\n",
       "      <td>0.00</td>\n",
       "      <td>0.00</td>\n",
       "      <td>0.00</td>\n",
       "      <td>0.00</td>\n",
       "      <td>0.00</td>\n",
       "      <td>0.00</td>\n",
       "      <td>0.00</td>\n",
       "      <td>0.00</td>\n",
       "      <td>0.00</td>\n",
       "    </tr>\n",
       "    <tr>\n",
       "      <th>75%</th>\n",
       "      <td>0.51</td>\n",
       "      <td>0.80</td>\n",
       "      <td>0.49</td>\n",
       "      <td>1.00</td>\n",
       "      <td>1.00</td>\n",
       "      <td>0.00</td>\n",
       "      <td>0.00</td>\n",
       "      <td>1.00</td>\n",
       "      <td>0.00</td>\n",
       "      <td>1.00</td>\n",
       "      <td>...</td>\n",
       "      <td>0.00</td>\n",
       "      <td>1.00</td>\n",
       "      <td>1.00</td>\n",
       "      <td>0.00</td>\n",
       "      <td>0.00</td>\n",
       "      <td>1.00</td>\n",
       "      <td>0.00</td>\n",
       "      <td>0.00</td>\n",
       "      <td>0.00</td>\n",
       "      <td>1.00</td>\n",
       "    </tr>\n",
       "    <tr>\n",
       "      <th>max</th>\n",
       "      <td>4.21</td>\n",
       "      <td>3.20</td>\n",
       "      <td>3.34</td>\n",
       "      <td>1.00</td>\n",
       "      <td>1.00</td>\n",
       "      <td>1.00</td>\n",
       "      <td>1.00</td>\n",
       "      <td>1.00</td>\n",
       "      <td>1.00</td>\n",
       "      <td>1.00</td>\n",
       "      <td>...</td>\n",
       "      <td>1.00</td>\n",
       "      <td>1.00</td>\n",
       "      <td>1.00</td>\n",
       "      <td>1.00</td>\n",
       "      <td>1.00</td>\n",
       "      <td>1.00</td>\n",
       "      <td>1.00</td>\n",
       "      <td>1.00</td>\n",
       "      <td>1.00</td>\n",
       "      <td>1.00</td>\n",
       "    </tr>\n",
       "  </tbody>\n",
       "</table>\n",
       "<p>8 rows × 47 columns</p>\n",
       "</div>"
      ],
      "text/plain": [
       "       TotalVisits  Total Time Spent on Website  Page Views Per Visit  \\\n",
       "count      6351.00                      6351.00               6351.00   \n",
       "mean          0.00                         0.00                  0.00   \n",
       "std           1.00                         1.00                  1.00   \n",
       "min          -1.03                        -0.89                 -1.18   \n",
       "25%          -0.73                        -0.87                 -0.68   \n",
       "50%          -0.11                        -0.44                 -0.18   \n",
       "75%           0.51                         0.80                  0.49   \n",
       "max           4.21                         3.20                  3.34   \n",
       "\n",
       "       A free copy of Mastering The Interview  \\\n",
       "count                                 6351.00   \n",
       "mean                                     0.32   \n",
       "std                                      0.46   \n",
       "min                                      0.00   \n",
       "25%                                      0.00   \n",
       "50%                                      0.00   \n",
       "75%                                      1.00   \n",
       "max                                      1.00   \n",
       "\n",
       "       Lead Origin_Landing Page Submission  Lead Origin_Lead Add Form  \\\n",
       "count                              6351.00                    6351.00   \n",
       "mean                                  0.54                       0.07   \n",
       "std                                   0.50                       0.25   \n",
       "min                                   0.00                       0.00   \n",
       "25%                                   0.00                       0.00   \n",
       "50%                                   1.00                       0.00   \n",
       "75%                                   1.00                       0.00   \n",
       "max                                   1.00                       1.00   \n",
       "\n",
       "       Lead Origin_Lead Import  Lead Source_Direct Traffic  \\\n",
       "count                  6351.00                     6351.00   \n",
       "mean                      0.00                        0.28   \n",
       "std                       0.06                        0.45   \n",
       "min                       0.00                        0.00   \n",
       "25%                       0.00                        0.00   \n",
       "50%                       0.00                        0.00   \n",
       "75%                       0.00                        1.00   \n",
       "max                       1.00                        1.00   \n",
       "\n",
       "       Lead Source_Facebook  Lead Source_Google  ...  \\\n",
       "count               6351.00             6351.00  ...   \n",
       "mean                   0.00                0.32  ...   \n",
       "std                    0.06                0.47  ...   \n",
       "min                    0.00                0.00  ...   \n",
       "25%                    0.00                0.00  ...   \n",
       "50%                    0.00                0.00  ...   \n",
       "75%                    0.00                1.00  ...   \n",
       "max                    1.00                1.00  ...   \n",
       "\n",
       "       Specialization_Operations Management  Specialization_Others  \\\n",
       "count                               6351.00                6351.00   \n",
       "mean                                   0.05                   0.29   \n",
       "std                                    0.23                   0.45   \n",
       "min                                    0.00                   0.00   \n",
       "25%                                    0.00                   0.00   \n",
       "50%                                    0.00                   0.00   \n",
       "75%                                    0.00                   1.00   \n",
       "max                                    1.00                   1.00   \n",
       "\n",
       "       City_Mumbai  City_Others  City_Thane & Outskirts  \\\n",
       "count      6351.00      6351.00                 6351.00   \n",
       "mean          0.35         0.17                    0.08   \n",
       "std           0.48         0.38                    0.27   \n",
       "min           0.00         0.00                    0.00   \n",
       "25%           0.00         0.00                    0.00   \n",
       "50%           0.00         0.00                    0.00   \n",
       "75%           1.00         0.00                    0.00   \n",
       "max           1.00         1.00                    1.00   \n",
       "\n",
       "       Last Activity_Email Opened  Last Activity_Olark Chat Conversation  \\\n",
       "count                     6351.00                                6351.00   \n",
       "mean                         0.37                                   0.11   \n",
       "std                          0.48                                   0.31   \n",
       "min                          0.00                                   0.00   \n",
       "25%                          0.00                                   0.00   \n",
       "50%                          0.00                                   0.00   \n",
       "75%                          1.00                                   0.00   \n",
       "max                          1.00                                   1.00   \n",
       "\n",
       "       Last Activity_Others  Last Activity_Page Visited on Website  \\\n",
       "count               6351.00                                6351.00   \n",
       "mean                   0.14                                   0.07   \n",
       "std                    0.35                                   0.26   \n",
       "min                    0.00                                   0.00   \n",
       "25%                    0.00                                   0.00   \n",
       "50%                    0.00                                   0.00   \n",
       "75%                    0.00                                   0.00   \n",
       "max                    1.00                                   1.00   \n",
       "\n",
       "       Last Activity_SMS Sent  \n",
       "count                 6351.00  \n",
       "mean                     0.31  \n",
       "std                      0.46  \n",
       "min                      0.00  \n",
       "25%                      0.00  \n",
       "50%                      0.00  \n",
       "75%                      1.00  \n",
       "max                      1.00  \n",
       "\n",
       "[8 rows x 47 columns]"
      ]
     },
     "execution_count": 1257,
     "metadata": {},
     "output_type": "execute_result"
    }
   ],
   "source": [
    "X_train.describe()"
   ]
  },
  {
   "cell_type": "code",
   "execution_count": 1258,
   "metadata": {},
   "outputs": [
    {
     "data": {
      "text/plain": [
       "37.85541106458012"
      ]
     },
     "execution_count": 1258,
     "metadata": {},
     "output_type": "execute_result"
    }
   ],
   "source": [
    "### Checking the Lead Conversion Rate\n",
    "converted = (sum(leads['Converted'])/len(leads['Converted'].index))*100\n",
    "converted"
   ]
  },
  {
   "cell_type": "markdown",
   "metadata": {},
   "source": [
    "This is close to the conversion rate mentioned in the problem statement i.e. 30%"
   ]
  },
  {
   "cell_type": "markdown",
   "metadata": {},
   "source": [
    "## 6. Model Building"
   ]
  },
  {
   "cell_type": "code",
   "execution_count": 1259,
   "metadata": {},
   "outputs": [
    {
     "name": "stdout",
     "output_type": "stream",
     "text": [
      "                 Generalized Linear Model Regression Results                  \n",
      "==============================================================================\n",
      "Dep. Variable:              Converted   No. Observations:                 6351\n",
      "Model:                            GLM   Df Residuals:                     6305\n",
      "Model Family:                Binomial   Df Model:                           45\n",
      "Link Function:                  logit   Scale:                          1.0000\n",
      "Method:                          IRLS   Log-Likelihood:                    nan\n",
      "Date:                Mon, 07 Sep 2020   Deviance:                          nan\n",
      "Time:                        22:56:12   Pearson chi2:                 6.63e+18\n",
      "No. Iterations:                   100                                         \n",
      "Covariance Type:            nonrobust                                         \n",
      "========================================================================================================================\n",
      "                                                           coef    std err          z      P>|z|      [0.025      0.975]\n",
      "------------------------------------------------------------------------------------------------------------------------\n",
      "const                                                -1.516e+14   5.16e+07  -2.94e+06      0.000   -1.52e+14   -1.52e+14\n",
      "TotalVisits                                           4.983e+13   1.29e+06   3.86e+07      0.000    4.98e+13    4.98e+13\n",
      "Total Time Spent on Website                           1.393e+14   9.83e+05   1.42e+08      0.000    1.39e+14    1.39e+14\n",
      "Page Views Per Visit                                 -1.272e+13   1.41e+06  -9.01e+06      0.000   -1.27e+13   -1.27e+13\n",
      "A free copy of Mastering The Interview               -6.471e+13   2.71e+06  -2.39e+07      0.000   -6.47e+13   -6.47e+13\n",
      "Lead Origin_Landing Page Submission                  -1.012e+15   3.68e+06  -2.75e+08      0.000   -1.01e+15   -1.01e+15\n",
      "Lead Origin_Lead Add Form                             2.431e+14   4.76e+07    5.1e+06      0.000    2.43e+14    2.43e+14\n",
      "Lead Origin_Lead Import                               3.159e+15   6.89e+07   4.58e+07      0.000    3.16e+15    3.16e+15\n",
      "Lead Source_Direct Traffic                           -8.516e+14   6.17e+07  -1.38e+07      0.000   -8.52e+14   -8.52e+14\n",
      "Lead Source_Facebook                                 -4.845e+15   9.13e+07   -5.3e+07      0.000   -4.84e+15   -4.84e+15\n",
      "Lead Source_Google                                   -7.323e+14   6.17e+07  -1.19e+07      0.000   -7.32e+14   -7.32e+14\n",
      "Lead Source_Live Chat                                  2.52e+15   6.14e+07    4.1e+07      0.000    2.52e+15    2.52e+15\n",
      "Lead Source_NC_EDM                                    4.084e+15   9.12e+07   4.48e+07      0.000    4.08e+15    4.08e+15\n",
      "Lead Source_Olark Chat                               -4.229e+14   6.15e+07  -6.88e+06      0.000   -4.23e+14   -4.23e+14\n",
      "Lead Source_Organic Search                           -8.381e+14   6.18e+07  -1.36e+07      0.000   -8.38e+14   -8.38e+14\n",
      "Lead Source_Pay per Click Ads                        -4.801e+15   9.13e+07  -5.26e+07      0.000    -4.8e+15    -4.8e+15\n",
      "Lead Source_Press_Release                            -5.035e+15   9.15e+07   -5.5e+07      0.000   -5.03e+15   -5.03e+15\n",
      "Lead Source_Reference                                -2.835e+14   3.91e+07  -7.26e+06      0.000   -2.83e+14   -2.83e+14\n",
      "Lead Source_Referral Sites                           -6.493e+14   6.21e+07  -1.04e+07      0.000   -6.49e+14   -6.49e+14\n",
      "Lead Source_Social Media                              1.798e+14    7.8e+07   2.31e+06      0.000     1.8e+14     1.8e+14\n",
      "Lead Source_WeLearn                                     42.2167   6.94e-07   6.09e+07      0.000      42.217      42.217\n",
      "Lead Source_Welingak Website                          3.197e+14   3.95e+07   8.09e+06      0.000     3.2e+14     3.2e+14\n",
      "Lead Source_bing                                     -4.543e+14   7.29e+07  -6.23e+06      0.000   -4.54e+14   -4.54e+14\n",
      "Lead Source_blog                                     -3.924e+15   9.15e+07  -4.29e+07      0.000   -3.92e+15   -3.92e+15\n",
      "Lead Source_google                                   -1.742e+15   7.05e+07  -2.47e+07      0.000   -1.74e+15   -1.74e+15\n",
      "Lead Source_testone                                  -4.616e+15   9.13e+07  -5.06e+07      0.000   -4.62e+15   -4.62e+15\n",
      "Lead Source_welearnblog_Home                         -4.356e+15   9.13e+07  -4.77e+07      0.000   -4.36e+15   -4.36e+15\n",
      "Lead Source_youtubechannel                           -3.467e+15   9.13e+07   -3.8e+07      0.000   -3.47e+15   -3.47e+15\n",
      "Country_Outside India                                 8.124e+13   4.15e+06   1.96e+07      0.000    8.12e+13    8.12e+13\n",
      "Last Notable Activity_Modified                       -1.653e+14   3.58e+06  -4.62e+07      0.000   -1.65e+14   -1.65e+14\n",
      "Last Notable Activity_Others                            6.1e+11   4.99e+06   1.22e+05      0.000     6.1e+11     6.1e+11\n",
      "Last Notable Activity_SMS Sent                        1.236e+15   5.21e+06   2.37e+08      0.000    1.24e+15    1.24e+15\n",
      "What is your current occupation_Others                 2.68e+14   5.54e+06   4.84e+07      0.000    2.68e+14    2.68e+14\n",
      "What is your current occupation_Unemployed            1.718e+14   2.03e+06   8.48e+07      0.000    1.72e+14    1.72e+14\n",
      "What is your current occupation_Working Professional  1.283e+15   3.84e+06   3.34e+08      0.000    1.28e+15    1.28e+15\n",
      "Specialization_Finance Management                     2.559e+14   4.66e+06   5.49e+07      0.000    2.56e+14    2.56e+14\n",
      "Specialization_Human Resource Management              7.844e+13    4.6e+06   1.71e+07      0.000    7.84e+13    7.84e+13\n",
      "Specialization_Marketing Management                   9.822e+13   4.51e+06   2.18e+07      0.000    9.82e+13    9.82e+13\n",
      "Specialization_Operations Management                   2.26e+14   5.16e+06   4.38e+07      0.000    2.26e+14    2.26e+14\n",
      "Specialization_Others                                 1.756e+14    4.1e+06   4.28e+07      0.000    1.76e+14    1.76e+14\n",
      "City_Mumbai                                           9.544e+14   4.21e+06   2.27e+08      0.000    9.54e+14    9.54e+14\n",
      "City_Others                                           1.005e+15   4.41e+06   2.28e+08      0.000    1.01e+15    1.01e+15\n",
      "City_Thane & Outskirts                                1.023e+15   4.85e+06   2.11e+08      0.000    1.02e+15    1.02e+15\n",
      "Last Activity_Email Opened                            9.783e+13   1.05e+07   9.29e+06      0.000    9.78e+13    9.78e+13\n",
      "Last Activity_Olark Chat Conversation                -9.463e+13   1.06e+07   -8.9e+06      0.000   -9.46e+13   -9.46e+13\n",
      "Last Activity_Others                                 -1.157e+14   1.06e+07  -1.09e+07      0.000   -1.16e+14   -1.16e+14\n",
      "Last Activity_Page Visited on Website                -1.461e+14   1.09e+07  -1.34e+07      0.000   -1.46e+14   -1.46e+14\n",
      "Last Activity_SMS Sent                                 1.07e+14   1.08e+07   9.95e+06      0.000    1.07e+14    1.07e+14\n",
      "========================================================================================================================\n"
     ]
    }
   ],
   "source": [
    "# Logistic regression model\n",
    "logm1 = sm.GLM(y_train,(sm.add_constant(X_train)), family = sm.families.Binomial())\n",
    "print(logm1.fit().summary())"
   ]
  },
  {
   "cell_type": "markdown",
   "metadata": {},
   "source": [
    "### 6.1 Feature Selection Using RFE"
   ]
  },
  {
   "cell_type": "code",
   "execution_count": 1260,
   "metadata": {},
   "outputs": [],
   "source": [
    "from sklearn.linear_model import LogisticRegression\n",
    "logreg = LogisticRegression()"
   ]
  },
  {
   "cell_type": "code",
   "execution_count": 1261,
   "metadata": {},
   "outputs": [],
   "source": [
    "from sklearn.feature_selection import RFE\n",
    "rfe = RFE(logreg, 25)             # running RFE with 25 variables as output\n",
    "rfe = rfe.fit(X_train, y_train)"
   ]
  },
  {
   "cell_type": "code",
   "execution_count": 1262,
   "metadata": {},
   "outputs": [
    {
     "data": {
      "text/plain": [
       "array([False,  True, False, False,  True,  True, False, False, False,\n",
       "       False, False,  True,  True, False, False, False,  True, False,\n",
       "        True, False,  True, False, False, False, False, False, False,\n",
       "       False,  True,  True,  True,  True,  True,  True,  True,  True,\n",
       "        True,  True,  True,  True,  True,  True,  True,  True, False,\n",
       "       False,  True])"
      ]
     },
     "execution_count": 1262,
     "metadata": {},
     "output_type": "execute_result"
    }
   ],
   "source": [
    "rfe.support_"
   ]
  },
  {
   "cell_type": "code",
   "execution_count": 1263,
   "metadata": {},
   "outputs": [
    {
     "data": {
      "text/plain": [
       "[('TotalVisits', False, 8),\n",
       " ('Total Time Spent on Website', True, 1),\n",
       " ('Page Views Per Visit', False, 9),\n",
       " ('A free copy of Mastering The Interview', False, 14),\n",
       " ('Lead Origin_Landing Page Submission', True, 1),\n",
       " ('Lead Origin_Lead Add Form', True, 1),\n",
       " ('Lead Origin_Lead Import', False, 22),\n",
       " ('Lead Source_Direct Traffic', False, 3),\n",
       " ('Lead Source_Facebook', False, 6),\n",
       " ('Lead Source_Google', False, 7),\n",
       " ('Lead Source_Live Chat', False, 10),\n",
       " ('Lead Source_NC_EDM', True, 1),\n",
       " ('Lead Source_Olark Chat', True, 1),\n",
       " ('Lead Source_Organic Search', False, 4),\n",
       " ('Lead Source_Pay per Click Ads', False, 16),\n",
       " ('Lead Source_Press_Release', False, 17),\n",
       " ('Lead Source_Reference', True, 1),\n",
       " ('Lead Source_Referral Sites', False, 5),\n",
       " ('Lead Source_Social Media', True, 1),\n",
       " ('Lead Source_WeLearn', False, 23),\n",
       " ('Lead Source_Welingak Website', True, 1),\n",
       " ('Lead Source_bing', False, 21),\n",
       " ('Lead Source_blog', False, 19),\n",
       " ('Lead Source_google', False, 13),\n",
       " ('Lead Source_testone', False, 15),\n",
       " ('Lead Source_welearnblog_Home', False, 18),\n",
       " ('Lead Source_youtubechannel', False, 20),\n",
       " ('Country_Outside India', False, 2),\n",
       " ('Last Notable Activity_Modified', True, 1),\n",
       " ('Last Notable Activity_Others', True, 1),\n",
       " ('Last Notable Activity_SMS Sent', True, 1),\n",
       " ('What is your current occupation_Others', True, 1),\n",
       " ('What is your current occupation_Unemployed', True, 1),\n",
       " ('What is your current occupation_Working Professional', True, 1),\n",
       " ('Specialization_Finance Management', True, 1),\n",
       " ('Specialization_Human Resource Management', True, 1),\n",
       " ('Specialization_Marketing Management', True, 1),\n",
       " ('Specialization_Operations Management', True, 1),\n",
       " ('Specialization_Others', True, 1),\n",
       " ('City_Mumbai', True, 1),\n",
       " ('City_Others', True, 1),\n",
       " ('City_Thane & Outskirts', True, 1),\n",
       " ('Last Activity_Email Opened', True, 1),\n",
       " ('Last Activity_Olark Chat Conversation', True, 1),\n",
       " ('Last Activity_Others', False, 12),\n",
       " ('Last Activity_Page Visited on Website', False, 11),\n",
       " ('Last Activity_SMS Sent', True, 1)]"
      ]
     },
     "execution_count": 1263,
     "metadata": {},
     "output_type": "execute_result"
    }
   ],
   "source": [
    "list(zip(X_train.columns, rfe.support_, rfe.ranking_))"
   ]
  },
  {
   "cell_type": "code",
   "execution_count": 1264,
   "metadata": {},
   "outputs": [
    {
     "data": {
      "text/plain": [
       "Index(['Total Time Spent on Website', 'Lead Origin_Landing Page Submission',\n",
       "       'Lead Origin_Lead Add Form', 'Lead Source_NC_EDM',\n",
       "       'Lead Source_Olark Chat', 'Lead Source_Reference',\n",
       "       'Lead Source_Social Media', 'Lead Source_Welingak Website',\n",
       "       'Last Notable Activity_Modified', 'Last Notable Activity_Others',\n",
       "       'Last Notable Activity_SMS Sent',\n",
       "       'What is your current occupation_Others',\n",
       "       'What is your current occupation_Unemployed',\n",
       "       'What is your current occupation_Working Professional',\n",
       "       'Specialization_Finance Management',\n",
       "       'Specialization_Human Resource Management',\n",
       "       'Specialization_Marketing Management',\n",
       "       'Specialization_Operations Management', 'Specialization_Others',\n",
       "       'City_Mumbai', 'City_Others', 'City_Thane & Outskirts',\n",
       "       'Last Activity_Email Opened', 'Last Activity_Olark Chat Conversation',\n",
       "       'Last Activity_SMS Sent'],\n",
       "      dtype='object')"
      ]
     },
     "execution_count": 1264,
     "metadata": {},
     "output_type": "execute_result"
    }
   ],
   "source": [
    "# Columns with Top RFE ranking i.e. 'True'\n",
    "col = X_train.columns[rfe.support_]\n",
    "col"
   ]
  },
  {
   "cell_type": "code",
   "execution_count": 1265,
   "metadata": {},
   "outputs": [
    {
     "data": {
      "text/plain": [
       "Index(['TotalVisits', 'Page Views Per Visit',\n",
       "       'A free copy of Mastering The Interview', 'Lead Origin_Lead Import',\n",
       "       'Lead Source_Direct Traffic', 'Lead Source_Facebook',\n",
       "       'Lead Source_Google', 'Lead Source_Live Chat',\n",
       "       'Lead Source_Organic Search', 'Lead Source_Pay per Click Ads',\n",
       "       'Lead Source_Press_Release', 'Lead Source_Referral Sites',\n",
       "       'Lead Source_WeLearn', 'Lead Source_bing', 'Lead Source_blog',\n",
       "       'Lead Source_google', 'Lead Source_testone',\n",
       "       'Lead Source_welearnblog_Home', 'Lead Source_youtubechannel',\n",
       "       'Country_Outside India', 'Last Activity_Others',\n",
       "       'Last Activity_Page Visited on Website'],\n",
       "      dtype='object')"
      ]
     },
     "execution_count": 1265,
     "metadata": {},
     "output_type": "execute_result"
    }
   ],
   "source": [
    "# Columns which do not support i.e. 'False'\n",
    "X_train.columns[~rfe.support_]"
   ]
  },
  {
   "cell_type": "markdown",
   "metadata": {},
   "source": [
    "### 6.2. Model 2 : Assessing the model with StatsModels using RFE columns"
   ]
  },
  {
   "cell_type": "code",
   "execution_count": 1266,
   "metadata": {},
   "outputs": [
    {
     "name": "stdout",
     "output_type": "stream",
     "text": [
      "                 Generalized Linear Model Regression Results                  \n",
      "==============================================================================\n",
      "Dep. Variable:              Converted   No. Observations:                 6351\n",
      "Model:                            GLM   Df Residuals:                     6325\n",
      "Model Family:                Binomial   Df Model:                           25\n",
      "Link Function:                  logit   Scale:                          1.0000\n",
      "Method:                          IRLS   Log-Likelihood:                -2550.8\n",
      "Date:                Mon, 07 Sep 2020   Deviance:                       5101.6\n",
      "Time:                        22:56:15   Pearson chi2:                 6.12e+03\n",
      "No. Iterations:                    19                                         \n",
      "Covariance Type:            nonrobust                                         \n",
      "========================================================================================================================\n",
      "                                                           coef    std err          z      P>|z|      [0.025      0.975]\n",
      "------------------------------------------------------------------------------------------------------------------------\n",
      "const                                                   -2.8639      0.210    -13.617      0.000      -3.276      -2.452\n",
      "Total Time Spent on Website                              1.1089      0.041     27.146      0.000       1.029       1.189\n",
      "Lead Origin_Landing Page Submission                     -1.2553      0.140     -8.980      0.000      -1.529      -0.981\n",
      "Lead Origin_Lead Add Form                                1.2001      0.884      1.357      0.175      -0.533       2.934\n",
      "Lead Source_NC_EDM                                      21.7940   1.77e+04      0.001      0.999   -3.47e+04    3.48e+04\n",
      "Lead Source_Olark Chat                                   1.1747      0.125      9.377      0.000       0.929       1.420\n",
      "Lead Source_Reference                                    1.8162      0.908      2.001      0.045       0.037       3.595\n",
      "Lead Source_Social Media                                 2.0832      1.554      1.340      0.180      -0.963       5.130\n",
      "Lead Source_Welingak Website                             4.1376      1.139      3.632      0.000       1.905       6.371\n",
      "Last Notable Activity_Modified                          -0.3145      0.143     -2.197      0.028      -0.595      -0.034\n",
      "Last Notable Activity_Others                             0.5100      0.210      2.427      0.015       0.098       0.922\n",
      "Last Notable Activity_SMS Sent                           0.8075      0.208      3.882      0.000       0.400       1.215\n",
      "What is your current occupation_Others                   1.3628      0.217      6.281      0.000       0.938       1.788\n",
      "What is your current occupation_Unemployed               1.1214      0.090     12.417      0.000       0.944       1.298\n",
      "What is your current occupation_Working Professional     3.5175      0.204     17.248      0.000       3.118       3.917\n",
      "Specialization_Finance Management                        0.6732      0.194      3.476      0.001       0.294       1.053\n",
      "Specialization_Human Resource Management                 0.6216      0.191      3.255      0.001       0.247       0.996\n",
      "Specialization_Marketing Management                      0.8064      0.187      4.308      0.000       0.440       1.173\n",
      "Specialization_Operations Management                     0.6099      0.220      2.774      0.006       0.179       1.041\n",
      "Specialization_Others                                    0.5387      0.170      3.161      0.002       0.205       0.873\n",
      "City_Mumbai                                              0.5916      0.175      3.373      0.001       0.248       0.935\n",
      "City_Others                                              0.4811      0.183      2.622      0.009       0.122       0.841\n",
      "City_Thane & Outskirts                                   0.5580      0.201      2.779      0.005       0.165       0.952\n",
      "Last Activity_Email Opened                               0.7694      0.170      4.529      0.000       0.436       1.102\n",
      "Last Activity_Olark Chat Conversation                   -0.6350      0.188     -3.375      0.001      -1.004      -0.266\n",
      "Last Activity_SMS Sent                                   1.2345      0.174      7.079      0.000       0.893       1.576\n",
      "========================================================================================================================\n"
     ]
    }
   ],
   "source": [
    "X_train2_sm = sm.add_constant(X_train[col])\n",
    "logm2 = sm.GLM(y_train,X_train2_sm, family = sm.families.Binomial())\n",
    "res2 = logm2.fit()\n",
    "print(res2.summary())"
   ]
  },
  {
   "cell_type": "code",
   "execution_count": 1267,
   "metadata": {},
   "outputs": [
    {
     "data": {
      "text/plain": [
       "Lead Number\n",
       "630949   0.09\n",
       "649355   0.48\n",
       "579735   0.35\n",
       "614238   0.74\n",
       "588625   0.79\n",
       "646388   0.79\n",
       "632041   0.04\n",
       "612248   0.97\n",
       "591797   0.87\n",
       "646673   0.76\n",
       "dtype: float64"
      ]
     },
     "execution_count": 1267,
     "metadata": {},
     "output_type": "execute_result"
    }
   ],
   "source": [
    "# Getting the predicted values on the train set\n",
    "y_train_pred = res2.predict(X_train2_sm)\n",
    "y_train_pred[:10]"
   ]
  },
  {
   "cell_type": "code",
   "execution_count": 1268,
   "metadata": {
    "scrolled": true
   },
   "outputs": [
    {
     "data": {
      "text/plain": [
       "array([0.09424819, 0.47528082, 0.3467971 , 0.73738834, 0.78812767,\n",
       "       0.79009996, 0.04019853, 0.97182987, 0.8744259 , 0.75706878])"
      ]
     },
     "execution_count": 1268,
     "metadata": {},
     "output_type": "execute_result"
    }
   ],
   "source": [
    "# reshaping the numpy array containing predicted values\n",
    "y_train_pred = y_train_pred.values.reshape(-1)\n",
    "y_train_pred[:10]"
   ]
  },
  {
   "cell_type": "markdown",
   "metadata": {},
   "source": [
    "#### 6.2.1.Creating a dataframe with the actual flag and the predicted probabilities"
   ]
  },
  {
   "cell_type": "code",
   "execution_count": 1269,
   "metadata": {},
   "outputs": [
    {
     "data": {
      "text/html": [
       "<div>\n",
       "<style scoped>\n",
       "    .dataframe tbody tr th:only-of-type {\n",
       "        vertical-align: middle;\n",
       "    }\n",
       "\n",
       "    .dataframe tbody tr th {\n",
       "        vertical-align: top;\n",
       "    }\n",
       "\n",
       "    .dataframe thead th {\n",
       "        text-align: right;\n",
       "    }\n",
       "</style>\n",
       "<table border=\"1\" class=\"dataframe\">\n",
       "  <thead>\n",
       "    <tr style=\"text-align: right;\">\n",
       "      <th></th>\n",
       "      <th>Converted</th>\n",
       "      <th>Conversion_Prob</th>\n",
       "      <th>LeadID</th>\n",
       "    </tr>\n",
       "  </thead>\n",
       "  <tbody>\n",
       "    <tr>\n",
       "      <th>0</th>\n",
       "      <td>0</td>\n",
       "      <td>0.09</td>\n",
       "      <td>630949</td>\n",
       "    </tr>\n",
       "    <tr>\n",
       "      <th>1</th>\n",
       "      <td>0</td>\n",
       "      <td>0.48</td>\n",
       "      <td>649355</td>\n",
       "    </tr>\n",
       "    <tr>\n",
       "      <th>2</th>\n",
       "      <td>0</td>\n",
       "      <td>0.35</td>\n",
       "      <td>579735</td>\n",
       "    </tr>\n",
       "    <tr>\n",
       "      <th>3</th>\n",
       "      <td>1</td>\n",
       "      <td>0.74</td>\n",
       "      <td>614238</td>\n",
       "    </tr>\n",
       "    <tr>\n",
       "      <th>4</th>\n",
       "      <td>1</td>\n",
       "      <td>0.79</td>\n",
       "      <td>588625</td>\n",
       "    </tr>\n",
       "  </tbody>\n",
       "</table>\n",
       "</div>"
      ],
      "text/plain": [
       "   Converted  Conversion_Prob  LeadID\n",
       "0          0             0.09  630949\n",
       "1          0             0.48  649355\n",
       "2          0             0.35  579735\n",
       "3          1             0.74  614238\n",
       "4          1             0.79  588625"
      ]
     },
     "execution_count": 1269,
     "metadata": {},
     "output_type": "execute_result"
    }
   ],
   "source": [
    "y_train_pred = pd.DataFrame({'Converted':y_train.values, 'Conversion_Prob':y_train_pred})\n",
    "y_train_pred['LeadID'] = y_train.index\n",
    "y_train_pred.head()"
   ]
  },
  {
   "cell_type": "markdown",
   "metadata": {},
   "source": [
    "##### Creating new column 'predicted' with 1 if Conversion_Prob > 0.5 else 0"
   ]
  },
  {
   "cell_type": "code",
   "execution_count": 1270,
   "metadata": {},
   "outputs": [
    {
     "data": {
      "text/html": [
       "<div>\n",
       "<style scoped>\n",
       "    .dataframe tbody tr th:only-of-type {\n",
       "        vertical-align: middle;\n",
       "    }\n",
       "\n",
       "    .dataframe tbody tr th {\n",
       "        vertical-align: top;\n",
       "    }\n",
       "\n",
       "    .dataframe thead th {\n",
       "        text-align: right;\n",
       "    }\n",
       "</style>\n",
       "<table border=\"1\" class=\"dataframe\">\n",
       "  <thead>\n",
       "    <tr style=\"text-align: right;\">\n",
       "      <th></th>\n",
       "      <th>Converted</th>\n",
       "      <th>Conversion_Prob</th>\n",
       "      <th>LeadID</th>\n",
       "      <th>predicted</th>\n",
       "    </tr>\n",
       "  </thead>\n",
       "  <tbody>\n",
       "    <tr>\n",
       "      <th>0</th>\n",
       "      <td>0</td>\n",
       "      <td>0.09</td>\n",
       "      <td>630949</td>\n",
       "      <td>0</td>\n",
       "    </tr>\n",
       "    <tr>\n",
       "      <th>1</th>\n",
       "      <td>0</td>\n",
       "      <td>0.48</td>\n",
       "      <td>649355</td>\n",
       "      <td>0</td>\n",
       "    </tr>\n",
       "    <tr>\n",
       "      <th>2</th>\n",
       "      <td>0</td>\n",
       "      <td>0.35</td>\n",
       "      <td>579735</td>\n",
       "      <td>0</td>\n",
       "    </tr>\n",
       "    <tr>\n",
       "      <th>3</th>\n",
       "      <td>1</td>\n",
       "      <td>0.74</td>\n",
       "      <td>614238</td>\n",
       "      <td>1</td>\n",
       "    </tr>\n",
       "    <tr>\n",
       "      <th>4</th>\n",
       "      <td>1</td>\n",
       "      <td>0.79</td>\n",
       "      <td>588625</td>\n",
       "      <td>1</td>\n",
       "    </tr>\n",
       "  </tbody>\n",
       "</table>\n",
       "</div>"
      ],
      "text/plain": [
       "   Converted  Conversion_Prob  LeadID  predicted\n",
       "0          0             0.09  630949          0\n",
       "1          0             0.48  649355          0\n",
       "2          0             0.35  579735          0\n",
       "3          1             0.74  614238          1\n",
       "4          1             0.79  588625          1"
      ]
     },
     "execution_count": 1270,
     "metadata": {},
     "output_type": "execute_result"
    }
   ],
   "source": [
    "y_train_pred['predicted'] = y_train_pred.Conversion_Prob.map(lambda x: 1 if x > 0.5 else 0)\n",
    "\n",
    "# Let's see the head\n",
    "y_train_pred.head()"
   ]
  },
  {
   "cell_type": "markdown",
   "metadata": {},
   "source": [
    "#### 6.2.2. Metrics of this model are as follows "
   ]
  },
  {
   "cell_type": "code",
   "execution_count": 1271,
   "metadata": {},
   "outputs": [],
   "source": [
    "from sklearn import metrics"
   ]
  },
  {
   "cell_type": "markdown",
   "metadata": {},
   "source": [
    "##### Creating Confusion Metrics"
   ]
  },
  {
   "cell_type": "code",
   "execution_count": 1272,
   "metadata": {},
   "outputs": [
    {
     "name": "stdout",
     "output_type": "stream",
     "text": [
      "[[3463  442]\n",
      " [ 721 1725]]\n"
     ]
    }
   ],
   "source": [
    "# Confusion matrix \n",
    "confusion = metrics.confusion_matrix(y_train_pred.Converted, y_train_pred.predicted )\n",
    "print(confusion)"
   ]
  },
  {
   "cell_type": "code",
   "execution_count": 1273,
   "metadata": {},
   "outputs": [],
   "source": [
    " #Predicted     Not_Conv    Conv \n",
    " #Actual\n",
    " #Not_Conv        3463      442\n",
    " #Conv            721       1725"
   ]
  },
  {
   "cell_type": "code",
   "execution_count": 1274,
   "metadata": {},
   "outputs": [
    {
     "name": "stdout",
     "output_type": "stream",
     "text": [
      "Accuracy of the model: 81.68792316170682\n"
     ]
    }
   ],
   "source": [
    "# Let's check the overall accuracy.\n",
    "print('Accuracy of the model:', (metrics.accuracy_score(y_train_pred.Converted, y_train_pred.predicted))*100)"
   ]
  },
  {
   "cell_type": "code",
   "execution_count": 1275,
   "metadata": {},
   "outputs": [],
   "source": [
    "TP = confusion[1,1] # true positive \n",
    "TN = confusion[0,0] # true negatives\n",
    "FP = confusion[0,1] # false positives\n",
    "FN = confusion[1,0] # false negatives"
   ]
  },
  {
   "cell_type": "code",
   "execution_count": 1276,
   "metadata": {},
   "outputs": [
    {
     "name": "stdout",
     "output_type": "stream",
     "text": [
      "Sensitivity of model is 70.5233033524121\n"
     ]
    }
   ],
   "source": [
    "Sensitivity = TP/float(TP+FN)\n",
    "print('Sensitivity of model is', Sensitivity*100)"
   ]
  },
  {
   "cell_type": "markdown",
   "metadata": {},
   "source": [
    "Sensitivity of this model is 70%"
   ]
  },
  {
   "cell_type": "markdown",
   "metadata": {},
   "source": [
    "#### Checking VIFs"
   ]
  },
  {
   "cell_type": "code",
   "execution_count": 1277,
   "metadata": {},
   "outputs": [],
   "source": [
    "# Check for the VIF values of the feature variables. \n",
    "from statsmodels.stats.outliers_influence import variance_inflation_factor"
   ]
  },
  {
   "cell_type": "code",
   "execution_count": 1278,
   "metadata": {},
   "outputs": [
    {
     "data": {
      "text/plain": [
       "Index(['const', 'Total Time Spent on Website',\n",
       "       'Lead Origin_Landing Page Submission', 'Lead Origin_Lead Add Form',\n",
       "       'Lead Source_NC_EDM', 'Lead Source_Olark Chat', 'Lead Source_Reference',\n",
       "       'Lead Source_Social Media', 'Lead Source_Welingak Website',\n",
       "       'Last Notable Activity_Modified', 'Last Notable Activity_Others',\n",
       "       'Last Notable Activity_SMS Sent',\n",
       "       'What is your current occupation_Others',\n",
       "       'What is your current occupation_Unemployed',\n",
       "       'What is your current occupation_Working Professional',\n",
       "       'Specialization_Finance Management',\n",
       "       'Specialization_Human Resource Management',\n",
       "       'Specialization_Marketing Management',\n",
       "       'Specialization_Operations Management', 'Specialization_Others',\n",
       "       'City_Mumbai', 'City_Others', 'City_Thane & Outskirts',\n",
       "       'Last Activity_Email Opened', 'Last Activity_Olark Chat Conversation',\n",
       "       'Last Activity_SMS Sent'],\n",
       "      dtype='object')"
      ]
     },
     "execution_count": 1278,
     "metadata": {},
     "output_type": "execute_result"
    }
   ],
   "source": [
    "X_train2_sm.columns"
   ]
  },
  {
   "cell_type": "code",
   "execution_count": 1279,
   "metadata": {},
   "outputs": [
    {
     "data": {
      "text/plain": [
       "(6351, 26)"
      ]
     },
     "execution_count": 1279,
     "metadata": {},
     "output_type": "execute_result"
    }
   ],
   "source": [
    "X_train2_sm.shape"
   ]
  },
  {
   "cell_type": "code",
   "execution_count": 1280,
   "metadata": {},
   "outputs": [
    {
     "data": {
      "text/html": [
       "<div>\n",
       "<style scoped>\n",
       "    .dataframe tbody tr th:only-of-type {\n",
       "        vertical-align: middle;\n",
       "    }\n",
       "\n",
       "    .dataframe tbody tr th {\n",
       "        vertical-align: top;\n",
       "    }\n",
       "\n",
       "    .dataframe thead th {\n",
       "        text-align: right;\n",
       "    }\n",
       "</style>\n",
       "<table border=\"1\" class=\"dataframe\">\n",
       "  <thead>\n",
       "    <tr style=\"text-align: right;\">\n",
       "      <th></th>\n",
       "      <th>Features</th>\n",
       "      <th>VIF</th>\n",
       "    </tr>\n",
       "  </thead>\n",
       "  <tbody>\n",
       "    <tr>\n",
       "      <th>3</th>\n",
       "      <td>Lead Origin_Lead Add Form</td>\n",
       "      <td>58.44</td>\n",
       "    </tr>\n",
       "    <tr>\n",
       "      <th>6</th>\n",
       "      <td>Lead Source_Reference</td>\n",
       "      <td>45.66</td>\n",
       "    </tr>\n",
       "    <tr>\n",
       "      <th>0</th>\n",
       "      <td>const</td>\n",
       "      <td>32.05</td>\n",
       "    </tr>\n",
       "    <tr>\n",
       "      <th>8</th>\n",
       "      <td>Lead Source_Welingak Website</td>\n",
       "      <td>15.28</td>\n",
       "    </tr>\n",
       "    <tr>\n",
       "      <th>11</th>\n",
       "      <td>Last Notable Activity_SMS Sent</td>\n",
       "      <td>7.05</td>\n",
       "    </tr>\n",
       "    <tr>\n",
       "      <th>20</th>\n",
       "      <td>City_Mumbai</td>\n",
       "      <td>5.25</td>\n",
       "    </tr>\n",
       "    <tr>\n",
       "      <th>23</th>\n",
       "      <td>Last Activity_Email Opened</td>\n",
       "      <td>5.04</td>\n",
       "    </tr>\n",
       "    <tr>\n",
       "      <th>25</th>\n",
       "      <td>Last Activity_SMS Sent</td>\n",
       "      <td>4.79</td>\n",
       "    </tr>\n",
       "    <tr>\n",
       "      <th>19</th>\n",
       "      <td>Specialization_Others</td>\n",
       "      <td>4.72</td>\n",
       "    </tr>\n",
       "    <tr>\n",
       "      <th>9</th>\n",
       "      <td>Last Notable Activity_Modified</td>\n",
       "      <td>4.14</td>\n",
       "    </tr>\n",
       "    <tr>\n",
       "      <th>2</th>\n",
       "      <td>Lead Origin_Landing Page Submission</td>\n",
       "      <td>4.04</td>\n",
       "    </tr>\n",
       "    <tr>\n",
       "      <th>21</th>\n",
       "      <td>City_Others</td>\n",
       "      <td>3.65</td>\n",
       "    </tr>\n",
       "    <tr>\n",
       "      <th>10</th>\n",
       "      <td>Last Notable Activity_Others</td>\n",
       "      <td>2.81</td>\n",
       "    </tr>\n",
       "    <tr>\n",
       "      <th>15</th>\n",
       "      <td>Specialization_Finance Management</td>\n",
       "      <td>2.79</td>\n",
       "    </tr>\n",
       "    <tr>\n",
       "      <th>16</th>\n",
       "      <td>Specialization_Human Resource Management</td>\n",
       "      <td>2.48</td>\n",
       "    </tr>\n",
       "    <tr>\n",
       "      <th>17</th>\n",
       "      <td>Specialization_Marketing Management</td>\n",
       "      <td>2.33</td>\n",
       "    </tr>\n",
       "    <tr>\n",
       "      <th>22</th>\n",
       "      <td>City_Thane &amp; Outskirts</td>\n",
       "      <td>2.29</td>\n",
       "    </tr>\n",
       "    <tr>\n",
       "      <th>18</th>\n",
       "      <td>Specialization_Operations Management</td>\n",
       "      <td>1.91</td>\n",
       "    </tr>\n",
       "    <tr>\n",
       "      <th>5</th>\n",
       "      <td>Lead Source_Olark Chat</td>\n",
       "      <td>1.89</td>\n",
       "    </tr>\n",
       "    <tr>\n",
       "      <th>24</th>\n",
       "      <td>Last Activity_Olark Chat Conversation</td>\n",
       "      <td>1.68</td>\n",
       "    </tr>\n",
       "    <tr>\n",
       "      <th>14</th>\n",
       "      <td>What is your current occupation_Working Profes...</td>\n",
       "      <td>1.45</td>\n",
       "    </tr>\n",
       "    <tr>\n",
       "      <th>13</th>\n",
       "      <td>What is your current occupation_Unemployed</td>\n",
       "      <td>1.38</td>\n",
       "    </tr>\n",
       "    <tr>\n",
       "      <th>1</th>\n",
       "      <td>Total Time Spent on Website</td>\n",
       "      <td>1.33</td>\n",
       "    </tr>\n",
       "    <tr>\n",
       "      <th>12</th>\n",
       "      <td>What is your current occupation_Others</td>\n",
       "      <td>1.08</td>\n",
       "    </tr>\n",
       "    <tr>\n",
       "      <th>4</th>\n",
       "      <td>Lead Source_NC_EDM</td>\n",
       "      <td>1.00</td>\n",
       "    </tr>\n",
       "    <tr>\n",
       "      <th>7</th>\n",
       "      <td>Lead Source_Social Media</td>\n",
       "      <td>1.00</td>\n",
       "    </tr>\n",
       "  </tbody>\n",
       "</table>\n",
       "</div>"
      ],
      "text/plain": [
       "                                             Features   VIF\n",
       "3                           Lead Origin_Lead Add Form 58.44\n",
       "6                               Lead Source_Reference 45.66\n",
       "0                                               const 32.05\n",
       "8                        Lead Source_Welingak Website 15.28\n",
       "11                     Last Notable Activity_SMS Sent  7.05\n",
       "20                                        City_Mumbai  5.25\n",
       "23                         Last Activity_Email Opened  5.04\n",
       "25                             Last Activity_SMS Sent  4.79\n",
       "19                              Specialization_Others  4.72\n",
       "9                      Last Notable Activity_Modified  4.14\n",
       "2                 Lead Origin_Landing Page Submission  4.04\n",
       "21                                        City_Others  3.65\n",
       "10                       Last Notable Activity_Others  2.81\n",
       "15                  Specialization_Finance Management  2.79\n",
       "16           Specialization_Human Resource Management  2.48\n",
       "17                Specialization_Marketing Management  2.33\n",
       "22                             City_Thane & Outskirts  2.29\n",
       "18               Specialization_Operations Management  1.91\n",
       "5                              Lead Source_Olark Chat  1.89\n",
       "24              Last Activity_Olark Chat Conversation  1.68\n",
       "14  What is your current occupation_Working Profes...  1.45\n",
       "13         What is your current occupation_Unemployed  1.38\n",
       "1                         Total Time Spent on Website  1.33\n",
       "12             What is your current occupation_Others  1.08\n",
       "4                                  Lead Source_NC_EDM  1.00\n",
       "7                            Lead Source_Social Media  1.00"
      ]
     },
     "execution_count": 1280,
     "metadata": {},
     "output_type": "execute_result"
    }
   ],
   "source": [
    "# Create a dataframe that will contain the names of all the feature variables and their respective VIFs\n",
    "vif = pd.DataFrame()\n",
    "vif['Features'] = X_train2_sm.columns\n",
    "vif['VIF'] = [variance_inflation_factor(X_train2_sm.values, i) for i in range(X_train2_sm.shape[1])]\n",
    "vif['VIF'] = round(vif['VIF'], 2)\n",
    "vif = vif.sort_values(by = \"VIF\", ascending = False)\n",
    "vif"
   ]
  },
  {
   "cell_type": "markdown",
   "metadata": {},
   "source": [
    "VIF that is less than 5 is generally preferred. Let's start by dropping the first highest VIF Value variable. "
   ]
  },
  {
   "cell_type": "code",
   "execution_count": 1281,
   "metadata": {},
   "outputs": [],
   "source": [
    "#Dropping highly correlated variables starting with Last Activity_Email Opened\n",
    "\n",
    "X_train3 = X_train2_sm.drop('Lead Origin_Lead Add Form',axis=1)"
   ]
  },
  {
   "cell_type": "code",
   "execution_count": 1282,
   "metadata": {},
   "outputs": [
    {
     "data": {
      "text/html": [
       "<div>\n",
       "<style scoped>\n",
       "    .dataframe tbody tr th:only-of-type {\n",
       "        vertical-align: middle;\n",
       "    }\n",
       "\n",
       "    .dataframe tbody tr th {\n",
       "        vertical-align: top;\n",
       "    }\n",
       "\n",
       "    .dataframe thead th {\n",
       "        text-align: right;\n",
       "    }\n",
       "</style>\n",
       "<table border=\"1\" class=\"dataframe\">\n",
       "  <thead>\n",
       "    <tr style=\"text-align: right;\">\n",
       "      <th></th>\n",
       "      <th>Features</th>\n",
       "      <th>VIF</th>\n",
       "    </tr>\n",
       "  </thead>\n",
       "  <tbody>\n",
       "    <tr>\n",
       "      <th>0</th>\n",
       "      <td>const</td>\n",
       "      <td>32.05</td>\n",
       "    </tr>\n",
       "    <tr>\n",
       "      <th>10</th>\n",
       "      <td>Last Notable Activity_SMS Sent</td>\n",
       "      <td>7.05</td>\n",
       "    </tr>\n",
       "    <tr>\n",
       "      <th>19</th>\n",
       "      <td>City_Mumbai</td>\n",
       "      <td>5.25</td>\n",
       "    </tr>\n",
       "    <tr>\n",
       "      <th>22</th>\n",
       "      <td>Last Activity_Email Opened</td>\n",
       "      <td>5.04</td>\n",
       "    </tr>\n",
       "    <tr>\n",
       "      <th>24</th>\n",
       "      <td>Last Activity_SMS Sent</td>\n",
       "      <td>4.79</td>\n",
       "    </tr>\n",
       "    <tr>\n",
       "      <th>18</th>\n",
       "      <td>Specialization_Others</td>\n",
       "      <td>4.72</td>\n",
       "    </tr>\n",
       "    <tr>\n",
       "      <th>8</th>\n",
       "      <td>Last Notable Activity_Modified</td>\n",
       "      <td>4.14</td>\n",
       "    </tr>\n",
       "    <tr>\n",
       "      <th>2</th>\n",
       "      <td>Lead Origin_Landing Page Submission</td>\n",
       "      <td>4.03</td>\n",
       "    </tr>\n",
       "    <tr>\n",
       "      <th>20</th>\n",
       "      <td>City_Others</td>\n",
       "      <td>3.65</td>\n",
       "    </tr>\n",
       "    <tr>\n",
       "      <th>9</th>\n",
       "      <td>Last Notable Activity_Others</td>\n",
       "      <td>2.81</td>\n",
       "    </tr>\n",
       "    <tr>\n",
       "      <th>14</th>\n",
       "      <td>Specialization_Finance Management</td>\n",
       "      <td>2.79</td>\n",
       "    </tr>\n",
       "    <tr>\n",
       "      <th>15</th>\n",
       "      <td>Specialization_Human Resource Management</td>\n",
       "      <td>2.48</td>\n",
       "    </tr>\n",
       "    <tr>\n",
       "      <th>16</th>\n",
       "      <td>Specialization_Marketing Management</td>\n",
       "      <td>2.33</td>\n",
       "    </tr>\n",
       "    <tr>\n",
       "      <th>21</th>\n",
       "      <td>City_Thane &amp; Outskirts</td>\n",
       "      <td>2.29</td>\n",
       "    </tr>\n",
       "    <tr>\n",
       "      <th>17</th>\n",
       "      <td>Specialization_Operations Management</td>\n",
       "      <td>1.91</td>\n",
       "    </tr>\n",
       "    <tr>\n",
       "      <th>4</th>\n",
       "      <td>Lead Source_Olark Chat</td>\n",
       "      <td>1.89</td>\n",
       "    </tr>\n",
       "    <tr>\n",
       "      <th>23</th>\n",
       "      <td>Last Activity_Olark Chat Conversation</td>\n",
       "      <td>1.68</td>\n",
       "    </tr>\n",
       "    <tr>\n",
       "      <th>5</th>\n",
       "      <td>Lead Source_Reference</td>\n",
       "      <td>1.50</td>\n",
       "    </tr>\n",
       "    <tr>\n",
       "      <th>13</th>\n",
       "      <td>What is your current occupation_Working Profes...</td>\n",
       "      <td>1.45</td>\n",
       "    </tr>\n",
       "    <tr>\n",
       "      <th>12</th>\n",
       "      <td>What is your current occupation_Unemployed</td>\n",
       "      <td>1.38</td>\n",
       "    </tr>\n",
       "    <tr>\n",
       "      <th>1</th>\n",
       "      <td>Total Time Spent on Website</td>\n",
       "      <td>1.33</td>\n",
       "    </tr>\n",
       "    <tr>\n",
       "      <th>7</th>\n",
       "      <td>Lead Source_Welingak Website</td>\n",
       "      <td>1.11</td>\n",
       "    </tr>\n",
       "    <tr>\n",
       "      <th>11</th>\n",
       "      <td>What is your current occupation_Others</td>\n",
       "      <td>1.08</td>\n",
       "    </tr>\n",
       "    <tr>\n",
       "      <th>6</th>\n",
       "      <td>Lead Source_Social Media</td>\n",
       "      <td>1.00</td>\n",
       "    </tr>\n",
       "    <tr>\n",
       "      <th>3</th>\n",
       "      <td>Lead Source_NC_EDM</td>\n",
       "      <td>1.00</td>\n",
       "    </tr>\n",
       "  </tbody>\n",
       "</table>\n",
       "</div>"
      ],
      "text/plain": [
       "                                             Features   VIF\n",
       "0                                               const 32.05\n",
       "10                     Last Notable Activity_SMS Sent  7.05\n",
       "19                                        City_Mumbai  5.25\n",
       "22                         Last Activity_Email Opened  5.04\n",
       "24                             Last Activity_SMS Sent  4.79\n",
       "18                              Specialization_Others  4.72\n",
       "8                      Last Notable Activity_Modified  4.14\n",
       "2                 Lead Origin_Landing Page Submission  4.03\n",
       "20                                        City_Others  3.65\n",
       "9                        Last Notable Activity_Others  2.81\n",
       "14                  Specialization_Finance Management  2.79\n",
       "15           Specialization_Human Resource Management  2.48\n",
       "16                Specialization_Marketing Management  2.33\n",
       "21                             City_Thane & Outskirts  2.29\n",
       "17               Specialization_Operations Management  1.91\n",
       "4                              Lead Source_Olark Chat  1.89\n",
       "23              Last Activity_Olark Chat Conversation  1.68\n",
       "5                               Lead Source_Reference  1.50\n",
       "13  What is your current occupation_Working Profes...  1.45\n",
       "12         What is your current occupation_Unemployed  1.38\n",
       "1                         Total Time Spent on Website  1.33\n",
       "7                        Lead Source_Welingak Website  1.11\n",
       "11             What is your current occupation_Others  1.08\n",
       "6                            Lead Source_Social Media  1.00\n",
       "3                                  Lead Source_NC_EDM  1.00"
      ]
     },
     "execution_count": 1282,
     "metadata": {},
     "output_type": "execute_result"
    }
   ],
   "source": [
    "# Calculating once again VIF\n",
    "vif = pd.DataFrame()\n",
    "vif['Features'] = X_train3.columns\n",
    "vif['VIF'] = [variance_inflation_factor(X_train3.values, i) for i in range(X_train3.shape[1])]\n",
    "vif['VIF'] = round(vif['VIF'], 2)\n",
    "vif = vif.sort_values(by = \"VIF\", ascending = False)\n",
    "vif"
   ]
  },
  {
   "cell_type": "markdown",
   "metadata": {},
   "source": [
    "VIF Values have dropped significantly but there are still many with high VIFs. Lets further analyse them."
   ]
  },
  {
   "cell_type": "markdown",
   "metadata": {},
   "source": [
    "### 6.3 Model 3 : dropped Lead Origin_Lead Add Form"
   ]
  },
  {
   "cell_type": "code",
   "execution_count": 1283,
   "metadata": {},
   "outputs": [
    {
     "name": "stdout",
     "output_type": "stream",
     "text": [
      "                 Generalized Linear Model Regression Results                  \n",
      "==============================================================================\n",
      "Dep. Variable:              Converted   No. Observations:                 6351\n",
      "Model:                            GLM   Df Residuals:                     6326\n",
      "Model Family:                Binomial   Df Model:                           24\n",
      "Link Function:                  logit   Scale:                          1.0000\n",
      "Method:                          IRLS   Log-Likelihood:                -2551.8\n",
      "Date:                Mon, 07 Sep 2020   Deviance:                       5103.6\n",
      "Time:                        22:56:16   Pearson chi2:                 6.12e+03\n",
      "No. Iterations:                    19                                         \n",
      "Covariance Type:            nonrobust                                         \n",
      "========================================================================================================================\n",
      "                                                           coef    std err          z      P>|z|      [0.025      0.975]\n",
      "------------------------------------------------------------------------------------------------------------------------\n",
      "const                                                   -2.8623      0.210    -13.615      0.000      -3.274      -2.450\n",
      "Total Time Spent on Website                              1.1074      0.041     27.144      0.000       1.027       1.187\n",
      "Lead Origin_Landing Page Submission                     -1.2702      0.139     -9.109      0.000      -1.544      -0.997\n",
      "Lead Source_NC_EDM                                      21.7921   1.77e+04      0.001      0.999   -3.47e+04    3.48e+04\n",
      "Lead Source_Olark Chat                                   1.1696      0.125      9.351      0.000       0.924       1.415\n",
      "Lead Source_Reference                                    3.0037      0.240     12.539      0.000       2.534       3.473\n",
      "Lead Source_Social Media                                 2.0792      1.556      1.336      0.181      -0.971       5.129\n",
      "Lead Source_Welingak Website                             5.3296      0.725      7.347      0.000       3.908       6.751\n",
      "Last Notable Activity_Modified                          -0.3119      0.143     -2.180      0.029      -0.592      -0.031\n",
      "Last Notable Activity_Others                             0.5135      0.210      2.445      0.014       0.102       0.925\n",
      "Last Notable Activity_SMS Sent                           0.8125      0.208      3.907      0.000       0.405       1.220\n",
      "What is your current occupation_Others                   1.3624      0.217      6.278      0.000       0.937       1.788\n",
      "What is your current occupation_Unemployed               1.1237      0.090     12.447      0.000       0.947       1.301\n",
      "What is your current occupation_Working Professional     3.5165      0.204     17.241      0.000       3.117       3.916\n",
      "Specialization_Finance Management                        0.6840      0.193      3.535      0.000       0.305       1.063\n",
      "Specialization_Human Resource Management                 0.6344      0.191      3.326      0.001       0.261       1.008\n",
      "Specialization_Marketing Management                      0.8165      0.187      4.369      0.000       0.450       1.183\n",
      "Specialization_Operations Management                     0.6177      0.220      2.811      0.005       0.187       1.048\n",
      "Specialization_Others                                    0.5462      0.170      3.206      0.001       0.212       0.880\n",
      "City_Mumbai                                              0.5930      0.175      3.382      0.001       0.249       0.937\n",
      "City_Others                                              0.4803      0.183      2.618      0.009       0.121       0.840\n",
      "City_Thane & Outskirts                                   0.5564      0.201      2.772      0.006       0.163       0.950\n",
      "Last Activity_Email Opened                               0.7716      0.170      4.545      0.000       0.439       1.104\n",
      "Last Activity_Olark Chat Conversation                   -0.6387      0.188     -3.396      0.001      -1.007      -0.270\n",
      "Last Activity_SMS Sent                                   1.2329      0.174      7.072      0.000       0.891       1.575\n",
      "========================================================================================================================\n"
     ]
    }
   ],
   "source": [
    "logm3 = sm.GLM(y_train,X_train3, family = sm.families.Binomial())\n",
    "res3 = logm3.fit()\n",
    "print(res3.summary())"
   ]
  },
  {
   "cell_type": "markdown",
   "metadata": {},
   "source": [
    "P-value of Lead Source_NC_EDM is very high making it highly insignificant."
   ]
  },
  {
   "cell_type": "markdown",
   "metadata": {},
   "source": [
    "### 6.4 Model 4 after dropping Lead Source_NC_EDM"
   ]
  },
  {
   "cell_type": "code",
   "execution_count": 1284,
   "metadata": {},
   "outputs": [],
   "source": [
    "X_train4 = X_train3.drop('Lead Source_NC_EDM', axis = 1)"
   ]
  },
  {
   "cell_type": "code",
   "execution_count": 1285,
   "metadata": {},
   "outputs": [
    {
     "name": "stdout",
     "output_type": "stream",
     "text": [
      "                 Generalized Linear Model Regression Results                  \n",
      "==============================================================================\n",
      "Dep. Variable:              Converted   No. Observations:                 6351\n",
      "Model:                            GLM   Df Residuals:                     6327\n",
      "Model Family:                Binomial   Df Model:                           23\n",
      "Link Function:                  logit   Scale:                          1.0000\n",
      "Method:                          IRLS   Log-Likelihood:                -2553.3\n",
      "Date:                Mon, 07 Sep 2020   Deviance:                       5106.5\n",
      "Time:                        22:56:16   Pearson chi2:                 6.12e+03\n",
      "No. Iterations:                     7                                         \n",
      "Covariance Type:            nonrobust                                         \n",
      "========================================================================================================================\n",
      "                                                           coef    std err          z      P>|z|      [0.025      0.975]\n",
      "------------------------------------------------------------------------------------------------------------------------\n",
      "const                                                   -2.8566      0.210    -13.594      0.000      -3.268      -2.445\n",
      "Total Time Spent on Website                              1.1076      0.041     27.153      0.000       1.028       1.188\n",
      "Lead Origin_Landing Page Submission                     -1.2689      0.139     -9.100      0.000      -1.542      -0.996\n",
      "Lead Source_Olark Chat                                   1.1694      0.125      9.351      0.000       0.924       1.414\n",
      "Lead Source_Reference                                    3.0048      0.240     12.543      0.000       2.535       3.474\n",
      "Lead Source_Social Media                                 2.0817      1.556      1.338      0.181      -0.968       5.132\n",
      "Lead Source_Welingak Website                             5.3311      0.725      7.349      0.000       3.909       6.753\n",
      "Last Notable Activity_Modified                          -0.3150      0.143     -2.202      0.028      -0.595      -0.035\n",
      "Last Notable Activity_Others                             0.5104      0.210      2.431      0.015       0.099       0.922\n",
      "Last Notable Activity_SMS Sent                           0.8104      0.208      3.898      0.000       0.403       1.218\n",
      "What is your current occupation_Others                   1.3570      0.217      6.255      0.000       0.932       1.782\n",
      "What is your current occupation_Unemployed               1.1187      0.090     12.408      0.000       0.942       1.295\n",
      "What is your current occupation_Working Professional     3.5113      0.204     17.219      0.000       3.112       3.911\n",
      "Specialization_Finance Management                        0.6830      0.193      3.530      0.000       0.304       1.062\n",
      "Specialization_Human Resource Management                 0.6429      0.191      3.371      0.001       0.269       1.017\n",
      "Specialization_Marketing Management                      0.8156      0.187      4.364      0.000       0.449       1.182\n",
      "Specialization_Operations Management                     0.6172      0.220      2.809      0.005       0.187       1.048\n",
      "Specialization_Others                                    0.5455      0.170      3.203      0.001       0.212       0.879\n",
      "City_Mumbai                                              0.5940      0.175      3.388      0.001       0.250       0.938\n",
      "City_Others                                              0.4791      0.183      2.612      0.009       0.120       0.839\n",
      "City_Thane & Outskirts                                   0.5550      0.201      2.764      0.006       0.161       0.948\n",
      "Last Activity_Email Opened                               0.7713      0.170      4.544      0.000       0.439       1.104\n",
      "Last Activity_Olark Chat Conversation                   -0.6380      0.188     -3.393      0.001      -1.007      -0.269\n",
      "Last Activity_SMS Sent                                   1.2322      0.174      7.070      0.000       0.891       1.574\n",
      "========================================================================================================================\n"
     ]
    }
   ],
   "source": [
    "logm4 = sm.GLM(y_train,X_train4, family = sm.families.Binomial())\n",
    "res4 = logm4.fit()\n",
    "print(res4.summary())\n"
   ]
  },
  {
   "cell_type": "code",
   "execution_count": 1286,
   "metadata": {},
   "outputs": [
    {
     "data": {
      "text/html": [
       "<div>\n",
       "<style scoped>\n",
       "    .dataframe tbody tr th:only-of-type {\n",
       "        vertical-align: middle;\n",
       "    }\n",
       "\n",
       "    .dataframe tbody tr th {\n",
       "        vertical-align: top;\n",
       "    }\n",
       "\n",
       "    .dataframe thead th {\n",
       "        text-align: right;\n",
       "    }\n",
       "</style>\n",
       "<table border=\"1\" class=\"dataframe\">\n",
       "  <thead>\n",
       "    <tr style=\"text-align: right;\">\n",
       "      <th></th>\n",
       "      <th>Features</th>\n",
       "      <th>VIF</th>\n",
       "    </tr>\n",
       "  </thead>\n",
       "  <tbody>\n",
       "    <tr>\n",
       "      <th>0</th>\n",
       "      <td>const</td>\n",
       "      <td>32.04</td>\n",
       "    </tr>\n",
       "    <tr>\n",
       "      <th>9</th>\n",
       "      <td>Last Notable Activity_SMS Sent</td>\n",
       "      <td>7.05</td>\n",
       "    </tr>\n",
       "    <tr>\n",
       "      <th>18</th>\n",
       "      <td>City_Mumbai</td>\n",
       "      <td>5.25</td>\n",
       "    </tr>\n",
       "    <tr>\n",
       "      <th>21</th>\n",
       "      <td>Last Activity_Email Opened</td>\n",
       "      <td>5.04</td>\n",
       "    </tr>\n",
       "    <tr>\n",
       "      <th>23</th>\n",
       "      <td>Last Activity_SMS Sent</td>\n",
       "      <td>4.79</td>\n",
       "    </tr>\n",
       "    <tr>\n",
       "      <th>17</th>\n",
       "      <td>Specialization_Others</td>\n",
       "      <td>4.72</td>\n",
       "    </tr>\n",
       "    <tr>\n",
       "      <th>7</th>\n",
       "      <td>Last Notable Activity_Modified</td>\n",
       "      <td>4.14</td>\n",
       "    </tr>\n",
       "    <tr>\n",
       "      <th>2</th>\n",
       "      <td>Lead Origin_Landing Page Submission</td>\n",
       "      <td>4.03</td>\n",
       "    </tr>\n",
       "    <tr>\n",
       "      <th>19</th>\n",
       "      <td>City_Others</td>\n",
       "      <td>3.65</td>\n",
       "    </tr>\n",
       "    <tr>\n",
       "      <th>8</th>\n",
       "      <td>Last Notable Activity_Others</td>\n",
       "      <td>2.81</td>\n",
       "    </tr>\n",
       "    <tr>\n",
       "      <th>13</th>\n",
       "      <td>Specialization_Finance Management</td>\n",
       "      <td>2.79</td>\n",
       "    </tr>\n",
       "    <tr>\n",
       "      <th>14</th>\n",
       "      <td>Specialization_Human Resource Management</td>\n",
       "      <td>2.48</td>\n",
       "    </tr>\n",
       "    <tr>\n",
       "      <th>15</th>\n",
       "      <td>Specialization_Marketing Management</td>\n",
       "      <td>2.33</td>\n",
       "    </tr>\n",
       "    <tr>\n",
       "      <th>20</th>\n",
       "      <td>City_Thane &amp; Outskirts</td>\n",
       "      <td>2.29</td>\n",
       "    </tr>\n",
       "    <tr>\n",
       "      <th>16</th>\n",
       "      <td>Specialization_Operations Management</td>\n",
       "      <td>1.91</td>\n",
       "    </tr>\n",
       "    <tr>\n",
       "      <th>3</th>\n",
       "      <td>Lead Source_Olark Chat</td>\n",
       "      <td>1.89</td>\n",
       "    </tr>\n",
       "    <tr>\n",
       "      <th>22</th>\n",
       "      <td>Last Activity_Olark Chat Conversation</td>\n",
       "      <td>1.68</td>\n",
       "    </tr>\n",
       "    <tr>\n",
       "      <th>4</th>\n",
       "      <td>Lead Source_Reference</td>\n",
       "      <td>1.50</td>\n",
       "    </tr>\n",
       "    <tr>\n",
       "      <th>12</th>\n",
       "      <td>What is your current occupation_Working Profes...</td>\n",
       "      <td>1.45</td>\n",
       "    </tr>\n",
       "    <tr>\n",
       "      <th>11</th>\n",
       "      <td>What is your current occupation_Unemployed</td>\n",
       "      <td>1.38</td>\n",
       "    </tr>\n",
       "    <tr>\n",
       "      <th>1</th>\n",
       "      <td>Total Time Spent on Website</td>\n",
       "      <td>1.33</td>\n",
       "    </tr>\n",
       "    <tr>\n",
       "      <th>6</th>\n",
       "      <td>Lead Source_Welingak Website</td>\n",
       "      <td>1.11</td>\n",
       "    </tr>\n",
       "    <tr>\n",
       "      <th>10</th>\n",
       "      <td>What is your current occupation_Others</td>\n",
       "      <td>1.08</td>\n",
       "    </tr>\n",
       "    <tr>\n",
       "      <th>5</th>\n",
       "      <td>Lead Source_Social Media</td>\n",
       "      <td>1.00</td>\n",
       "    </tr>\n",
       "  </tbody>\n",
       "</table>\n",
       "</div>"
      ],
      "text/plain": [
       "                                             Features   VIF\n",
       "0                                               const 32.04\n",
       "9                      Last Notable Activity_SMS Sent  7.05\n",
       "18                                        City_Mumbai  5.25\n",
       "21                         Last Activity_Email Opened  5.04\n",
       "23                             Last Activity_SMS Sent  4.79\n",
       "17                              Specialization_Others  4.72\n",
       "7                      Last Notable Activity_Modified  4.14\n",
       "2                 Lead Origin_Landing Page Submission  4.03\n",
       "19                                        City_Others  3.65\n",
       "8                        Last Notable Activity_Others  2.81\n",
       "13                  Specialization_Finance Management  2.79\n",
       "14           Specialization_Human Resource Management  2.48\n",
       "15                Specialization_Marketing Management  2.33\n",
       "20                             City_Thane & Outskirts  2.29\n",
       "16               Specialization_Operations Management  1.91\n",
       "3                              Lead Source_Olark Chat  1.89\n",
       "22              Last Activity_Olark Chat Conversation  1.68\n",
       "4                               Lead Source_Reference  1.50\n",
       "12  What is your current occupation_Working Profes...  1.45\n",
       "11         What is your current occupation_Unemployed  1.38\n",
       "1                         Total Time Spent on Website  1.33\n",
       "6                        Lead Source_Welingak Website  1.11\n",
       "10             What is your current occupation_Others  1.08\n",
       "5                            Lead Source_Social Media  1.00"
      ]
     },
     "execution_count": 1286,
     "metadata": {},
     "output_type": "execute_result"
    }
   ],
   "source": [
    "vif = pd.DataFrame()\n",
    "vif['Features'] = X_train4.columns\n",
    "vif['VIF'] = [variance_inflation_factor(X_train4.values, i) for i in range(X_train4.shape[1])]\n",
    "vif['VIF'] = round(vif['VIF'], 2)\n",
    "vif = vif.sort_values(by = \"VIF\", ascending = False)\n",
    "vif"
   ]
  },
  {
   "cell_type": "markdown",
   "metadata": {},
   "source": [
    "Last Notable Activity_SMS Sent has a VIF of 7.05. It can be dropped. "
   ]
  },
  {
   "cell_type": "markdown",
   "metadata": {},
   "source": [
    "### 6.5 Model 5 : Dropping Last Notable Activity_SMS"
   ]
  },
  {
   "cell_type": "code",
   "execution_count": 1287,
   "metadata": {},
   "outputs": [
    {
     "name": "stdout",
     "output_type": "stream",
     "text": [
      "                 Generalized Linear Model Regression Results                  \n",
      "==============================================================================\n",
      "Dep. Variable:              Converted   No. Observations:                 6351\n",
      "Model:                            GLM   Df Residuals:                     6328\n",
      "Model Family:                Binomial   Df Model:                           22\n",
      "Link Function:                  logit   Scale:                          1.0000\n",
      "Method:                          IRLS   Log-Likelihood:                -2560.8\n",
      "Date:                Mon, 07 Sep 2020   Deviance:                       5121.7\n",
      "Time:                        22:56:16   Pearson chi2:                 6.19e+03\n",
      "No. Iterations:                     7                                         \n",
      "Covariance Type:            nonrobust                                         \n",
      "========================================================================================================================\n",
      "                                                           coef    std err          z      P>|z|      [0.025      0.975]\n",
      "------------------------------------------------------------------------------------------------------------------------\n",
      "const                                                   -2.4865      0.189    -13.149      0.000      -2.857      -2.116\n",
      "Total Time Spent on Website                              1.1100      0.041     27.243      0.000       1.030       1.190\n",
      "Lead Origin_Landing Page Submission                     -1.2607      0.139     -9.045      0.000      -1.534      -0.988\n",
      "Lead Source_Olark Chat                                   1.1865      0.125      9.494      0.000       0.942       1.431\n",
      "Lead Source_Reference                                    3.0125      0.240     12.556      0.000       2.542       3.483\n",
      "Lead Source_Social Media                                 2.0834      1.556      1.339      0.180      -0.966       5.133\n",
      "Lead Source_Welingak Website                             5.3179      0.726      7.327      0.000       3.895       6.740\n",
      "Last Notable Activity_Modified                          -0.7097      0.105     -6.737      0.000      -0.916      -0.503\n",
      "Last Notable Activity_Others                             0.1162      0.186      0.623      0.533      -0.249       0.482\n",
      "What is your current occupation_Others                   1.3752      0.217      6.337      0.000       0.950       1.801\n",
      "What is your current occupation_Unemployed               1.1449      0.090     12.750      0.000       0.969       1.321\n",
      "What is your current occupation_Working Professional     3.5427      0.204     17.363      0.000       3.143       3.943\n",
      "Specialization_Finance Management                        0.6816      0.193      3.525      0.000       0.303       1.061\n",
      "Specialization_Human Resource Management                 0.6441      0.191      3.375      0.001       0.270       1.018\n",
      "Specialization_Marketing Management                      0.8140      0.187      4.354      0.000       0.448       1.180\n",
      "Specialization_Operations Management                     0.6184      0.219      2.818      0.005       0.188       1.048\n",
      "Specialization_Others                                    0.5412      0.170      3.176      0.001       0.207       0.875\n",
      "City_Mumbai                                              0.5903      0.175      3.366      0.001       0.247       0.934\n",
      "City_Others                                              0.4747      0.183      2.589      0.010       0.115       0.834\n",
      "City_Thane & Outskirts                                   0.5442      0.201      2.711      0.007       0.151       0.938\n",
      "Last Activity_Email Opened                               0.4417      0.151      2.932      0.003       0.146       0.737\n",
      "Last Activity_Olark Chat Conversation                   -0.6403      0.188     -3.403      0.001      -1.009      -0.272\n",
      "Last Activity_SMS Sent                                   1.5671      0.150     10.459      0.000       1.273       1.861\n",
      "========================================================================================================================\n"
     ]
    }
   ],
   "source": [
    "X_train5 = X_train4.drop('Last Notable Activity_SMS Sent', axis =1)\n",
    "\n",
    "logm5 = sm.GLM(y_train,X_train5, family = sm.families.Binomial())\n",
    "res5 = logm5.fit()\n",
    "print(res5.summary())\n"
   ]
  },
  {
   "cell_type": "markdown",
   "metadata": {},
   "source": [
    "Last Notable Activity_Others has a high P-value making it statiscally insignificant."
   ]
  },
  {
   "cell_type": "markdown",
   "metadata": {},
   "source": [
    "### 6.6. Model 6 : Dropped Last Notable Activity_Others"
   ]
  },
  {
   "cell_type": "code",
   "execution_count": 1288,
   "metadata": {},
   "outputs": [
    {
     "name": "stdout",
     "output_type": "stream",
     "text": [
      "                 Generalized Linear Model Regression Results                  \n",
      "==============================================================================\n",
      "Dep. Variable:              Converted   No. Observations:                 6351\n",
      "Model:                            GLM   Df Residuals:                     6329\n",
      "Model Family:                Binomial   Df Model:                           21\n",
      "Link Function:                  logit   Scale:                          1.0000\n",
      "Method:                          IRLS   Log-Likelihood:                -2561.0\n",
      "Date:                Mon, 07 Sep 2020   Deviance:                       5122.1\n",
      "Time:                        22:56:16   Pearson chi2:                 6.18e+03\n",
      "No. Iterations:                     7                                         \n",
      "Covariance Type:            nonrobust                                         \n",
      "========================================================================================================================\n",
      "                                                           coef    std err          z      P>|z|      [0.025      0.975]\n",
      "------------------------------------------------------------------------------------------------------------------------\n",
      "const                                                   -2.4112      0.145    -16.615      0.000      -2.696      -2.127\n",
      "Total Time Spent on Website                              1.1103      0.041     27.258      0.000       1.030       1.190\n",
      "Lead Origin_Landing Page Submission                     -1.2628      0.139     -9.064      0.000      -1.536      -0.990\n",
      "Lead Source_Olark Chat                                   1.1878      0.125      9.504      0.000       0.943       1.433\n",
      "Lead Source_Reference                                    3.0170      0.240     12.574      0.000       2.547       3.487\n",
      "Lead Source_Social Media                                 2.0560      1.553      1.324      0.186      -0.989       5.101\n",
      "Lead Source_Welingak Website                             5.3264      0.726      7.338      0.000       3.904       6.749\n",
      "Last Notable Activity_Modified                          -0.7469      0.087     -8.579      0.000      -0.918      -0.576\n",
      "What is your current occupation_Others                   1.3711      0.217      6.323      0.000       0.946       1.796\n",
      "What is your current occupation_Unemployed               1.1407      0.090     12.740      0.000       0.965       1.316\n",
      "What is your current occupation_Working Professional     3.5389      0.204     17.359      0.000       3.139       3.938\n",
      "Specialization_Finance Management                        0.6848      0.193      3.544      0.000       0.306       1.064\n",
      "Specialization_Human Resource Management                 0.6466      0.191      3.390      0.001       0.273       1.020\n",
      "Specialization_Marketing Management                      0.8138      0.187      4.356      0.000       0.448       1.180\n",
      "Specialization_Operations Management                     0.6207      0.219      2.830      0.005       0.191       1.051\n",
      "Specialization_Others                                    0.5434      0.170      3.191      0.001       0.210       0.877\n",
      "City_Mumbai                                              0.5892      0.175      3.361      0.001       0.246       0.933\n",
      "City_Others                                              0.4737      0.183      2.585      0.010       0.115       0.833\n",
      "City_Thane & Outskirts                                   0.5426      0.201      2.703      0.007       0.149       0.936\n",
      "Last Activity_Email Opened                               0.3758      0.107      3.513      0.000       0.166       0.585\n",
      "Last Activity_Olark Chat Conversation                   -0.6545      0.187     -3.508      0.000      -1.020      -0.289\n",
      "Last Activity_SMS Sent                                   1.5029      0.108     13.854      0.000       1.290       1.716\n",
      "========================================================================================================================\n"
     ]
    }
   ],
   "source": [
    "X_train6 = X_train5.drop('Last Notable Activity_Others', axis = 1)\n",
    "\n",
    "logm6 = sm.GLM(y_train,X_train6, family = sm.families.Binomial())\n",
    "res6 = logm6.fit()\n",
    "print(res6.summary())\n"
   ]
  },
  {
   "cell_type": "code",
   "execution_count": 1289,
   "metadata": {},
   "outputs": [
    {
     "data": {
      "text/html": [
       "<div>\n",
       "<style scoped>\n",
       "    .dataframe tbody tr th:only-of-type {\n",
       "        vertical-align: middle;\n",
       "    }\n",
       "\n",
       "    .dataframe tbody tr th {\n",
       "        vertical-align: top;\n",
       "    }\n",
       "\n",
       "    .dataframe thead th {\n",
       "        text-align: right;\n",
       "    }\n",
       "</style>\n",
       "<table border=\"1\" class=\"dataframe\">\n",
       "  <thead>\n",
       "    <tr style=\"text-align: right;\">\n",
       "      <th></th>\n",
       "      <th>Features</th>\n",
       "      <th>VIF</th>\n",
       "    </tr>\n",
       "  </thead>\n",
       "  <tbody>\n",
       "    <tr>\n",
       "      <th>0</th>\n",
       "      <td>const</td>\n",
       "      <td>14.68</td>\n",
       "    </tr>\n",
       "    <tr>\n",
       "      <th>16</th>\n",
       "      <td>City_Mumbai</td>\n",
       "      <td>5.25</td>\n",
       "    </tr>\n",
       "    <tr>\n",
       "      <th>15</th>\n",
       "      <td>Specialization_Others</td>\n",
       "      <td>4.71</td>\n",
       "    </tr>\n",
       "    <tr>\n",
       "      <th>2</th>\n",
       "      <td>Lead Origin_Landing Page Submission</td>\n",
       "      <td>4.02</td>\n",
       "    </tr>\n",
       "    <tr>\n",
       "      <th>17</th>\n",
       "      <td>City_Others</td>\n",
       "      <td>3.65</td>\n",
       "    </tr>\n",
       "    <tr>\n",
       "      <th>11</th>\n",
       "      <td>Specialization_Finance Management</td>\n",
       "      <td>2.79</td>\n",
       "    </tr>\n",
       "    <tr>\n",
       "      <th>12</th>\n",
       "      <td>Specialization_Human Resource Management</td>\n",
       "      <td>2.48</td>\n",
       "    </tr>\n",
       "    <tr>\n",
       "      <th>13</th>\n",
       "      <td>Specialization_Marketing Management</td>\n",
       "      <td>2.33</td>\n",
       "    </tr>\n",
       "    <tr>\n",
       "      <th>18</th>\n",
       "      <td>City_Thane &amp; Outskirts</td>\n",
       "      <td>2.29</td>\n",
       "    </tr>\n",
       "    <tr>\n",
       "      <th>19</th>\n",
       "      <td>Last Activity_Email Opened</td>\n",
       "      <td>2.07</td>\n",
       "    </tr>\n",
       "    <tr>\n",
       "      <th>21</th>\n",
       "      <td>Last Activity_SMS Sent</td>\n",
       "      <td>2.02</td>\n",
       "    </tr>\n",
       "    <tr>\n",
       "      <th>14</th>\n",
       "      <td>Specialization_Operations Management</td>\n",
       "      <td>1.91</td>\n",
       "    </tr>\n",
       "    <tr>\n",
       "      <th>3</th>\n",
       "      <td>Lead Source_Olark Chat</td>\n",
       "      <td>1.89</td>\n",
       "    </tr>\n",
       "    <tr>\n",
       "      <th>20</th>\n",
       "      <td>Last Activity_Olark Chat Conversation</td>\n",
       "      <td>1.65</td>\n",
       "    </tr>\n",
       "    <tr>\n",
       "      <th>4</th>\n",
       "      <td>Lead Source_Reference</td>\n",
       "      <td>1.50</td>\n",
       "    </tr>\n",
       "    <tr>\n",
       "      <th>10</th>\n",
       "      <td>What is your current occupation_Working Profes...</td>\n",
       "      <td>1.44</td>\n",
       "    </tr>\n",
       "    <tr>\n",
       "      <th>7</th>\n",
       "      <td>Last Notable Activity_Modified</td>\n",
       "      <td>1.39</td>\n",
       "    </tr>\n",
       "    <tr>\n",
       "      <th>9</th>\n",
       "      <td>What is your current occupation_Unemployed</td>\n",
       "      <td>1.36</td>\n",
       "    </tr>\n",
       "    <tr>\n",
       "      <th>1</th>\n",
       "      <td>Total Time Spent on Website</td>\n",
       "      <td>1.33</td>\n",
       "    </tr>\n",
       "    <tr>\n",
       "      <th>6</th>\n",
       "      <td>Lead Source_Welingak Website</td>\n",
       "      <td>1.11</td>\n",
       "    </tr>\n",
       "    <tr>\n",
       "      <th>8</th>\n",
       "      <td>What is your current occupation_Others</td>\n",
       "      <td>1.08</td>\n",
       "    </tr>\n",
       "    <tr>\n",
       "      <th>5</th>\n",
       "      <td>Lead Source_Social Media</td>\n",
       "      <td>1.00</td>\n",
       "    </tr>\n",
       "  </tbody>\n",
       "</table>\n",
       "</div>"
      ],
      "text/plain": [
       "                                             Features   VIF\n",
       "0                                               const 14.68\n",
       "16                                        City_Mumbai  5.25\n",
       "15                              Specialization_Others  4.71\n",
       "2                 Lead Origin_Landing Page Submission  4.02\n",
       "17                                        City_Others  3.65\n",
       "11                  Specialization_Finance Management  2.79\n",
       "12           Specialization_Human Resource Management  2.48\n",
       "13                Specialization_Marketing Management  2.33\n",
       "18                             City_Thane & Outskirts  2.29\n",
       "19                         Last Activity_Email Opened  2.07\n",
       "21                             Last Activity_SMS Sent  2.02\n",
       "14               Specialization_Operations Management  1.91\n",
       "3                              Lead Source_Olark Chat  1.89\n",
       "20              Last Activity_Olark Chat Conversation  1.65\n",
       "4                               Lead Source_Reference  1.50\n",
       "10  What is your current occupation_Working Profes...  1.44\n",
       "7                      Last Notable Activity_Modified  1.39\n",
       "9          What is your current occupation_Unemployed  1.36\n",
       "1                         Total Time Spent on Website  1.33\n",
       "6                        Lead Source_Welingak Website  1.11\n",
       "8              What is your current occupation_Others  1.08\n",
       "5                            Lead Source_Social Media  1.00"
      ]
     },
     "execution_count": 1289,
     "metadata": {},
     "output_type": "execute_result"
    }
   ],
   "source": [
    "# Cheaking for VIF for this dataframe\n",
    "vif = pd.DataFrame()\n",
    "vif['Features'] = X_train6.columns\n",
    "vif['VIF'] = [variance_inflation_factor(X_train6.values, i) for i in range(X_train6.shape[1])]\n",
    "vif['VIF'] = round(vif['VIF'], 2)\n",
    "vif = vif.sort_values(by = \"VIF\", ascending = False)\n",
    "vif"
   ]
  },
  {
   "cell_type": "markdown",
   "metadata": {},
   "source": [
    "VIF of 5 indicates high correlation. Removing that feature."
   ]
  },
  {
   "cell_type": "markdown",
   "metadata": {},
   "source": [
    "### 6.7 Model 7 : Dropping City_Mumbai"
   ]
  },
  {
   "cell_type": "code",
   "execution_count": 1290,
   "metadata": {},
   "outputs": [
    {
     "name": "stdout",
     "output_type": "stream",
     "text": [
      "                 Generalized Linear Model Regression Results                  \n",
      "==============================================================================\n",
      "Dep. Variable:              Converted   No. Observations:                 6351\n",
      "Model:                            GLM   Df Residuals:                     6330\n",
      "Model Family:                Binomial   Df Model:                           20\n",
      "Link Function:                  logit   Scale:                          1.0000\n",
      "Method:                          IRLS   Log-Likelihood:                -2566.7\n",
      "Date:                Mon, 07 Sep 2020   Deviance:                       5133.3\n",
      "Time:                        22:56:17   Pearson chi2:                 6.18e+03\n",
      "No. Iterations:                     7                                         \n",
      "Covariance Type:            nonrobust                                         \n",
      "========================================================================================================================\n",
      "                                                           coef    std err          z      P>|z|      [0.025      0.975]\n",
      "------------------------------------------------------------------------------------------------------------------------\n",
      "const                                                   -2.3784      0.144    -16.481      0.000      -2.661      -2.096\n",
      "Total Time Spent on Website                              1.1075      0.041     27.253      0.000       1.028       1.187\n",
      "Lead Origin_Landing Page Submission                     -1.0886      0.129     -8.456      0.000      -1.341      -0.836\n",
      "Lead Source_Olark Chat                                   1.1654      0.124      9.376      0.000       0.922       1.409\n",
      "Lead Source_Reference                                    3.0222      0.240     12.587      0.000       2.552       3.493\n",
      "Lead Source_Social Media                                 1.8521      1.608      1.152      0.249      -1.300       5.004\n",
      "Lead Source_Welingak Website                             5.3058      0.725      7.315      0.000       3.884       6.727\n",
      "Last Notable Activity_Modified                          -0.7430      0.087     -8.542      0.000      -0.914      -0.573\n",
      "What is your current occupation_Others                   1.3732      0.217      6.316      0.000       0.947       1.799\n",
      "What is your current occupation_Unemployed               1.1478      0.089     12.842      0.000       0.973       1.323\n",
      "What is your current occupation_Working Professional     3.5235      0.205     17.173      0.000       3.121       3.926\n",
      "Specialization_Finance Management                        1.0465      0.162      6.442      0.000       0.728       1.365\n",
      "Specialization_Human Resource Management                 0.9911      0.163      6.074      0.000       0.671       1.311\n",
      "Specialization_Marketing Management                      1.1335      0.162      6.982      0.000       0.815       1.452\n",
      "Specialization_Operations Management                     0.9583      0.196      4.885      0.000       0.574       1.343\n",
      "Specialization_Others                                    0.8876      0.138      6.411      0.000       0.616       1.159\n",
      "City_Others                                             -0.0491      0.098     -0.503      0.615      -0.240       0.142\n",
      "City_Thane & Outskirts                                   0.0277      0.130      0.213      0.831      -0.227       0.282\n",
      "Last Activity_Email Opened                               0.3888      0.107      3.646      0.000       0.180       0.598\n",
      "Last Activity_Olark Chat Conversation                   -0.6734      0.186     -3.616      0.000      -1.038      -0.308\n",
      "Last Activity_SMS Sent                                   1.4951      0.108     13.808      0.000       1.283       1.707\n",
      "========================================================================================================================\n"
     ]
    }
   ],
   "source": [
    "X_train7 = X_train6.drop('City_Mumbai', axis = 1)\n",
    "\n",
    "logm7 = sm.GLM(y_train,X_train7, family = sm.families.Binomial())\n",
    "res7 = logm7.fit()\n",
    "print(res7.summary())\n",
    "\n"
   ]
  },
  {
   "cell_type": "markdown",
   "metadata": {},
   "source": [
    "City_Others and City_Thane & Outskirts have high p-values making them statistically insignificant."
   ]
  },
  {
   "cell_type": "markdown",
   "metadata": {},
   "source": [
    "### 6.8 Model 8 : Drop City_Others and City_Thane & Outskirts"
   ]
  },
  {
   "cell_type": "code",
   "execution_count": 1291,
   "metadata": {},
   "outputs": [
    {
     "name": "stdout",
     "output_type": "stream",
     "text": [
      "                 Generalized Linear Model Regression Results                  \n",
      "==============================================================================\n",
      "Dep. Variable:              Converted   No. Observations:                 6351\n",
      "Model:                            GLM   Df Residuals:                     6332\n",
      "Model Family:                Binomial   Df Model:                           18\n",
      "Link Function:                  logit   Scale:                          1.0000\n",
      "Method:                          IRLS   Log-Likelihood:                -2566.8\n",
      "Date:                Mon, 07 Sep 2020   Deviance:                       5133.7\n",
      "Time:                        22:56:17   Pearson chi2:                 6.18e+03\n",
      "No. Iterations:                     7                                         \n",
      "Covariance Type:            nonrobust                                         \n",
      "========================================================================================================================\n",
      "                                                           coef    std err          z      P>|z|      [0.025      0.975]\n",
      "------------------------------------------------------------------------------------------------------------------------\n",
      "const                                                   -2.3777      0.144    -16.479      0.000      -2.660      -2.095\n",
      "Total Time Spent on Website                              1.1076      0.041     27.260      0.000       1.028       1.187\n",
      "Lead Origin_Landing Page Submission                     -1.0923      0.129     -8.499      0.000      -1.344      -0.840\n",
      "Lead Source_Olark Chat                                   1.1643      0.124      9.369      0.000       0.921       1.408\n",
      "Lead Source_Reference                                    3.0261      0.240     12.613      0.000       2.556       3.496\n",
      "Lead Source_Social Media                                 1.8370      1.599      1.148      0.251      -1.298       4.972\n",
      "Lead Source_Welingak Website                             5.3058      0.725      7.315      0.000       3.884       6.727\n",
      "Last Notable Activity_Modified                          -0.7419      0.087     -8.531      0.000      -0.912      -0.571\n",
      "What is your current occupation_Others                   1.3736      0.217      6.322      0.000       0.948       1.799\n",
      "What is your current occupation_Unemployed               1.1477      0.089     12.841      0.000       0.972       1.323\n",
      "What is your current occupation_Working Professional     3.5201      0.205     17.168      0.000       3.118       3.922\n",
      "Specialization_Finance Management                        1.0439      0.161      6.493      0.000       0.729       1.359\n",
      "Specialization_Human Resource Management                 0.9865      0.161      6.118      0.000       0.670       1.303\n",
      "Specialization_Marketing Management                      1.1294      0.161      7.027      0.000       0.814       1.444\n",
      "Specialization_Operations Management                     0.9485      0.193      4.926      0.000       0.571       1.326\n",
      "Specialization_Others                                    0.8786      0.135      6.503      0.000       0.614       1.143\n",
      "Last Activity_Email Opened                               0.3878      0.107      3.638      0.000       0.179       0.597\n",
      "Last Activity_Olark Chat Conversation                   -0.6740      0.186     -3.619      0.000      -1.039      -0.309\n",
      "Last Activity_SMS Sent                                   1.4934      0.108     13.800      0.000       1.281       1.706\n",
      "========================================================================================================================\n"
     ]
    }
   ],
   "source": [
    "X_train8 = X_train7.drop(['City_Others','City_Thane & Outskirts'], axis =1)\n",
    "\n",
    "logm8 = sm.GLM(y_train,X_train8, family = sm.families.Binomial())\n",
    "res8 = logm8.fit()\n",
    "print(res8.summary())\n",
    "\n"
   ]
  },
  {
   "cell_type": "code",
   "execution_count": 1292,
   "metadata": {},
   "outputs": [
    {
     "data": {
      "text/html": [
       "<div>\n",
       "<style scoped>\n",
       "    .dataframe tbody tr th:only-of-type {\n",
       "        vertical-align: middle;\n",
       "    }\n",
       "\n",
       "    .dataframe tbody tr th {\n",
       "        vertical-align: top;\n",
       "    }\n",
       "\n",
       "    .dataframe thead th {\n",
       "        text-align: right;\n",
       "    }\n",
       "</style>\n",
       "<table border=\"1\" class=\"dataframe\">\n",
       "  <thead>\n",
       "    <tr style=\"text-align: right;\">\n",
       "      <th></th>\n",
       "      <th>Features</th>\n",
       "      <th>VIF</th>\n",
       "    </tr>\n",
       "  </thead>\n",
       "  <tbody>\n",
       "    <tr>\n",
       "      <th>0</th>\n",
       "      <td>const</td>\n",
       "      <td>14.65</td>\n",
       "    </tr>\n",
       "    <tr>\n",
       "      <th>2</th>\n",
       "      <td>Lead Origin_Landing Page Submission</td>\n",
       "      <td>3.36</td>\n",
       "    </tr>\n",
       "    <tr>\n",
       "      <th>15</th>\n",
       "      <td>Specialization_Others</td>\n",
       "      <td>3.14</td>\n",
       "    </tr>\n",
       "    <tr>\n",
       "      <th>16</th>\n",
       "      <td>Last Activity_Email Opened</td>\n",
       "      <td>2.07</td>\n",
       "    </tr>\n",
       "    <tr>\n",
       "      <th>18</th>\n",
       "      <td>Last Activity_SMS Sent</td>\n",
       "      <td>2.02</td>\n",
       "    </tr>\n",
       "    <tr>\n",
       "      <th>11</th>\n",
       "      <td>Specialization_Finance Management</td>\n",
       "      <td>2.01</td>\n",
       "    </tr>\n",
       "    <tr>\n",
       "      <th>3</th>\n",
       "      <td>Lead Source_Olark Chat</td>\n",
       "      <td>1.89</td>\n",
       "    </tr>\n",
       "    <tr>\n",
       "      <th>12</th>\n",
       "      <td>Specialization_Human Resource Management</td>\n",
       "      <td>1.85</td>\n",
       "    </tr>\n",
       "    <tr>\n",
       "      <th>13</th>\n",
       "      <td>Specialization_Marketing Management</td>\n",
       "      <td>1.79</td>\n",
       "    </tr>\n",
       "    <tr>\n",
       "      <th>17</th>\n",
       "      <td>Last Activity_Olark Chat Conversation</td>\n",
       "      <td>1.65</td>\n",
       "    </tr>\n",
       "    <tr>\n",
       "      <th>14</th>\n",
       "      <td>Specialization_Operations Management</td>\n",
       "      <td>1.53</td>\n",
       "    </tr>\n",
       "    <tr>\n",
       "      <th>4</th>\n",
       "      <td>Lead Source_Reference</td>\n",
       "      <td>1.49</td>\n",
       "    </tr>\n",
       "    <tr>\n",
       "      <th>10</th>\n",
       "      <td>What is your current occupation_Working Profes...</td>\n",
       "      <td>1.42</td>\n",
       "    </tr>\n",
       "    <tr>\n",
       "      <th>7</th>\n",
       "      <td>Last Notable Activity_Modified</td>\n",
       "      <td>1.39</td>\n",
       "    </tr>\n",
       "    <tr>\n",
       "      <th>9</th>\n",
       "      <td>What is your current occupation_Unemployed</td>\n",
       "      <td>1.35</td>\n",
       "    </tr>\n",
       "    <tr>\n",
       "      <th>1</th>\n",
       "      <td>Total Time Spent on Website</td>\n",
       "      <td>1.33</td>\n",
       "    </tr>\n",
       "    <tr>\n",
       "      <th>6</th>\n",
       "      <td>Lead Source_Welingak Website</td>\n",
       "      <td>1.11</td>\n",
       "    </tr>\n",
       "    <tr>\n",
       "      <th>8</th>\n",
       "      <td>What is your current occupation_Others</td>\n",
       "      <td>1.07</td>\n",
       "    </tr>\n",
       "    <tr>\n",
       "      <th>5</th>\n",
       "      <td>Lead Source_Social Media</td>\n",
       "      <td>1.00</td>\n",
       "    </tr>\n",
       "  </tbody>\n",
       "</table>\n",
       "</div>"
      ],
      "text/plain": [
       "                                             Features   VIF\n",
       "0                                               const 14.65\n",
       "2                 Lead Origin_Landing Page Submission  3.36\n",
       "15                              Specialization_Others  3.14\n",
       "16                         Last Activity_Email Opened  2.07\n",
       "18                             Last Activity_SMS Sent  2.02\n",
       "11                  Specialization_Finance Management  2.01\n",
       "3                              Lead Source_Olark Chat  1.89\n",
       "12           Specialization_Human Resource Management  1.85\n",
       "13                Specialization_Marketing Management  1.79\n",
       "17              Last Activity_Olark Chat Conversation  1.65\n",
       "14               Specialization_Operations Management  1.53\n",
       "4                               Lead Source_Reference  1.49\n",
       "10  What is your current occupation_Working Profes...  1.42\n",
       "7                      Last Notable Activity_Modified  1.39\n",
       "9          What is your current occupation_Unemployed  1.35\n",
       "1                         Total Time Spent on Website  1.33\n",
       "6                        Lead Source_Welingak Website  1.11\n",
       "8              What is your current occupation_Others  1.07\n",
       "5                            Lead Source_Social Media  1.00"
      ]
     },
     "execution_count": 1292,
     "metadata": {},
     "output_type": "execute_result"
    }
   ],
   "source": [
    "### Checking for VIF of this dataframe\n",
    "vif = pd.DataFrame()\n",
    "vif['Features'] = X_train8.columns\n",
    "vif['VIF'] = [variance_inflation_factor(X_train8.values, i) for i in range(X_train8.shape[1])]\n",
    "vif['VIF'] = round(vif['VIF'], 2)\n",
    "vif = vif.sort_values(by = \"VIF\", ascending = False)\n",
    "vif"
   ]
  },
  {
   "cell_type": "markdown",
   "metadata": {},
   "source": [
    "Lead Origin_Landing Page Submission\tand Specialization_Others have VIF greater than 3 indicating high correlation. These can be dropped. "
   ]
  },
  {
   "cell_type": "markdown",
   "metadata": {},
   "source": [
    "### 6.9 Model 9 : Drop Lead Origin_Landing Page Submission and Specialization_Others"
   ]
  },
  {
   "cell_type": "code",
   "execution_count": 1293,
   "metadata": {},
   "outputs": [
    {
     "name": "stdout",
     "output_type": "stream",
     "text": [
      "                 Generalized Linear Model Regression Results                  \n",
      "==============================================================================\n",
      "Dep. Variable:              Converted   No. Observations:                 6351\n",
      "Model:                            GLM   Df Residuals:                     6334\n",
      "Model Family:                Binomial   Df Model:                           16\n",
      "Link Function:                  logit   Scale:                          1.0000\n",
      "Method:                          IRLS   Log-Likelihood:                -2604.6\n",
      "Date:                Mon, 07 Sep 2020   Deviance:                       5209.3\n",
      "Time:                        22:56:17   Pearson chi2:                 6.15e+03\n",
      "No. Iterations:                     7                                         \n",
      "Covariance Type:            nonrobust                                         \n",
      "========================================================================================================================\n",
      "                                                           coef    std err          z      P>|z|      [0.025      0.975]\n",
      "------------------------------------------------------------------------------------------------------------------------\n",
      "const                                                   -2.5813      0.130    -19.907      0.000      -2.835      -2.327\n",
      "Total Time Spent on Website                              1.1218      0.040     27.764      0.000       1.043       1.201\n",
      "Lead Source_Olark Chat                                   1.4458      0.109     13.302      0.000       1.233       1.659\n",
      "Lead Source_Reference                                    3.6599      0.228     16.032      0.000       3.212       4.107\n",
      "Lead Source_Social Media                                 2.2649      1.462      1.549      0.121      -0.601       5.131\n",
      "Lead Source_Welingak Website                             5.5011      0.722      7.619      0.000       4.086       6.916\n",
      "Last Notable Activity_Modified                          -0.7299      0.086     -8.471      0.000      -0.899      -0.561\n",
      "What is your current occupation_Others                   1.4105      0.211      6.679      0.000       0.997       1.824\n",
      "What is your current occupation_Unemployed               1.2063      0.088     13.658      0.000       1.033       1.379\n",
      "What is your current occupation_Working Professional     3.6469      0.200     18.261      0.000       3.255       4.038\n",
      "Specialization_Finance Management                        0.1863      0.115      1.615      0.106      -0.040       0.413\n",
      "Specialization_Human Resource Management                 0.1718      0.119      1.448      0.147      -0.061       0.404\n",
      "Specialization_Marketing Management                      0.3593      0.121      2.959      0.003       0.121       0.597\n",
      "Specialization_Operations Management                     0.1080      0.157      0.690      0.490      -0.199       0.415\n",
      "Last Activity_Email Opened                               0.4208      0.106      3.973      0.000       0.213       0.628\n",
      "Last Activity_Olark Chat Conversation                   -0.6028      0.182     -3.316      0.001      -0.959      -0.246\n",
      "Last Activity_SMS Sent                                   1.4811      0.108     13.761      0.000       1.270       1.692\n",
      "========================================================================================================================\n"
     ]
    }
   ],
   "source": [
    "X_train9 = X_train8.drop(['Lead Origin_Landing Page Submission','Specialization_Others'], axis =1)\n",
    "\n",
    "logm9 = sm.GLM(y_train,X_train9, family = sm.families.Binomial())\n",
    "res9 = logm9.fit()\n",
    "print(res9.summary())"
   ]
  },
  {
   "cell_type": "markdown",
   "metadata": {},
   "source": [
    "Specialization_Operations Management has a significantly high p-value. That can be dropped."
   ]
  },
  {
   "cell_type": "markdown",
   "metadata": {},
   "source": [
    "### 6.10 Model 10 : Dropping Specialization_Operations Management"
   ]
  },
  {
   "cell_type": "code",
   "execution_count": 1294,
   "metadata": {
    "scrolled": true
   },
   "outputs": [
    {
     "name": "stdout",
     "output_type": "stream",
     "text": [
      "                 Generalized Linear Model Regression Results                  \n",
      "==============================================================================\n",
      "Dep. Variable:              Converted   No. Observations:                 6351\n",
      "Model:                            GLM   Df Residuals:                     6335\n",
      "Model Family:                Binomial   Df Model:                           15\n",
      "Link Function:                  logit   Scale:                          1.0000\n",
      "Method:                          IRLS   Log-Likelihood:                -2604.9\n",
      "Date:                Mon, 07 Sep 2020   Deviance:                       5209.7\n",
      "Time:                        22:56:17   Pearson chi2:                 6.15e+03\n",
      "No. Iterations:                     7                                         \n",
      "Covariance Type:            nonrobust                                         \n",
      "========================================================================================================================\n",
      "                                                           coef    std err          z      P>|z|      [0.025      0.975]\n",
      "------------------------------------------------------------------------------------------------------------------------\n",
      "const                                                   -2.5742      0.129    -19.921      0.000      -2.827      -2.321\n",
      "Total Time Spent on Website                              1.1227      0.040     27.796      0.000       1.044       1.202\n",
      "Lead Source_Olark Chat                                   1.4397      0.108     13.300      0.000       1.228       1.652\n",
      "Lead Source_Reference                                    3.6579      0.228     16.025      0.000       3.211       4.105\n",
      "Lead Source_Social Media                                 2.2567      1.462      1.543      0.123      -0.610       5.123\n",
      "Lead Source_Welingak Website                             5.4934      0.722      7.609      0.000       4.078       6.908\n",
      "Last Notable Activity_Modified                          -0.7301      0.086     -8.475      0.000      -0.899      -0.561\n",
      "What is your current occupation_Others                   1.4085      0.211      6.671      0.000       0.995       1.822\n",
      "What is your current occupation_Unemployed               1.2082      0.088     13.686      0.000       1.035       1.381\n",
      "What is your current occupation_Working Professional     3.6529      0.199     18.321      0.000       3.262       4.044\n",
      "Specialization_Finance Management                        0.1760      0.114      1.538      0.124      -0.048       0.400\n",
      "Specialization_Human Resource Management                 0.1614      0.118      1.372      0.170      -0.069       0.392\n",
      "Specialization_Marketing Management                      0.3490      0.121      2.896      0.004       0.113       0.585\n",
      "Last Activity_Email Opened                               0.4234      0.106      4.001      0.000       0.216       0.631\n",
      "Last Activity_Olark Chat Conversation                   -0.6042      0.182     -3.324      0.001      -0.961      -0.248\n",
      "Last Activity_SMS Sent                                   1.4826      0.108     13.778      0.000       1.272       1.693\n",
      "========================================================================================================================\n"
     ]
    }
   ],
   "source": [
    "X_train10 = X_train9.drop('Specialization_Operations Management', axis = 1)\n",
    "\n",
    "logm10 = sm.GLM(y_train,X_train10, family = sm.families.Binomial())\n",
    "res10 = logm10.fit()\n",
    "print(res10.summary())\n"
   ]
  },
  {
   "cell_type": "markdown",
   "metadata": {},
   "source": [
    "Specialization_Human Resource Management, Lead Source_Social Media, Specialization_Finance Management can be dropped as they have p-values higher than others."
   ]
  },
  {
   "cell_type": "markdown",
   "metadata": {},
   "source": [
    "### 6.11. Model 11 : Dropping Specialization_Human Resource Management"
   ]
  },
  {
   "cell_type": "code",
   "execution_count": 1295,
   "metadata": {},
   "outputs": [
    {
     "name": "stdout",
     "output_type": "stream",
     "text": [
      "                 Generalized Linear Model Regression Results                  \n",
      "==============================================================================\n",
      "Dep. Variable:              Converted   No. Observations:                 6351\n",
      "Model:                            GLM   Df Residuals:                     6336\n",
      "Model Family:                Binomial   Df Model:                           14\n",
      "Link Function:                  logit   Scale:                          1.0000\n",
      "Method:                          IRLS   Log-Likelihood:                -2605.8\n",
      "Date:                Mon, 07 Sep 2020   Deviance:                       5211.6\n",
      "Time:                        22:56:17   Pearson chi2:                 6.14e+03\n",
      "No. Iterations:                     7                                         \n",
      "Covariance Type:            nonrobust                                         \n",
      "========================================================================================================================\n",
      "                                                           coef    std err          z      P>|z|      [0.025      0.975]\n",
      "------------------------------------------------------------------------------------------------------------------------\n",
      "const                                                   -2.5532      0.128    -19.916      0.000      -2.804      -2.302\n",
      "Total Time Spent on Website                              1.1247      0.040     27.851      0.000       1.046       1.204\n",
      "Lead Source_Olark Chat                                   1.4237      0.107     13.248      0.000       1.213       1.634\n",
      "Lead Source_Reference                                    3.6607      0.228     16.034      0.000       3.213       4.108\n",
      "Lead Source_Social Media                                 2.2346      1.462      1.529      0.126      -0.631       5.100\n",
      "Lead Source_Welingak Website                             5.4744      0.722      7.585      0.000       4.060       6.889\n",
      "Last Notable Activity_Modified                          -0.7294      0.086     -8.470      0.000      -0.898      -0.561\n",
      "What is your current occupation_Others                   1.4103      0.211      6.678      0.000       0.996       1.824\n",
      "What is your current occupation_Unemployed               1.2121      0.088     13.740      0.000       1.039       1.385\n",
      "What is your current occupation_Working Professional     3.6628      0.199     18.387      0.000       3.272       4.053\n",
      "Specialization_Finance Management                        0.1512      0.113      1.338      0.181      -0.070       0.373\n",
      "Specialization_Marketing Management                      0.3243      0.119      2.721      0.007       0.091       0.558\n",
      "Last Activity_Email Opened                               0.4256      0.106      4.022      0.000       0.218       0.633\n",
      "Last Activity_Olark Chat Conversation                   -0.6115      0.182     -3.366      0.001      -0.967      -0.255\n",
      "Last Activity_SMS Sent                                   1.4809      0.108     13.765      0.000       1.270       1.692\n",
      "========================================================================================================================\n"
     ]
    }
   ],
   "source": [
    "X_train11 = X_train10.drop(['Specialization_Human Resource Management'], axis =1)\n",
    "logm11 = sm.GLM(y_train,X_train11, family = sm.families.Binomial())\n",
    "res11 = logm11.fit()\n",
    "print(res11.summary())\n",
    "\n"
   ]
  },
  {
   "cell_type": "markdown",
   "metadata": {},
   "source": [
    "Specialization_Finance Management has a higher p-value than others. That can be dropped. "
   ]
  },
  {
   "cell_type": "markdown",
   "metadata": {},
   "source": [
    "### 6.12 Model 12 : Dropping Specialization_Finance Management"
   ]
  },
  {
   "cell_type": "code",
   "execution_count": 1296,
   "metadata": {},
   "outputs": [
    {
     "name": "stdout",
     "output_type": "stream",
     "text": [
      "                 Generalized Linear Model Regression Results                  \n",
      "==============================================================================\n",
      "Dep. Variable:              Converted   No. Observations:                 6351\n",
      "Model:                            GLM   Df Residuals:                     6337\n",
      "Model Family:                Binomial   Df Model:                           13\n",
      "Link Function:                  logit   Scale:                          1.0000\n",
      "Method:                          IRLS   Log-Likelihood:                -2606.7\n",
      "Date:                Mon, 07 Sep 2020   Deviance:                       5213.4\n",
      "Time:                        22:56:17   Pearson chi2:                 6.15e+03\n",
      "No. Iterations:                     7                                         \n",
      "Covariance Type:            nonrobust                                         \n",
      "========================================================================================================================\n",
      "                                                           coef    std err          z      P>|z|      [0.025      0.975]\n",
      "------------------------------------------------------------------------------------------------------------------------\n",
      "const                                                   -2.5315      0.127    -19.925      0.000      -2.781      -2.283\n",
      "Total Time Spent on Website                              1.1249      0.040     27.863      0.000       1.046       1.204\n",
      "Lead Source_Olark Chat                                   1.4064      0.107     13.198      0.000       1.198       1.615\n",
      "Lead Source_Reference                                    3.6574      0.228     16.025      0.000       3.210       4.105\n",
      "Lead Source_Social Media                                 2.2150      1.461      1.516      0.130      -0.649       5.079\n",
      "Lead Source_Welingak Website                             5.4545      0.722      7.559      0.000       4.040       6.869\n",
      "Last Notable Activity_Modified                          -0.7309      0.086     -8.491      0.000      -0.900      -0.562\n",
      "What is your current occupation_Others                   1.4148      0.211      6.711      0.000       1.002       1.828\n",
      "What is your current occupation_Unemployed               1.2135      0.088     13.761      0.000       1.041       1.386\n",
      "What is your current occupation_Working Professional     3.6691      0.199     18.419      0.000       3.279       4.060\n",
      "Specialization_Marketing Management                      0.3031      0.118      2.567      0.010       0.072       0.535\n",
      "Last Activity_Email Opened                               0.4256      0.106      4.024      0.000       0.218       0.633\n",
      "Last Activity_Olark Chat Conversation                   -0.6155      0.181     -3.393      0.001      -0.971      -0.260\n",
      "Last Activity_SMS Sent                                   1.4791      0.108     13.754      0.000       1.268       1.690\n",
      "========================================================================================================================\n"
     ]
    }
   ],
   "source": [
    "X_train12 = X_train11.drop('Specialization_Finance Management', axis = 1)\n",
    "logm12 = sm.GLM(y_train,X_train12, family = sm.families.Binomial())\n",
    "res12 = logm12.fit()\n",
    "print(res12.summary())\n"
   ]
  },
  {
   "cell_type": "markdown",
   "metadata": {},
   "source": [
    "Lead Source_Social Media has a higher p-value than others. Let's drop it. "
   ]
  },
  {
   "cell_type": "markdown",
   "metadata": {},
   "source": [
    "### 6.13 Model 13 : Dropping Lead Source_Social Media "
   ]
  },
  {
   "cell_type": "code",
   "execution_count": 1297,
   "metadata": {},
   "outputs": [
    {
     "name": "stdout",
     "output_type": "stream",
     "text": [
      "                 Generalized Linear Model Regression Results                  \n",
      "==============================================================================\n",
      "Dep. Variable:              Converted   No. Observations:                 6351\n",
      "Model:                            GLM   Df Residuals:                     6338\n",
      "Model Family:                Binomial   Df Model:                           12\n",
      "Link Function:                  logit   Scale:                          1.0000\n",
      "Method:                          IRLS   Log-Likelihood:                -2607.7\n",
      "Date:                Mon, 07 Sep 2020   Deviance:                       5215.4\n",
      "Time:                        22:56:17   Pearson chi2:                 6.14e+03\n",
      "No. Iterations:                     7                                         \n",
      "Covariance Type:            nonrobust                                         \n",
      "========================================================================================================================\n",
      "                                                           coef    std err          z      P>|z|      [0.025      0.975]\n",
      "------------------------------------------------------------------------------------------------------------------------\n",
      "const                                                   -2.5309      0.127    -19.924      0.000      -2.780      -2.282\n",
      "Total Time Spent on Website                              1.1245      0.040     27.858      0.000       1.045       1.204\n",
      "Lead Source_Olark Chat                                   1.4032      0.107     13.174      0.000       1.194       1.612\n",
      "Lead Source_Reference                                    3.6554      0.228     16.020      0.000       3.208       4.103\n",
      "Lead Source_Welingak Website                             5.4521      0.722      7.556      0.000       4.038       6.866\n",
      "Last Notable Activity_Modified                          -0.7289      0.086     -8.472      0.000      -0.898      -0.560\n",
      "What is your current occupation_Others                   1.4145      0.211      6.712      0.000       1.001       1.828\n",
      "What is your current occupation_Unemployed               1.2150      0.088     13.782      0.000       1.042       1.388\n",
      "What is your current occupation_Working Professional     3.6688      0.199     18.422      0.000       3.278       4.059\n",
      "Specialization_Marketing Management                      0.3018      0.118      2.557      0.011       0.070       0.533\n",
      "Last Activity_Email Opened                               0.4244      0.106      4.014      0.000       0.217       0.632\n",
      "Last Activity_Olark Chat Conversation                   -0.6056      0.181     -3.345      0.001      -0.960      -0.251\n",
      "Last Activity_SMS Sent                                   1.4775      0.108     13.742      0.000       1.267       1.688\n",
      "========================================================================================================================\n"
     ]
    }
   ],
   "source": [
    "X_train13 = X_train12.drop('Lead Source_Social Media', axis = 1)\n",
    "logm13 = sm.GLM(y_train,X_train13, family = sm.families.Binomial())\n",
    "res13 = logm13.fit()\n",
    "print(res13.summary())\n"
   ]
  },
  {
   "cell_type": "code",
   "execution_count": 1298,
   "metadata": {},
   "outputs": [
    {
     "data": {
      "text/html": [
       "<div>\n",
       "<style scoped>\n",
       "    .dataframe tbody tr th:only-of-type {\n",
       "        vertical-align: middle;\n",
       "    }\n",
       "\n",
       "    .dataframe tbody tr th {\n",
       "        vertical-align: top;\n",
       "    }\n",
       "\n",
       "    .dataframe thead th {\n",
       "        text-align: right;\n",
       "    }\n",
       "</style>\n",
       "<table border=\"1\" class=\"dataframe\">\n",
       "  <thead>\n",
       "    <tr style=\"text-align: right;\">\n",
       "      <th></th>\n",
       "      <th>Features</th>\n",
       "      <th>VIF</th>\n",
       "    </tr>\n",
       "  </thead>\n",
       "  <tbody>\n",
       "    <tr>\n",
       "      <th>0</th>\n",
       "      <td>const</td>\n",
       "      <td>10.65</td>\n",
       "    </tr>\n",
       "    <tr>\n",
       "      <th>10</th>\n",
       "      <td>Last Activity_Email Opened</td>\n",
       "      <td>2.06</td>\n",
       "    </tr>\n",
       "    <tr>\n",
       "      <th>12</th>\n",
       "      <td>Last Activity_SMS Sent</td>\n",
       "      <td>2.02</td>\n",
       "    </tr>\n",
       "    <tr>\n",
       "      <th>11</th>\n",
       "      <td>Last Activity_Olark Chat Conversation</td>\n",
       "      <td>1.61</td>\n",
       "    </tr>\n",
       "    <tr>\n",
       "      <th>2</th>\n",
       "      <td>Lead Source_Olark Chat</td>\n",
       "      <td>1.46</td>\n",
       "    </tr>\n",
       "    <tr>\n",
       "      <th>5</th>\n",
       "      <td>Last Notable Activity_Modified</td>\n",
       "      <td>1.38</td>\n",
       "    </tr>\n",
       "    <tr>\n",
       "      <th>8</th>\n",
       "      <td>What is your current occupation_Working Profes...</td>\n",
       "      <td>1.34</td>\n",
       "    </tr>\n",
       "    <tr>\n",
       "      <th>7</th>\n",
       "      <td>What is your current occupation_Unemployed</td>\n",
       "      <td>1.33</td>\n",
       "    </tr>\n",
       "    <tr>\n",
       "      <th>1</th>\n",
       "      <td>Total Time Spent on Website</td>\n",
       "      <td>1.31</td>\n",
       "    </tr>\n",
       "    <tr>\n",
       "      <th>3</th>\n",
       "      <td>Lead Source_Reference</td>\n",
       "      <td>1.19</td>\n",
       "    </tr>\n",
       "    <tr>\n",
       "      <th>6</th>\n",
       "      <td>What is your current occupation_Others</td>\n",
       "      <td>1.07</td>\n",
       "    </tr>\n",
       "    <tr>\n",
       "      <th>4</th>\n",
       "      <td>Lead Source_Welingak Website</td>\n",
       "      <td>1.05</td>\n",
       "    </tr>\n",
       "    <tr>\n",
       "      <th>9</th>\n",
       "      <td>Specialization_Marketing Management</td>\n",
       "      <td>1.02</td>\n",
       "    </tr>\n",
       "  </tbody>\n",
       "</table>\n",
       "</div>"
      ],
      "text/plain": [
       "                                             Features   VIF\n",
       "0                                               const 10.65\n",
       "10                         Last Activity_Email Opened  2.06\n",
       "12                             Last Activity_SMS Sent  2.02\n",
       "11              Last Activity_Olark Chat Conversation  1.61\n",
       "2                              Lead Source_Olark Chat  1.46\n",
       "5                      Last Notable Activity_Modified  1.38\n",
       "8   What is your current occupation_Working Profes...  1.34\n",
       "7          What is your current occupation_Unemployed  1.33\n",
       "1                         Total Time Spent on Website  1.31\n",
       "3                               Lead Source_Reference  1.19\n",
       "6              What is your current occupation_Others  1.07\n",
       "4                        Lead Source_Welingak Website  1.05\n",
       "9                 Specialization_Marketing Management  1.02"
      ]
     },
     "execution_count": 1298,
     "metadata": {},
     "output_type": "execute_result"
    }
   ],
   "source": [
    "## Cheaking for VIF\n",
    "\n",
    "vif = pd.DataFrame()\n",
    "vif['Features'] = X_train13.columns\n",
    "vif['VIF'] = [variance_inflation_factor(X_train13.values, i) for i in range(X_train13.shape[1])]\n",
    "vif['VIF'] = round(vif['VIF'], 2)\n",
    "vif = vif.sort_values(by = \"VIF\", ascending = False)\n",
    "vif"
   ]
  },
  {
   "cell_type": "markdown",
   "metadata": {},
   "source": [
    "VIF values are less than 3 indicating that the features are not highly correlated and p-values are also low indicating that the features are statistically significant."
   ]
  },
  {
   "cell_type": "markdown",
   "metadata": {},
   "source": [
    "Considering logm13 as the final model, we go ahead with further predictions "
   ]
  },
  {
   "cell_type": "code",
   "execution_count": 1299,
   "metadata": {},
   "outputs": [
    {
     "data": {
      "text/plain": [
       "Index(['const', 'Total Time Spent on Website', 'Lead Source_Olark Chat',\n",
       "       'Lead Source_Reference', 'Lead Source_Welingak Website',\n",
       "       'Last Notable Activity_Modified',\n",
       "       'What is your current occupation_Others',\n",
       "       'What is your current occupation_Unemployed',\n",
       "       'What is your current occupation_Working Professional',\n",
       "       'Specialization_Marketing Management', 'Last Activity_Email Opened',\n",
       "       'Last Activity_Olark Chat Conversation', 'Last Activity_SMS Sent'],\n",
       "      dtype='object')"
      ]
     },
     "execution_count": 1299,
     "metadata": {},
     "output_type": "execute_result"
    }
   ],
   "source": [
    "X_train13.columns"
   ]
  },
  {
   "cell_type": "code",
   "execution_count": 1300,
   "metadata": {},
   "outputs": [
    {
     "data": {
      "text/plain": [
       "Lead Number\n",
       "630949   0.09\n",
       "649355   0.63\n",
       "579735   0.46\n",
       "614238   0.75\n",
       "588625   0.85\n",
       "646388   0.77\n",
       "632041   0.04\n",
       "612248   0.91\n",
       "591797   0.90\n",
       "646673   0.82\n",
       "dtype: float64"
      ]
     },
     "execution_count": 1300,
     "metadata": {},
     "output_type": "execute_result"
    }
   ],
   "source": [
    "# Using 11th model, we predicted the lead probability. \n",
    "\n",
    "y_train_pred = res13.predict(X_train13) ###gives you the probability of getting one\n",
    "y_train_pred[:10]"
   ]
  },
  {
   "cell_type": "code",
   "execution_count": 1301,
   "metadata": {},
   "outputs": [
    {
     "data": {
      "text/plain": [
       "array([0.09223758, 0.62963909, 0.45927482, 0.74956956, 0.8457267 ,\n",
       "       0.76719442, 0.0432141 , 0.90908251, 0.89936422, 0.82083001])"
      ]
     },
     "execution_count": 1301,
     "metadata": {},
     "output_type": "execute_result"
    }
   ],
   "source": [
    "y_train_pred = y_train_pred.values.reshape(-1)\n",
    "y_train_pred[:10]"
   ]
  },
  {
   "cell_type": "code",
   "execution_count": 1302,
   "metadata": {},
   "outputs": [
    {
     "data": {
      "text/html": [
       "<div>\n",
       "<style scoped>\n",
       "    .dataframe tbody tr th:only-of-type {\n",
       "        vertical-align: middle;\n",
       "    }\n",
       "\n",
       "    .dataframe tbody tr th {\n",
       "        vertical-align: top;\n",
       "    }\n",
       "\n",
       "    .dataframe thead th {\n",
       "        text-align: right;\n",
       "    }\n",
       "</style>\n",
       "<table border=\"1\" class=\"dataframe\">\n",
       "  <thead>\n",
       "    <tr style=\"text-align: right;\">\n",
       "      <th></th>\n",
       "      <th>Converted</th>\n",
       "      <th>Lead_Prob</th>\n",
       "      <th>Lead Number</th>\n",
       "    </tr>\n",
       "  </thead>\n",
       "  <tbody>\n",
       "    <tr>\n",
       "      <th>0</th>\n",
       "      <td>0</td>\n",
       "      <td>0.09</td>\n",
       "      <td>630949</td>\n",
       "    </tr>\n",
       "    <tr>\n",
       "      <th>1</th>\n",
       "      <td>0</td>\n",
       "      <td>0.63</td>\n",
       "      <td>649355</td>\n",
       "    </tr>\n",
       "    <tr>\n",
       "      <th>2</th>\n",
       "      <td>0</td>\n",
       "      <td>0.46</td>\n",
       "      <td>579735</td>\n",
       "    </tr>\n",
       "    <tr>\n",
       "      <th>3</th>\n",
       "      <td>1</td>\n",
       "      <td>0.75</td>\n",
       "      <td>614238</td>\n",
       "    </tr>\n",
       "    <tr>\n",
       "      <th>4</th>\n",
       "      <td>1</td>\n",
       "      <td>0.85</td>\n",
       "      <td>588625</td>\n",
       "    </tr>\n",
       "  </tbody>\n",
       "</table>\n",
       "</div>"
      ],
      "text/plain": [
       "   Converted  Lead_Prob  Lead Number\n",
       "0          0       0.09       630949\n",
       "1          0       0.63       649355\n",
       "2          0       0.46       579735\n",
       "3          1       0.75       614238\n",
       "4          1       0.85       588625"
      ]
     },
     "execution_count": 1302,
     "metadata": {},
     "output_type": "execute_result"
    }
   ],
   "source": [
    "y_train_pred_df = pd.DataFrame({'Converted':y_train.values, 'Lead_Prob':y_train_pred})\n",
    "y_train_pred_df['Lead Number'] = y_train.index\n",
    "y_train_pred_df.head()"
   ]
  },
  {
   "cell_type": "code",
   "execution_count": 1303,
   "metadata": {},
   "outputs": [
    {
     "data": {
      "text/html": [
       "<div>\n",
       "<style scoped>\n",
       "    .dataframe tbody tr th:only-of-type {\n",
       "        vertical-align: middle;\n",
       "    }\n",
       "\n",
       "    .dataframe tbody tr th {\n",
       "        vertical-align: top;\n",
       "    }\n",
       "\n",
       "    .dataframe thead th {\n",
       "        text-align: right;\n",
       "    }\n",
       "</style>\n",
       "<table border=\"1\" class=\"dataframe\">\n",
       "  <thead>\n",
       "    <tr style=\"text-align: right;\">\n",
       "      <th></th>\n",
       "      <th>Converted</th>\n",
       "      <th>Lead_Prob</th>\n",
       "      <th>Lead Number</th>\n",
       "      <th>predicted</th>\n",
       "    </tr>\n",
       "  </thead>\n",
       "  <tbody>\n",
       "    <tr>\n",
       "      <th>0</th>\n",
       "      <td>0</td>\n",
       "      <td>0.09</td>\n",
       "      <td>630949</td>\n",
       "      <td>0</td>\n",
       "    </tr>\n",
       "    <tr>\n",
       "      <th>1</th>\n",
       "      <td>0</td>\n",
       "      <td>0.63</td>\n",
       "      <td>649355</td>\n",
       "      <td>1</td>\n",
       "    </tr>\n",
       "    <tr>\n",
       "      <th>2</th>\n",
       "      <td>0</td>\n",
       "      <td>0.46</td>\n",
       "      <td>579735</td>\n",
       "      <td>0</td>\n",
       "    </tr>\n",
       "    <tr>\n",
       "      <th>3</th>\n",
       "      <td>1</td>\n",
       "      <td>0.75</td>\n",
       "      <td>614238</td>\n",
       "      <td>1</td>\n",
       "    </tr>\n",
       "    <tr>\n",
       "      <th>4</th>\n",
       "      <td>1</td>\n",
       "      <td>0.85</td>\n",
       "      <td>588625</td>\n",
       "      <td>1</td>\n",
       "    </tr>\n",
       "  </tbody>\n",
       "</table>\n",
       "</div>"
      ],
      "text/plain": [
       "   Converted  Lead_Prob  Lead Number  predicted\n",
       "0          0       0.09       630949          0\n",
       "1          0       0.63       649355          1\n",
       "2          0       0.46       579735          0\n",
       "3          1       0.75       614238          1\n",
       "4          1       0.85       588625          1"
      ]
     },
     "execution_count": 1303,
     "metadata": {},
     "output_type": "execute_result"
    }
   ],
   "source": [
    "y_train_pred_df['predicted'] = y_train_pred_df.Lead_Prob.map(lambda x: 1 if x > 0.5 else 0)\n",
    "\n",
    "##Taking 0.5 as the optimal cut off point\n",
    "\n",
    "y_train_pred_df.head()"
   ]
  },
  {
   "cell_type": "code",
   "execution_count": 1304,
   "metadata": {},
   "outputs": [
    {
     "name": "stdout",
     "output_type": "stream",
     "text": [
      "[[3476  429]\n",
      " [ 755 1691]]\n"
     ]
    }
   ],
   "source": [
    "confusion_model13 = metrics.confusion_matrix(y_train_pred_df.Converted, y_train_pred_df.predicted )\n",
    "print(confusion_model13)"
   ]
  },
  {
   "cell_type": "code",
   "execution_count": 1305,
   "metadata": {},
   "outputs": [],
   "source": [
    "    # Predicted     not_converted    converted\n",
    "# Actual\n",
    "# not_convrted        3476      429\n",
    "# converted         755       1691  "
   ]
  },
  {
   "cell_type": "code",
   "execution_count": 1306,
   "metadata": {},
   "outputs": [
    {
     "name": "stdout",
     "output_type": "stream",
     "text": [
      "Accuracy with which the model predicts the outcomes is 81.35726657219335\n"
     ]
    }
   ],
   "source": [
    "# Let's check the overall accuracy.\n",
    "print('Accuracy with which the model predicts the outcomes is',(metrics.accuracy_score(y_train_pred_df.Converted, y_train_pred_df.predicted))*100)"
   ]
  },
  {
   "cell_type": "markdown",
   "metadata": {},
   "source": [
    "Lets check for the other metrics of the model."
   ]
  },
  {
   "cell_type": "code",
   "execution_count": 1307,
   "metadata": {},
   "outputs": [],
   "source": [
    "TP_model13 = confusion_model13[1,1] # true positive \n",
    "TN_model13 = confusion_model13[0,0] # true negatives\n",
    "FP_model13 = confusion_model13[0,1] # false positives\n",
    "FN_model13 = confusion_model13[1,0] # false negatives"
   ]
  },
  {
   "cell_type": "code",
   "execution_count": 1308,
   "metadata": {},
   "outputs": [
    {
     "name": "stdout",
     "output_type": "stream",
     "text": [
      "Sensitivity of the Model built is 69.13327882256746\n"
     ]
    }
   ],
   "source": [
    "### Checking for the model's sensitivity\n",
    "print('Sensitivity of the Model built is',(TP_model13 / float(TP_model13+FN_model13)*100))"
   ]
  },
  {
   "cell_type": "code",
   "execution_count": 1309,
   "metadata": {},
   "outputs": [
    {
     "name": "stdout",
     "output_type": "stream",
     "text": [
      "Specificity of the model built is 89.01408450704226\n"
     ]
    }
   ],
   "source": [
    "print('Specificity of the model built is',(TN_model13 / float(TN_model13+FP_model13))*100)"
   ]
  },
  {
   "cell_type": "code",
   "execution_count": 1310,
   "metadata": {},
   "outputs": [
    {
     "name": "stdout",
     "output_type": "stream",
     "text": [
      "False positive rate i.e. customers who were not converted and yet predicted as converted is 10.985915492957748\n"
     ]
    }
   ],
   "source": [
    "print('False positive rate i.e. customers who were not converted and yet predicted as converted is',\n",
    "      (FP_model13/float(FP_model13 + TN_model13)*100))"
   ]
  },
  {
   "cell_type": "code",
   "execution_count": 1311,
   "metadata": {},
   "outputs": [
    {
     "name": "stdout",
     "output_type": "stream",
     "text": [
      "Out of all the positives predicted by the model 79.76415094339623 were right\n",
      "This is the precision of the model\n"
     ]
    }
   ],
   "source": [
    "# positive predictive value - out of all the positives predicted, how many were right ?\n",
    "\n",
    "print('Out of all the positives predicted by the model',(TP_model13/ float(TP_model13 + FP_model13))*100,'were right')\n",
    "print('This is the precision of the model')"
   ]
  },
  {
   "cell_type": "code",
   "execution_count": 1312,
   "metadata": {},
   "outputs": [
    {
     "name": "stdout",
     "output_type": "stream",
     "text": [
      "Out of all the negatives predicted by the model 82.15551878988418 were correct\n"
     ]
    }
   ],
   "source": [
    "# Negative predictive value - out of all the negatives predicted, how many were actually negatives ? \n",
    "\n",
    "NPR_model13 = (TN_model13 / float(TN_model13+ FN_model13))\n",
    "print('Out of all the negatives predicted by the model',NPR_model13*100,'were correct')"
   ]
  },
  {
   "cell_type": "code",
   "execution_count": 1313,
   "metadata": {},
   "outputs": [
    {
     "name": "stdout",
     "output_type": "stream",
     "text": [
      "Recall of the model is 69.13327882256746\n"
     ]
    }
   ],
   "source": [
    "recall_model13 = TP_model13/float(TP_model13+FN_model13)\n",
    "print('Recall of the model is', recall_model13*100)"
   ]
  },
  {
   "cell_type": "markdown",
   "metadata": {},
   "source": [
    "**Metrics of the model**: \n",
    "\n",
    "    1. Accuracy with which the model predicts the outcomes is 81.35726657219335\n",
    "    2. Sensitivity of the Model built is 69.13327882256746\n",
    "    3. Specificity of the model built is 77.9123414071511\n",
    "    4. False positive rate i.e. customers who were not converted and yet predicted as converted is 10.985915492957748\n",
    "    5. Out of all the positives predicted by the model 79.76415094339623 were right\n",
    "    This is the precision of the model\n",
    "    6. Out of all the negatives predicted by the model 82.15551878988418 were correct\n",
    "    7. Recall of the model is 69.13327882256746"
   ]
  },
  {
   "cell_type": "markdown",
   "metadata": {},
   "source": [
    "### 6.14 Plotting the ROC curve "
   ]
  },
  {
   "cell_type": "code",
   "execution_count": 1314,
   "metadata": {},
   "outputs": [],
   "source": [
    "def draw_roc( actual, probs ):\n",
    "    fpr, tpr, thresholds = metrics.roc_curve( actual, probs,\n",
    "                                              drop_intermediate = False )\n",
    "    auc_score = metrics.roc_auc_score( actual, probs )\n",
    "    plt.figure(figsize=(5, 5))\n",
    "    plt.plot( fpr, tpr, label='ROC curve (area = %0.2f)' % auc_score )\n",
    "    plt.plot([0, 1], [0, 1], 'k--')\n",
    "    plt.xlim([0.0, 1.0])\n",
    "    plt.ylim([0.0, 1.05])\n",
    "    plt.xlabel('False Positive Rate or [1 - True Negative Rate]')\n",
    "    plt.ylabel('True Positive Rate')\n",
    "    plt.title('Receiver operating characteristic example')\n",
    "    plt.legend(loc=\"lower right\")\n",
    "    plt.show()\n",
    "\n",
    "    return None"
   ]
  },
  {
   "cell_type": "code",
   "execution_count": 1315,
   "metadata": {},
   "outputs": [],
   "source": [
    "fpr, tpr, thresholds = metrics.roc_curve( y_train_pred_df.Converted, y_train_pred_df.Lead_Prob, drop_intermediate = False )"
   ]
  },
  {
   "cell_type": "code",
   "execution_count": 1316,
   "metadata": {},
   "outputs": [
    {
     "data": {
      "image/png": "[encoded data removed]",
      "text/plain": [
       "<Figure size 360x360 with 1 Axes>"
      ]
     },
     "metadata": {
      "needs_background": "light"
     },
     "output_type": "display_data"
    }
   ],
   "source": [
    "draw_roc(y_train_pred_df.Converted, y_train_pred_df.Lead_Prob)"
   ]
  },
  {
   "cell_type": "markdown",
   "metadata": {},
   "source": [
    "#### Finding the final Optimal Point "
   ]
  },
  {
   "cell_type": "code",
   "execution_count": 1317,
   "metadata": {},
   "outputs": [
    {
     "data": {
      "text/html": [
       "<div>\n",
       "<style scoped>\n",
       "    .dataframe tbody tr th:only-of-type {\n",
       "        vertical-align: middle;\n",
       "    }\n",
       "\n",
       "    .dataframe tbody tr th {\n",
       "        vertical-align: top;\n",
       "    }\n",
       "\n",
       "    .dataframe thead th {\n",
       "        text-align: right;\n",
       "    }\n",
       "</style>\n",
       "<table border=\"1\" class=\"dataframe\">\n",
       "  <thead>\n",
       "    <tr style=\"text-align: right;\">\n",
       "      <th></th>\n",
       "      <th>Converted</th>\n",
       "      <th>Lead_Prob</th>\n",
       "      <th>Lead Number</th>\n",
       "      <th>predicted</th>\n",
       "      <th>0.0</th>\n",
       "      <th>0.1</th>\n",
       "      <th>0.2</th>\n",
       "      <th>0.3</th>\n",
       "      <th>0.4</th>\n",
       "      <th>0.5</th>\n",
       "      <th>0.6</th>\n",
       "      <th>0.7</th>\n",
       "      <th>0.8</th>\n",
       "      <th>0.9</th>\n",
       "    </tr>\n",
       "  </thead>\n",
       "  <tbody>\n",
       "    <tr>\n",
       "      <th>0</th>\n",
       "      <td>0</td>\n",
       "      <td>0.09</td>\n",
       "      <td>630949</td>\n",
       "      <td>0</td>\n",
       "      <td>1</td>\n",
       "      <td>0</td>\n",
       "      <td>0</td>\n",
       "      <td>0</td>\n",
       "      <td>0</td>\n",
       "      <td>0</td>\n",
       "      <td>0</td>\n",
       "      <td>0</td>\n",
       "      <td>0</td>\n",
       "      <td>0</td>\n",
       "    </tr>\n",
       "    <tr>\n",
       "      <th>1</th>\n",
       "      <td>0</td>\n",
       "      <td>0.63</td>\n",
       "      <td>649355</td>\n",
       "      <td>1</td>\n",
       "      <td>1</td>\n",
       "      <td>1</td>\n",
       "      <td>1</td>\n",
       "      <td>1</td>\n",
       "      <td>1</td>\n",
       "      <td>1</td>\n",
       "      <td>1</td>\n",
       "      <td>0</td>\n",
       "      <td>0</td>\n",
       "      <td>0</td>\n",
       "    </tr>\n",
       "    <tr>\n",
       "      <th>2</th>\n",
       "      <td>0</td>\n",
       "      <td>0.46</td>\n",
       "      <td>579735</td>\n",
       "      <td>0</td>\n",
       "      <td>1</td>\n",
       "      <td>1</td>\n",
       "      <td>1</td>\n",
       "      <td>1</td>\n",
       "      <td>1</td>\n",
       "      <td>0</td>\n",
       "      <td>0</td>\n",
       "      <td>0</td>\n",
       "      <td>0</td>\n",
       "      <td>0</td>\n",
       "    </tr>\n",
       "    <tr>\n",
       "      <th>3</th>\n",
       "      <td>1</td>\n",
       "      <td>0.75</td>\n",
       "      <td>614238</td>\n",
       "      <td>1</td>\n",
       "      <td>1</td>\n",
       "      <td>1</td>\n",
       "      <td>1</td>\n",
       "      <td>1</td>\n",
       "      <td>1</td>\n",
       "      <td>1</td>\n",
       "      <td>1</td>\n",
       "      <td>1</td>\n",
       "      <td>0</td>\n",
       "      <td>0</td>\n",
       "    </tr>\n",
       "    <tr>\n",
       "      <th>4</th>\n",
       "      <td>1</td>\n",
       "      <td>0.85</td>\n",
       "      <td>588625</td>\n",
       "      <td>1</td>\n",
       "      <td>1</td>\n",
       "      <td>1</td>\n",
       "      <td>1</td>\n",
       "      <td>1</td>\n",
       "      <td>1</td>\n",
       "      <td>1</td>\n",
       "      <td>1</td>\n",
       "      <td>1</td>\n",
       "      <td>1</td>\n",
       "      <td>0</td>\n",
       "    </tr>\n",
       "  </tbody>\n",
       "</table>\n",
       "</div>"
      ],
      "text/plain": [
       "   Converted  Lead_Prob  Lead Number  predicted  0.0  0.1  0.2  0.3  0.4  0.5  \\\n",
       "0          0       0.09       630949          0    1    0    0    0    0    0   \n",
       "1          0       0.63       649355          1    1    1    1    1    1    1   \n",
       "2          0       0.46       579735          0    1    1    1    1    1    0   \n",
       "3          1       0.75       614238          1    1    1    1    1    1    1   \n",
       "4          1       0.85       588625          1    1    1    1    1    1    1   \n",
       "\n",
       "   0.6  0.7  0.8  0.9  \n",
       "0    0    0    0    0  \n",
       "1    1    0    0    0  \n",
       "2    0    0    0    0  \n",
       "3    1    1    0    0  \n",
       "4    1    1    1    0  "
      ]
     },
     "execution_count": 1317,
     "metadata": {},
     "output_type": "execute_result"
    }
   ],
   "source": [
    "# Let's create columns with different probability cutoffs \n",
    "numbers = [float(x)/10 for x in range(10)]\n",
    "for i in numbers:\n",
    "    y_train_pred_df[i]= y_train_pred_df.Lead_Prob.map(lambda x: 1 if x > i else 0)\n",
    "y_train_pred_df.head()"
   ]
  },
  {
   "cell_type": "code",
   "execution_count": 1318,
   "metadata": {},
   "outputs": [
    {
     "name": "stdout",
     "output_type": "stream",
     "text": [
      "      prob  accuracy  sensitivity  specificity\n",
      "0.00  0.00      0.39         1.00         0.00\n",
      "0.10  0.10      0.64         0.97         0.43\n",
      "0.20  0.20      0.75         0.92         0.65\n",
      "0.30  0.30      0.80         0.87         0.75\n",
      "0.40  0.40      0.81         0.76         0.84\n",
      "0.50  0.50      0.81         0.69         0.89\n",
      "0.60  0.60      0.81         0.63         0.92\n",
      "0.70  0.70      0.78         0.51         0.95\n",
      "0.80  0.80      0.76         0.42         0.97\n",
      "0.90  0.90      0.71         0.27         0.99\n"
     ]
    }
   ],
   "source": [
    "# Now let's calculate accuracy sensitivity and specificity for various probability cutoffs.\n",
    "cutoff_df = pd.DataFrame( columns = ['prob','accuracy','sensitivity','specificity'])\n",
    "from sklearn.metrics import confusion_matrix\n",
    "\n",
    "num = [0.0,0.1,0.2,0.3,0.4,0.5,0.6,0.7,0.8,0.9]\n",
    "for i in num:\n",
    "    cm1 = metrics.confusion_matrix(y_train_pred_df.Converted, y_train_pred_df[i] )\n",
    "    total1=sum(sum(cm1))\n",
    "    accuracy = (cm1[0,0]+cm1[1,1])/total1\n",
    "    \n",
    "    specificity = cm1[0,0]/(cm1[0,0]+cm1[0,1])\n",
    "    sensitivity = cm1[1,1]/(cm1[1,0]+cm1[1,1])\n",
    "    cutoff_df.loc[i] =[ i ,accuracy,sensitivity,specificity]\n",
    "print(cutoff_df)"
   ]
  },
  {
   "cell_type": "code",
   "execution_count": 1319,
   "metadata": {},
   "outputs": [
    {
     "data": {
      "image/png": "[encoded data removed]",
      "text/plain": [
       "<Figure size 432x288 with 1 Axes>"
      ]
     },
     "metadata": {
      "needs_background": "light"
     },
     "output_type": "display_data"
    }
   ],
   "source": [
    "# Let's plot accuracy sensitivity and specificity for various probabilities.\n",
    "cutoff_df.plot.line(x='prob', y=['accuracy','sensitivity','specificity'])\n",
    "plt.grid()\n",
    "plt.show()"
   ]
  },
  {
   "cell_type": "markdown",
   "metadata": {},
   "source": [
    "From the above curve, 0.35 seems to be the optimal point."
   ]
  },
  {
   "cell_type": "code",
   "execution_count": 1320,
   "metadata": {},
   "outputs": [
    {
     "data": {
      "text/html": [
       "<div>\n",
       "<style scoped>\n",
       "    .dataframe tbody tr th:only-of-type {\n",
       "        vertical-align: middle;\n",
       "    }\n",
       "\n",
       "    .dataframe tbody tr th {\n",
       "        vertical-align: top;\n",
       "    }\n",
       "\n",
       "    .dataframe thead th {\n",
       "        text-align: right;\n",
       "    }\n",
       "</style>\n",
       "<table border=\"1\" class=\"dataframe\">\n",
       "  <thead>\n",
       "    <tr style=\"text-align: right;\">\n",
       "      <th></th>\n",
       "      <th>Converted</th>\n",
       "      <th>Lead_Prob</th>\n",
       "      <th>Lead Number</th>\n",
       "      <th>predicted</th>\n",
       "      <th>0.0</th>\n",
       "      <th>0.1</th>\n",
       "      <th>0.2</th>\n",
       "      <th>0.3</th>\n",
       "      <th>0.4</th>\n",
       "      <th>0.5</th>\n",
       "      <th>0.6</th>\n",
       "      <th>0.7</th>\n",
       "      <th>0.8</th>\n",
       "      <th>0.9</th>\n",
       "      <th>final_predicted</th>\n",
       "    </tr>\n",
       "  </thead>\n",
       "  <tbody>\n",
       "    <tr>\n",
       "      <th>0</th>\n",
       "      <td>0</td>\n",
       "      <td>0.09</td>\n",
       "      <td>630949</td>\n",
       "      <td>0</td>\n",
       "      <td>1</td>\n",
       "      <td>0</td>\n",
       "      <td>0</td>\n",
       "      <td>0</td>\n",
       "      <td>0</td>\n",
       "      <td>0</td>\n",
       "      <td>0</td>\n",
       "      <td>0</td>\n",
       "      <td>0</td>\n",
       "      <td>0</td>\n",
       "      <td>0</td>\n",
       "    </tr>\n",
       "    <tr>\n",
       "      <th>1</th>\n",
       "      <td>0</td>\n",
       "      <td>0.63</td>\n",
       "      <td>649355</td>\n",
       "      <td>1</td>\n",
       "      <td>1</td>\n",
       "      <td>1</td>\n",
       "      <td>1</td>\n",
       "      <td>1</td>\n",
       "      <td>1</td>\n",
       "      <td>1</td>\n",
       "      <td>1</td>\n",
       "      <td>0</td>\n",
       "      <td>0</td>\n",
       "      <td>0</td>\n",
       "      <td>1</td>\n",
       "    </tr>\n",
       "    <tr>\n",
       "      <th>2</th>\n",
       "      <td>0</td>\n",
       "      <td>0.46</td>\n",
       "      <td>579735</td>\n",
       "      <td>0</td>\n",
       "      <td>1</td>\n",
       "      <td>1</td>\n",
       "      <td>1</td>\n",
       "      <td>1</td>\n",
       "      <td>1</td>\n",
       "      <td>0</td>\n",
       "      <td>0</td>\n",
       "      <td>0</td>\n",
       "      <td>0</td>\n",
       "      <td>0</td>\n",
       "      <td>1</td>\n",
       "    </tr>\n",
       "    <tr>\n",
       "      <th>3</th>\n",
       "      <td>1</td>\n",
       "      <td>0.75</td>\n",
       "      <td>614238</td>\n",
       "      <td>1</td>\n",
       "      <td>1</td>\n",
       "      <td>1</td>\n",
       "      <td>1</td>\n",
       "      <td>1</td>\n",
       "      <td>1</td>\n",
       "      <td>1</td>\n",
       "      <td>1</td>\n",
       "      <td>1</td>\n",
       "      <td>0</td>\n",
       "      <td>0</td>\n",
       "      <td>1</td>\n",
       "    </tr>\n",
       "    <tr>\n",
       "      <th>4</th>\n",
       "      <td>1</td>\n",
       "      <td>0.85</td>\n",
       "      <td>588625</td>\n",
       "      <td>1</td>\n",
       "      <td>1</td>\n",
       "      <td>1</td>\n",
       "      <td>1</td>\n",
       "      <td>1</td>\n",
       "      <td>1</td>\n",
       "      <td>1</td>\n",
       "      <td>1</td>\n",
       "      <td>1</td>\n",
       "      <td>1</td>\n",
       "      <td>0</td>\n",
       "      <td>1</td>\n",
       "    </tr>\n",
       "  </tbody>\n",
       "</table>\n",
       "</div>"
      ],
      "text/plain": [
       "   Converted  Lead_Prob  Lead Number  predicted  0.0  0.1  0.2  0.3  0.4  0.5  \\\n",
       "0          0       0.09       630949          0    1    0    0    0    0    0   \n",
       "1          0       0.63       649355          1    1    1    1    1    1    1   \n",
       "2          0       0.46       579735          0    1    1    1    1    1    0   \n",
       "3          1       0.75       614238          1    1    1    1    1    1    1   \n",
       "4          1       0.85       588625          1    1    1    1    1    1    1   \n",
       "\n",
       "   0.6  0.7  0.8  0.9  final_predicted  \n",
       "0    0    0    0    0                0  \n",
       "1    1    0    0    0                1  \n",
       "2    0    0    0    0                1  \n",
       "3    1    1    0    0                1  \n",
       "4    1    1    1    0                1  "
      ]
     },
     "execution_count": 1320,
     "metadata": {},
     "output_type": "execute_result"
    }
   ],
   "source": [
    "y_train_pred_df['final_predicted'] = y_train_pred_df.Lead_Prob.map( lambda x: 1 if x > 0.35 else 0)\n",
    "\n",
    "y_train_pred_df.head()"
   ]
  },
  {
   "cell_type": "code",
   "execution_count": 1321,
   "metadata": {},
   "outputs": [
    {
     "name": "stdout",
     "output_type": "stream",
     "text": [
      "Accuracy after changing the optimal point is 79.95591245473153\n"
     ]
    }
   ],
   "source": [
    "# Let's check the overall accuracy.\n",
    "print('Accuracy after changing the optimal point is',(metrics.accuracy_score(y_train_pred_df.Converted, y_train_pred_df.final_predicted))*100)"
   ]
  },
  {
   "cell_type": "code",
   "execution_count": 1322,
   "metadata": {},
   "outputs": [
    {
     "data": {
      "text/plain": [
       "array([[3061,  844],\n",
       "       [ 429, 2017]], dtype=int64)"
      ]
     },
     "execution_count": 1322,
     "metadata": {},
     "output_type": "execute_result"
    }
   ],
   "source": [
    "confusion2 = metrics.confusion_matrix(y_train_pred_df.Converted, y_train_pred_df.final_predicted )\n",
    "confusion2"
   ]
  },
  {
   "cell_type": "code",
   "execution_count": 1323,
   "metadata": {},
   "outputs": [],
   "source": [
    "TP2 = confusion2[1,1] # true positive \n",
    "TN2 = confusion2[0,0] # true negatives\n",
    "FP2 = confusion2[0,1] # false positives\n",
    "FN2 = confusion2[1,0] # false negatives"
   ]
  },
  {
   "cell_type": "code",
   "execution_count": 1324,
   "metadata": {},
   "outputs": [
    {
     "name": "stdout",
     "output_type": "stream",
     "text": [
      "Sensitivity of the new model is 82.46116107931316\n"
     ]
    }
   ],
   "source": [
    "# Let's see the sensitivity of our logistic regression model\n",
    "print('Sensitivity of the new model is',(TP2 / float(TP2+FN2))*100)"
   ]
  },
  {
   "cell_type": "code",
   "execution_count": 1325,
   "metadata": {},
   "outputs": [
    {
     "name": "stdout",
     "output_type": "stream",
     "text": [
      "Specificity of the new model is 78.38668373879642\n"
     ]
    }
   ],
   "source": [
    "# Let us calculate specificity\n",
    "\n",
    "print('Specificity of the new model is',(TN2 / float(TN2+FP2))*100)"
   ]
  },
  {
   "cell_type": "code",
   "execution_count": 1326,
   "metadata": {},
   "outputs": [
    {
     "name": "stdout",
     "output_type": "stream",
     "text": [
      "False positive rate of the new model is 21.613316261203586\n"
     ]
    }
   ],
   "source": [
    "# Calculate false postive rate - predicting as convrted when customer was not converted\n",
    "\n",
    "print('False positive rate of the new model is',(FP2/ float(TN2+FP2))*100)"
   ]
  },
  {
   "cell_type": "code",
   "execution_count": 1327,
   "metadata": {},
   "outputs": [
    {
     "name": "stdout",
     "output_type": "stream",
     "text": [
      "Positive Predictive value is 70.4998252359315\n"
     ]
    }
   ],
   "source": [
    "# Positive predictive value \n",
    "print ('Positive Predictive value is',(TP2 / float(TP2+FP2))*100)"
   ]
  },
  {
   "cell_type": "code",
   "execution_count": 1328,
   "metadata": {},
   "outputs": [
    {
     "name": "stdout",
     "output_type": "stream",
     "text": [
      "Negative predictive value is 87.70773638968481\n"
     ]
    }
   ],
   "source": [
    "# Negative predictive value\n",
    "print('Negative predictive value is',(TN2 / float(TN2 + FN2))*100)"
   ]
  },
  {
   "cell_type": "code",
   "execution_count": 1329,
   "metadata": {},
   "outputs": [],
   "source": [
    "from sklearn.metrics import precision_score, recall_score"
   ]
  },
  {
   "cell_type": "code",
   "execution_count": 1330,
   "metadata": {},
   "outputs": [
    {
     "name": "stdout",
     "output_type": "stream",
     "text": [
      "Recall is 69.13327882256746\n"
     ]
    }
   ],
   "source": [
    "print('Recall is',(recall_score(y_train_pred_df.Converted, y_train_pred_df.predicted))*100)"
   ]
  },
  {
   "cell_type": "markdown",
   "metadata": {},
   "source": [
    "Metrics are changing the Optimal cut-off :\n",
    "    1. Accuracy after changing the optimal point is 79.95591245473153\n",
    "    2. Sensitivity is 82.0020222446916\n",
    "    3. Specificity is 77.9123414071511\n",
    "    4. False positive rate of the new model is 22.087658592848904\n",
    "    5. Positive Predictive value is 67.92294807370183. This is the precision of the model. \n",
    "    6. Negative predictive value is 88.35840418574232\n",
    "    7. Recall is 69.13327882256746\n",
    "    "
   ]
  },
  {
   "cell_type": "markdown",
   "metadata": {},
   "source": [
    "## 7. Making predictions on the test"
   ]
  },
  {
   "cell_type": "code",
   "execution_count": 1331,
   "metadata": {},
   "outputs": [
    {
     "data": {
      "text/html": [
       "<div>\n",
       "<style scoped>\n",
       "    .dataframe tbody tr th:only-of-type {\n",
       "        vertical-align: middle;\n",
       "    }\n",
       "\n",
       "    .dataframe tbody tr th {\n",
       "        vertical-align: top;\n",
       "    }\n",
       "\n",
       "    .dataframe thead th {\n",
       "        text-align: right;\n",
       "    }\n",
       "</style>\n",
       "<table border=\"1\" class=\"dataframe\">\n",
       "  <thead>\n",
       "    <tr style=\"text-align: right;\">\n",
       "      <th></th>\n",
       "      <th>TotalVisits</th>\n",
       "      <th>Total Time Spent on Website</th>\n",
       "      <th>Page Views Per Visit</th>\n",
       "      <th>A free copy of Mastering The Interview</th>\n",
       "      <th>Lead Origin_Landing Page Submission</th>\n",
       "      <th>Lead Origin_Lead Add Form</th>\n",
       "      <th>Lead Origin_Lead Import</th>\n",
       "      <th>Lead Source_Direct Traffic</th>\n",
       "      <th>Lead Source_Facebook</th>\n",
       "      <th>Lead Source_Google</th>\n",
       "      <th>...</th>\n",
       "      <th>Specialization_Operations Management</th>\n",
       "      <th>Specialization_Others</th>\n",
       "      <th>City_Mumbai</th>\n",
       "      <th>City_Others</th>\n",
       "      <th>City_Thane &amp; Outskirts</th>\n",
       "      <th>Last Activity_Email Opened</th>\n",
       "      <th>Last Activity_Olark Chat Conversation</th>\n",
       "      <th>Last Activity_Others</th>\n",
       "      <th>Last Activity_Page Visited on Website</th>\n",
       "      <th>Last Activity_SMS Sent</th>\n",
       "    </tr>\n",
       "    <tr>\n",
       "      <th>Lead Number</th>\n",
       "      <th></th>\n",
       "      <th></th>\n",
       "      <th></th>\n",
       "      <th></th>\n",
       "      <th></th>\n",
       "      <th></th>\n",
       "      <th></th>\n",
       "      <th></th>\n",
       "      <th></th>\n",
       "      <th></th>\n",
       "      <th></th>\n",
       "      <th></th>\n",
       "      <th></th>\n",
       "      <th></th>\n",
       "      <th></th>\n",
       "      <th></th>\n",
       "      <th></th>\n",
       "      <th></th>\n",
       "      <th></th>\n",
       "      <th></th>\n",
       "      <th></th>\n",
       "    </tr>\n",
       "  </thead>\n",
       "  <tbody>\n",
       "    <tr>\n",
       "      <th>628652</th>\n",
       "      <td>0.21</td>\n",
       "      <td>-0.59</td>\n",
       "      <td>0.85</td>\n",
       "      <td>0</td>\n",
       "      <td>0</td>\n",
       "      <td>0</td>\n",
       "      <td>0</td>\n",
       "      <td>0</td>\n",
       "      <td>0</td>\n",
       "      <td>1</td>\n",
       "      <td>...</td>\n",
       "      <td>0</td>\n",
       "      <td>0</td>\n",
       "      <td>0</td>\n",
       "      <td>0</td>\n",
       "      <td>0</td>\n",
       "      <td>1</td>\n",
       "      <td>0</td>\n",
       "      <td>0</td>\n",
       "      <td>0</td>\n",
       "      <td>0</td>\n",
       "    </tr>\n",
       "    <tr>\n",
       "      <th>644500</th>\n",
       "      <td>0.51</td>\n",
       "      <td>1.89</td>\n",
       "      <td>1.36</td>\n",
       "      <td>1</td>\n",
       "      <td>1</td>\n",
       "      <td>0</td>\n",
       "      <td>0</td>\n",
       "      <td>1</td>\n",
       "      <td>0</td>\n",
       "      <td>0</td>\n",
       "      <td>...</td>\n",
       "      <td>0</td>\n",
       "      <td>1</td>\n",
       "      <td>1</td>\n",
       "      <td>0</td>\n",
       "      <td>0</td>\n",
       "      <td>1</td>\n",
       "      <td>0</td>\n",
       "      <td>0</td>\n",
       "      <td>0</td>\n",
       "      <td>0</td>\n",
       "    </tr>\n",
       "    <tr>\n",
       "      <th>588935</th>\n",
       "      <td>-0.40</td>\n",
       "      <td>-0.74</td>\n",
       "      <td>-0.16</td>\n",
       "      <td>0</td>\n",
       "      <td>0</td>\n",
       "      <td>0</td>\n",
       "      <td>0</td>\n",
       "      <td>0</td>\n",
       "      <td>0</td>\n",
       "      <td>1</td>\n",
       "      <td>...</td>\n",
       "      <td>0</td>\n",
       "      <td>0</td>\n",
       "      <td>0</td>\n",
       "      <td>0</td>\n",
       "      <td>0</td>\n",
       "      <td>1</td>\n",
       "      <td>0</td>\n",
       "      <td>0</td>\n",
       "      <td>0</td>\n",
       "      <td>0</td>\n",
       "    </tr>\n",
       "    <tr>\n",
       "      <th>619437</th>\n",
       "      <td>-1.01</td>\n",
       "      <td>-0.88</td>\n",
       "      <td>-1.17</td>\n",
       "      <td>0</td>\n",
       "      <td>0</td>\n",
       "      <td>1</td>\n",
       "      <td>0</td>\n",
       "      <td>0</td>\n",
       "      <td>0</td>\n",
       "      <td>0</td>\n",
       "      <td>...</td>\n",
       "      <td>0</td>\n",
       "      <td>1</td>\n",
       "      <td>1</td>\n",
       "      <td>0</td>\n",
       "      <td>0</td>\n",
       "      <td>1</td>\n",
       "      <td>0</td>\n",
       "      <td>0</td>\n",
       "      <td>0</td>\n",
       "      <td>0</td>\n",
       "    </tr>\n",
       "    <tr>\n",
       "      <th>623381</th>\n",
       "      <td>1.43</td>\n",
       "      <td>-0.58</td>\n",
       "      <td>2.88</td>\n",
       "      <td>1</td>\n",
       "      <td>1</td>\n",
       "      <td>0</td>\n",
       "      <td>0</td>\n",
       "      <td>0</td>\n",
       "      <td>0</td>\n",
       "      <td>0</td>\n",
       "      <td>...</td>\n",
       "      <td>0</td>\n",
       "      <td>1</td>\n",
       "      <td>0</td>\n",
       "      <td>1</td>\n",
       "      <td>0</td>\n",
       "      <td>1</td>\n",
       "      <td>0</td>\n",
       "      <td>0</td>\n",
       "      <td>0</td>\n",
       "      <td>0</td>\n",
       "    </tr>\n",
       "  </tbody>\n",
       "</table>\n",
       "<p>5 rows × 47 columns</p>\n",
       "</div>"
      ],
      "text/plain": [
       "             TotalVisits  Total Time Spent on Website  Page Views Per Visit  \\\n",
       "Lead Number                                                                   \n",
       "628652              0.21                        -0.59                  0.85   \n",
       "644500              0.51                         1.89                  1.36   \n",
       "588935             -0.40                        -0.74                 -0.16   \n",
       "619437             -1.01                        -0.88                 -1.17   \n",
       "623381              1.43                        -0.58                  2.88   \n",
       "\n",
       "             A free copy of Mastering The Interview  \\\n",
       "Lead Number                                           \n",
       "628652                                            0   \n",
       "644500                                            1   \n",
       "588935                                            0   \n",
       "619437                                            0   \n",
       "623381                                            1   \n",
       "\n",
       "             Lead Origin_Landing Page Submission  Lead Origin_Lead Add Form  \\\n",
       "Lead Number                                                                   \n",
       "628652                                         0                          0   \n",
       "644500                                         1                          0   \n",
       "588935                                         0                          0   \n",
       "619437                                         0                          1   \n",
       "623381                                         1                          0   \n",
       "\n",
       "             Lead Origin_Lead Import  Lead Source_Direct Traffic  \\\n",
       "Lead Number                                                        \n",
       "628652                             0                           0   \n",
       "644500                             0                           1   \n",
       "588935                             0                           0   \n",
       "619437                             0                           0   \n",
       "623381                             0                           0   \n",
       "\n",
       "             Lead Source_Facebook  Lead Source_Google  ...  \\\n",
       "Lead Number                                            ...   \n",
       "628652                          0                   1  ...   \n",
       "644500                          0                   0  ...   \n",
       "588935                          0                   1  ...   \n",
       "619437                          0                   0  ...   \n",
       "623381                          0                   0  ...   \n",
       "\n",
       "             Specialization_Operations Management  Specialization_Others  \\\n",
       "Lead Number                                                                \n",
       "628652                                          0                      0   \n",
       "644500                                          0                      1   \n",
       "588935                                          0                      0   \n",
       "619437                                          0                      1   \n",
       "623381                                          0                      1   \n",
       "\n",
       "             City_Mumbai  City_Others  City_Thane & Outskirts  \\\n",
       "Lead Number                                                     \n",
       "628652                 0            0                       0   \n",
       "644500                 1            0                       0   \n",
       "588935                 0            0                       0   \n",
       "619437                 1            0                       0   \n",
       "623381                 0            1                       0   \n",
       "\n",
       "             Last Activity_Email Opened  \\\n",
       "Lead Number                               \n",
       "628652                                1   \n",
       "644500                                1   \n",
       "588935                                1   \n",
       "619437                                1   \n",
       "623381                                1   \n",
       "\n",
       "             Last Activity_Olark Chat Conversation  Last Activity_Others  \\\n",
       "Lead Number                                                                \n",
       "628652                                           0                     0   \n",
       "644500                                           0                     0   \n",
       "588935                                           0                     0   \n",
       "619437                                           0                     0   \n",
       "623381                                           0                     0   \n",
       "\n",
       "             Last Activity_Page Visited on Website  Last Activity_SMS Sent  \n",
       "Lead Number                                                                 \n",
       "628652                                           0                       0  \n",
       "644500                                           0                       0  \n",
       "588935                                           0                       0  \n",
       "619437                                           0                       0  \n",
       "623381                                           0                       0  \n",
       "\n",
       "[5 rows x 47 columns]"
      ]
     },
     "execution_count": 1331,
     "metadata": {},
     "output_type": "execute_result"
    }
   ],
   "source": [
    "scaler = StandardScaler()\n",
    "\n",
    "X_test[['TotalVisits','Total Time Spent on Website','Page Views Per Visit']] = scaler.fit_transform(X_test[['TotalVisits','Total Time Spent on Website','Page Views Per Visit']])\n",
    "\n",
    "X_test.head()"
   ]
  },
  {
   "cell_type": "code",
   "execution_count": 1332,
   "metadata": {},
   "outputs": [
    {
     "data": {
      "text/html": [
       "<div>\n",
       "<style scoped>\n",
       "    .dataframe tbody tr th:only-of-type {\n",
       "        vertical-align: middle;\n",
       "    }\n",
       "\n",
       "    .dataframe tbody tr th {\n",
       "        vertical-align: top;\n",
       "    }\n",
       "\n",
       "    .dataframe thead th {\n",
       "        text-align: right;\n",
       "    }\n",
       "</style>\n",
       "<table border=\"1\" class=\"dataframe\">\n",
       "  <thead>\n",
       "    <tr style=\"text-align: right;\">\n",
       "      <th></th>\n",
       "      <th>Total Time Spent on Website</th>\n",
       "      <th>Lead Origin_Landing Page Submission</th>\n",
       "      <th>Lead Origin_Lead Add Form</th>\n",
       "      <th>Lead Source_NC_EDM</th>\n",
       "      <th>Lead Source_Olark Chat</th>\n",
       "      <th>Lead Source_Reference</th>\n",
       "      <th>Lead Source_Social Media</th>\n",
       "      <th>Lead Source_Welingak Website</th>\n",
       "      <th>Last Notable Activity_Modified</th>\n",
       "      <th>Last Notable Activity_Others</th>\n",
       "      <th>...</th>\n",
       "      <th>Specialization_Human Resource Management</th>\n",
       "      <th>Specialization_Marketing Management</th>\n",
       "      <th>Specialization_Operations Management</th>\n",
       "      <th>Specialization_Others</th>\n",
       "      <th>City_Mumbai</th>\n",
       "      <th>City_Others</th>\n",
       "      <th>City_Thane &amp; Outskirts</th>\n",
       "      <th>Last Activity_Email Opened</th>\n",
       "      <th>Last Activity_Olark Chat Conversation</th>\n",
       "      <th>Last Activity_SMS Sent</th>\n",
       "    </tr>\n",
       "    <tr>\n",
       "      <th>Lead Number</th>\n",
       "      <th></th>\n",
       "      <th></th>\n",
       "      <th></th>\n",
       "      <th></th>\n",
       "      <th></th>\n",
       "      <th></th>\n",
       "      <th></th>\n",
       "      <th></th>\n",
       "      <th></th>\n",
       "      <th></th>\n",
       "      <th></th>\n",
       "      <th></th>\n",
       "      <th></th>\n",
       "      <th></th>\n",
       "      <th></th>\n",
       "      <th></th>\n",
       "      <th></th>\n",
       "      <th></th>\n",
       "      <th></th>\n",
       "      <th></th>\n",
       "      <th></th>\n",
       "    </tr>\n",
       "  </thead>\n",
       "  <tbody>\n",
       "    <tr>\n",
       "      <th>628652</th>\n",
       "      <td>-0.59</td>\n",
       "      <td>0</td>\n",
       "      <td>0</td>\n",
       "      <td>0</td>\n",
       "      <td>0</td>\n",
       "      <td>0</td>\n",
       "      <td>0</td>\n",
       "      <td>0</td>\n",
       "      <td>0</td>\n",
       "      <td>0</td>\n",
       "      <td>...</td>\n",
       "      <td>0</td>\n",
       "      <td>0</td>\n",
       "      <td>0</td>\n",
       "      <td>0</td>\n",
       "      <td>0</td>\n",
       "      <td>0</td>\n",
       "      <td>0</td>\n",
       "      <td>1</td>\n",
       "      <td>0</td>\n",
       "      <td>0</td>\n",
       "    </tr>\n",
       "    <tr>\n",
       "      <th>644500</th>\n",
       "      <td>1.89</td>\n",
       "      <td>1</td>\n",
       "      <td>0</td>\n",
       "      <td>0</td>\n",
       "      <td>0</td>\n",
       "      <td>0</td>\n",
       "      <td>0</td>\n",
       "      <td>0</td>\n",
       "      <td>0</td>\n",
       "      <td>0</td>\n",
       "      <td>...</td>\n",
       "      <td>0</td>\n",
       "      <td>0</td>\n",
       "      <td>0</td>\n",
       "      <td>1</td>\n",
       "      <td>1</td>\n",
       "      <td>0</td>\n",
       "      <td>0</td>\n",
       "      <td>1</td>\n",
       "      <td>0</td>\n",
       "      <td>0</td>\n",
       "    </tr>\n",
       "    <tr>\n",
       "      <th>588935</th>\n",
       "      <td>-0.74</td>\n",
       "      <td>0</td>\n",
       "      <td>0</td>\n",
       "      <td>0</td>\n",
       "      <td>0</td>\n",
       "      <td>0</td>\n",
       "      <td>0</td>\n",
       "      <td>0</td>\n",
       "      <td>0</td>\n",
       "      <td>0</td>\n",
       "      <td>...</td>\n",
       "      <td>0</td>\n",
       "      <td>0</td>\n",
       "      <td>0</td>\n",
       "      <td>0</td>\n",
       "      <td>0</td>\n",
       "      <td>0</td>\n",
       "      <td>0</td>\n",
       "      <td>1</td>\n",
       "      <td>0</td>\n",
       "      <td>0</td>\n",
       "    </tr>\n",
       "    <tr>\n",
       "      <th>619437</th>\n",
       "      <td>-0.88</td>\n",
       "      <td>0</td>\n",
       "      <td>1</td>\n",
       "      <td>0</td>\n",
       "      <td>0</td>\n",
       "      <td>1</td>\n",
       "      <td>0</td>\n",
       "      <td>0</td>\n",
       "      <td>1</td>\n",
       "      <td>0</td>\n",
       "      <td>...</td>\n",
       "      <td>0</td>\n",
       "      <td>0</td>\n",
       "      <td>0</td>\n",
       "      <td>1</td>\n",
       "      <td>1</td>\n",
       "      <td>0</td>\n",
       "      <td>0</td>\n",
       "      <td>1</td>\n",
       "      <td>0</td>\n",
       "      <td>0</td>\n",
       "    </tr>\n",
       "    <tr>\n",
       "      <th>623381</th>\n",
       "      <td>-0.58</td>\n",
       "      <td>1</td>\n",
       "      <td>0</td>\n",
       "      <td>0</td>\n",
       "      <td>0</td>\n",
       "      <td>0</td>\n",
       "      <td>0</td>\n",
       "      <td>0</td>\n",
       "      <td>0</td>\n",
       "      <td>0</td>\n",
       "      <td>...</td>\n",
       "      <td>0</td>\n",
       "      <td>0</td>\n",
       "      <td>0</td>\n",
       "      <td>1</td>\n",
       "      <td>0</td>\n",
       "      <td>1</td>\n",
       "      <td>0</td>\n",
       "      <td>1</td>\n",
       "      <td>0</td>\n",
       "      <td>0</td>\n",
       "    </tr>\n",
       "  </tbody>\n",
       "</table>\n",
       "<p>5 rows × 25 columns</p>\n",
       "</div>"
      ],
      "text/plain": [
       "             Total Time Spent on Website  Lead Origin_Landing Page Submission  \\\n",
       "Lead Number                                                                     \n",
       "628652                             -0.59                                    0   \n",
       "644500                              1.89                                    1   \n",
       "588935                             -0.74                                    0   \n",
       "619437                             -0.88                                    0   \n",
       "623381                             -0.58                                    1   \n",
       "\n",
       "             Lead Origin_Lead Add Form  Lead Source_NC_EDM  \\\n",
       "Lead Number                                                  \n",
       "628652                               0                   0   \n",
       "644500                               0                   0   \n",
       "588935                               0                   0   \n",
       "619437                               1                   0   \n",
       "623381                               0                   0   \n",
       "\n",
       "             Lead Source_Olark Chat  Lead Source_Reference  \\\n",
       "Lead Number                                                  \n",
       "628652                            0                      0   \n",
       "644500                            0                      0   \n",
       "588935                            0                      0   \n",
       "619437                            0                      1   \n",
       "623381                            0                      0   \n",
       "\n",
       "             Lead Source_Social Media  Lead Source_Welingak Website  \\\n",
       "Lead Number                                                           \n",
       "628652                              0                             0   \n",
       "644500                              0                             0   \n",
       "588935                              0                             0   \n",
       "619437                              0                             0   \n",
       "623381                              0                             0   \n",
       "\n",
       "             Last Notable Activity_Modified  Last Notable Activity_Others  \\\n",
       "Lead Number                                                                 \n",
       "628652                                    0                             0   \n",
       "644500                                    0                             0   \n",
       "588935                                    0                             0   \n",
       "619437                                    1                             0   \n",
       "623381                                    0                             0   \n",
       "\n",
       "             ...  Specialization_Human Resource Management  \\\n",
       "Lead Number  ...                                             \n",
       "628652       ...                                         0   \n",
       "644500       ...                                         0   \n",
       "588935       ...                                         0   \n",
       "619437       ...                                         0   \n",
       "623381       ...                                         0   \n",
       "\n",
       "             Specialization_Marketing Management  \\\n",
       "Lead Number                                        \n",
       "628652                                         0   \n",
       "644500                                         0   \n",
       "588935                                         0   \n",
       "619437                                         0   \n",
       "623381                                         0   \n",
       "\n",
       "             Specialization_Operations Management  Specialization_Others  \\\n",
       "Lead Number                                                                \n",
       "628652                                          0                      0   \n",
       "644500                                          0                      1   \n",
       "588935                                          0                      0   \n",
       "619437                                          0                      1   \n",
       "623381                                          0                      1   \n",
       "\n",
       "             City_Mumbai  City_Others  City_Thane & Outskirts  \\\n",
       "Lead Number                                                     \n",
       "628652                 0            0                       0   \n",
       "644500                 1            0                       0   \n",
       "588935                 0            0                       0   \n",
       "619437                 1            0                       0   \n",
       "623381                 0            1                       0   \n",
       "\n",
       "             Last Activity_Email Opened  \\\n",
       "Lead Number                               \n",
       "628652                                1   \n",
       "644500                                1   \n",
       "588935                                1   \n",
       "619437                                1   \n",
       "623381                                1   \n",
       "\n",
       "             Last Activity_Olark Chat Conversation  Last Activity_SMS Sent  \n",
       "Lead Number                                                                 \n",
       "628652                                           0                       0  \n",
       "644500                                           0                       0  \n",
       "588935                                           0                       0  \n",
       "619437                                           0                       0  \n",
       "623381                                           0                       0  \n",
       "\n",
       "[5 rows x 25 columns]"
      ]
     },
     "execution_count": 1332,
     "metadata": {},
     "output_type": "execute_result"
    }
   ],
   "source": [
    "X_test = X_test[col]\n",
    "X_test.head()"
   ]
  },
  {
   "cell_type": "code",
   "execution_count": 1333,
   "metadata": {},
   "outputs": [
    {
     "data": {
      "text/plain": [
       "Index(['Total Time Spent on Website', 'Lead Origin_Landing Page Submission',\n",
       "       'Lead Origin_Lead Add Form', 'Lead Source_NC_EDM',\n",
       "       'Lead Source_Olark Chat', 'Lead Source_Reference',\n",
       "       'Lead Source_Social Media', 'Lead Source_Welingak Website',\n",
       "       'Last Notable Activity_Modified', 'Last Notable Activity_Others',\n",
       "       'Last Notable Activity_SMS Sent',\n",
       "       'What is your current occupation_Others',\n",
       "       'What is your current occupation_Unemployed',\n",
       "       'What is your current occupation_Working Professional',\n",
       "       'Specialization_Finance Management',\n",
       "       'Specialization_Human Resource Management',\n",
       "       'Specialization_Marketing Management',\n",
       "       'Specialization_Operations Management', 'Specialization_Others',\n",
       "       'City_Mumbai', 'City_Others', 'City_Thane & Outskirts',\n",
       "       'Last Activity_Email Opened', 'Last Activity_Olark Chat Conversation',\n",
       "       'Last Activity_SMS Sent'],\n",
       "      dtype='object')"
      ]
     },
     "execution_count": 1333,
     "metadata": {},
     "output_type": "execute_result"
    }
   ],
   "source": [
    "X_test.columns "
   ]
  },
  {
   "cell_type": "code",
   "execution_count": 1334,
   "metadata": {},
   "outputs": [],
   "source": [
    "X_test = X_test.drop(['Lead Origin_Lead Add Form','Lead Source_NC_EDM','Last Notable Activity_SMS Sent',\n",
    "                     'Last Notable Activity_Others','City_Mumbai','City_Others',\n",
    "                     'City_Thane & Outskirts','Lead Origin_Landing Page Submission','Specialization_Others',\n",
    "                      'Specialization_Operations Management','Specialization_Human Resource Management',\n",
    "                     'Lead Source_Social Media', 'Specialization_Finance Management'], axis = 1)"
   ]
  },
  {
   "cell_type": "code",
   "execution_count": 1335,
   "metadata": {},
   "outputs": [],
   "source": [
    "X_test_sm = sm.add_constant(X_test)"
   ]
  },
  {
   "cell_type": "code",
   "execution_count": 1336,
   "metadata": {},
   "outputs": [],
   "source": [
    "y_test_pred = res13.predict(X_test_sm)"
   ]
  },
  {
   "cell_type": "code",
   "execution_count": 1337,
   "metadata": {},
   "outputs": [
    {
     "data": {
      "text/plain": [
       "Lead Number\n",
       "628652   0.06\n",
       "644500   0.98\n",
       "588935   0.05\n",
       "619437   0.78\n",
       "623381   0.06\n",
       "641959   0.67\n",
       "599959   0.36\n",
       "613711   0.38\n",
       "619391   0.94\n",
       "614597   0.20\n",
       "dtype: float64"
      ]
     },
     "execution_count": 1337,
     "metadata": {},
     "output_type": "execute_result"
    }
   ],
   "source": [
    "y_test_pred[:10]"
   ]
  },
  {
   "cell_type": "code",
   "execution_count": 1338,
   "metadata": {},
   "outputs": [],
   "source": [
    "# Converting y_pred to a dataframe which is an array\n",
    "y_test_pred = pd.DataFrame(y_test_pred)"
   ]
  },
  {
   "cell_type": "code",
   "execution_count": 1339,
   "metadata": {},
   "outputs": [
    {
     "data": {
      "text/html": [
       "<div>\n",
       "<style scoped>\n",
       "    .dataframe tbody tr th:only-of-type {\n",
       "        vertical-align: middle;\n",
       "    }\n",
       "\n",
       "    .dataframe tbody tr th {\n",
       "        vertical-align: top;\n",
       "    }\n",
       "\n",
       "    .dataframe thead th {\n",
       "        text-align: right;\n",
       "    }\n",
       "</style>\n",
       "<table border=\"1\" class=\"dataframe\">\n",
       "  <thead>\n",
       "    <tr style=\"text-align: right;\">\n",
       "      <th></th>\n",
       "      <th>0</th>\n",
       "    </tr>\n",
       "    <tr>\n",
       "      <th>Lead Number</th>\n",
       "      <th></th>\n",
       "    </tr>\n",
       "  </thead>\n",
       "  <tbody>\n",
       "    <tr>\n",
       "      <th>628652</th>\n",
       "      <td>0.06</td>\n",
       "    </tr>\n",
       "    <tr>\n",
       "      <th>644500</th>\n",
       "      <td>0.98</td>\n",
       "    </tr>\n",
       "    <tr>\n",
       "      <th>588935</th>\n",
       "      <td>0.05</td>\n",
       "    </tr>\n",
       "    <tr>\n",
       "      <th>619437</th>\n",
       "      <td>0.78</td>\n",
       "    </tr>\n",
       "    <tr>\n",
       "      <th>623381</th>\n",
       "      <td>0.06</td>\n",
       "    </tr>\n",
       "  </tbody>\n",
       "</table>\n",
       "</div>"
      ],
      "text/plain": [
       "               0\n",
       "Lead Number     \n",
       "628652      0.06\n",
       "644500      0.98\n",
       "588935      0.05\n",
       "619437      0.78\n",
       "623381      0.06"
      ]
     },
     "execution_count": 1339,
     "metadata": {},
     "output_type": "execute_result"
    }
   ],
   "source": [
    "# Let's see the head\n",
    "y_test_pred.head()"
   ]
  },
  {
   "cell_type": "code",
   "execution_count": 1340,
   "metadata": {},
   "outputs": [],
   "source": [
    "# Converting y_test to dataframe\n",
    "\n",
    "y_test_df = pd.DataFrame(y_test)"
   ]
  },
  {
   "cell_type": "code",
   "execution_count": 1341,
   "metadata": {},
   "outputs": [],
   "source": [
    "# Putting Lead Number to index\n",
    "\n",
    "y_test_df['Lead Number'] = y_test_df.index"
   ]
  },
  {
   "cell_type": "code",
   "execution_count": 1342,
   "metadata": {},
   "outputs": [],
   "source": [
    "# Removing index for both dataframes to append them side by side \n",
    "\n",
    "y_test_pred.reset_index(drop=True, inplace=True)\n",
    "y_test_df.reset_index(drop=True, inplace=True)"
   ]
  },
  {
   "cell_type": "code",
   "execution_count": 1343,
   "metadata": {},
   "outputs": [],
   "source": [
    "# Appending y_test_df and y_pred_test\n",
    "y_test_pred_df = pd.concat([y_test_df, y_test_pred],axis=1)"
   ]
  },
  {
   "cell_type": "code",
   "execution_count": 1344,
   "metadata": {},
   "outputs": [
    {
     "data": {
      "text/html": [
       "<div>\n",
       "<style scoped>\n",
       "    .dataframe tbody tr th:only-of-type {\n",
       "        vertical-align: middle;\n",
       "    }\n",
       "\n",
       "    .dataframe tbody tr th {\n",
       "        vertical-align: top;\n",
       "    }\n",
       "\n",
       "    .dataframe thead th {\n",
       "        text-align: right;\n",
       "    }\n",
       "</style>\n",
       "<table border=\"1\" class=\"dataframe\">\n",
       "  <thead>\n",
       "    <tr style=\"text-align: right;\">\n",
       "      <th></th>\n",
       "      <th>Converted</th>\n",
       "      <th>Lead Number</th>\n",
       "      <th>0</th>\n",
       "    </tr>\n",
       "  </thead>\n",
       "  <tbody>\n",
       "    <tr>\n",
       "      <th>0</th>\n",
       "      <td>0</td>\n",
       "      <td>628652</td>\n",
       "      <td>0.06</td>\n",
       "    </tr>\n",
       "    <tr>\n",
       "      <th>1</th>\n",
       "      <td>1</td>\n",
       "      <td>644500</td>\n",
       "      <td>0.98</td>\n",
       "    </tr>\n",
       "    <tr>\n",
       "      <th>2</th>\n",
       "      <td>0</td>\n",
       "      <td>588935</td>\n",
       "      <td>0.05</td>\n",
       "    </tr>\n",
       "    <tr>\n",
       "      <th>3</th>\n",
       "      <td>1</td>\n",
       "      <td>619437</td>\n",
       "      <td>0.78</td>\n",
       "    </tr>\n",
       "    <tr>\n",
       "      <th>4</th>\n",
       "      <td>0</td>\n",
       "      <td>623381</td>\n",
       "      <td>0.06</td>\n",
       "    </tr>\n",
       "  </tbody>\n",
       "</table>\n",
       "</div>"
      ],
      "text/plain": [
       "   Converted  Lead Number    0\n",
       "0          0       628652 0.06\n",
       "1          1       644500 0.98\n",
       "2          0       588935 0.05\n",
       "3          1       619437 0.78\n",
       "4          0       623381 0.06"
      ]
     },
     "execution_count": 1344,
     "metadata": {},
     "output_type": "execute_result"
    }
   ],
   "source": [
    "y_test_pred_df.head()"
   ]
  },
  {
   "cell_type": "code",
   "execution_count": 1345,
   "metadata": {},
   "outputs": [],
   "source": [
    "# Renaming the column 0 as Lead prob\n",
    "\n",
    "y_test_pred_df= y_test_pred_df.rename(columns={ 0 : 'Lead_Prob'})"
   ]
  },
  {
   "cell_type": "code",
   "execution_count": 1346,
   "metadata": {},
   "outputs": [
    {
     "data": {
      "text/html": [
       "<div>\n",
       "<style scoped>\n",
       "    .dataframe tbody tr th:only-of-type {\n",
       "        vertical-align: middle;\n",
       "    }\n",
       "\n",
       "    .dataframe tbody tr th {\n",
       "        vertical-align: top;\n",
       "    }\n",
       "\n",
       "    .dataframe thead th {\n",
       "        text-align: right;\n",
       "    }\n",
       "</style>\n",
       "<table border=\"1\" class=\"dataframe\">\n",
       "  <thead>\n",
       "    <tr style=\"text-align: right;\">\n",
       "      <th></th>\n",
       "      <th>Converted</th>\n",
       "      <th>Lead Number</th>\n",
       "      <th>Lead_Prob</th>\n",
       "    </tr>\n",
       "  </thead>\n",
       "  <tbody>\n",
       "    <tr>\n",
       "      <th>0</th>\n",
       "      <td>0</td>\n",
       "      <td>628652</td>\n",
       "      <td>0.06</td>\n",
       "    </tr>\n",
       "    <tr>\n",
       "      <th>1</th>\n",
       "      <td>1</td>\n",
       "      <td>644500</td>\n",
       "      <td>0.98</td>\n",
       "    </tr>\n",
       "    <tr>\n",
       "      <th>2</th>\n",
       "      <td>0</td>\n",
       "      <td>588935</td>\n",
       "      <td>0.05</td>\n",
       "    </tr>\n",
       "    <tr>\n",
       "      <th>3</th>\n",
       "      <td>1</td>\n",
       "      <td>619437</td>\n",
       "      <td>0.78</td>\n",
       "    </tr>\n",
       "    <tr>\n",
       "      <th>4</th>\n",
       "      <td>0</td>\n",
       "      <td>623381</td>\n",
       "      <td>0.06</td>\n",
       "    </tr>\n",
       "  </tbody>\n",
       "</table>\n",
       "</div>"
      ],
      "text/plain": [
       "   Converted  Lead Number  Lead_Prob\n",
       "0          0       628652       0.06\n",
       "1          1       644500       0.98\n",
       "2          0       588935       0.05\n",
       "3          1       619437       0.78\n",
       "4          0       623381       0.06"
      ]
     },
     "execution_count": 1346,
     "metadata": {},
     "output_type": "execute_result"
    }
   ],
   "source": [
    "# Let's see the head of y_pred_final\n",
    "\n",
    "y_test_pred_df.head()"
   ]
  },
  {
   "cell_type": "code",
   "execution_count": 1347,
   "metadata": {},
   "outputs": [],
   "source": [
    "y_test_pred_df['final_predicted'] = y_test_pred_df.Lead_Prob.map(lambda x: 1 if x > 0.35 else 0)"
   ]
  },
  {
   "cell_type": "code",
   "execution_count": 1348,
   "metadata": {},
   "outputs": [
    {
     "data": {
      "text/html": [
       "<div>\n",
       "<style scoped>\n",
       "    .dataframe tbody tr th:only-of-type {\n",
       "        vertical-align: middle;\n",
       "    }\n",
       "\n",
       "    .dataframe tbody tr th {\n",
       "        vertical-align: top;\n",
       "    }\n",
       "\n",
       "    .dataframe thead th {\n",
       "        text-align: right;\n",
       "    }\n",
       "</style>\n",
       "<table border=\"1\" class=\"dataframe\">\n",
       "  <thead>\n",
       "    <tr style=\"text-align: right;\">\n",
       "      <th></th>\n",
       "      <th>Converted</th>\n",
       "      <th>Lead Number</th>\n",
       "      <th>Lead_Prob</th>\n",
       "      <th>final_predicted</th>\n",
       "    </tr>\n",
       "  </thead>\n",
       "  <tbody>\n",
       "    <tr>\n",
       "      <th>0</th>\n",
       "      <td>0</td>\n",
       "      <td>628652</td>\n",
       "      <td>0.06</td>\n",
       "      <td>0</td>\n",
       "    </tr>\n",
       "    <tr>\n",
       "      <th>1</th>\n",
       "      <td>1</td>\n",
       "      <td>644500</td>\n",
       "      <td>0.98</td>\n",
       "      <td>1</td>\n",
       "    </tr>\n",
       "    <tr>\n",
       "      <th>2</th>\n",
       "      <td>0</td>\n",
       "      <td>588935</td>\n",
       "      <td>0.05</td>\n",
       "      <td>0</td>\n",
       "    </tr>\n",
       "    <tr>\n",
       "      <th>3</th>\n",
       "      <td>1</td>\n",
       "      <td>619437</td>\n",
       "      <td>0.78</td>\n",
       "      <td>1</td>\n",
       "    </tr>\n",
       "    <tr>\n",
       "      <th>4</th>\n",
       "      <td>0</td>\n",
       "      <td>623381</td>\n",
       "      <td>0.06</td>\n",
       "      <td>0</td>\n",
       "    </tr>\n",
       "  </tbody>\n",
       "</table>\n",
       "</div>"
      ],
      "text/plain": [
       "   Converted  Lead Number  Lead_Prob  final_predicted\n",
       "0          0       628652       0.06                0\n",
       "1          1       644500       0.98                1\n",
       "2          0       588935       0.05                0\n",
       "3          1       619437       0.78                1\n",
       "4          0       623381       0.06                0"
      ]
     },
     "execution_count": 1348,
     "metadata": {},
     "output_type": "execute_result"
    }
   ],
   "source": [
    "y_test_pred_df.head()"
   ]
  },
  {
   "cell_type": "code",
   "execution_count": 1349,
   "metadata": {},
   "outputs": [
    {
     "name": "stdout",
     "output_type": "stream",
     "text": [
      "Accuracy is 79.3977230995226\n"
     ]
    }
   ],
   "source": [
    "# Let's check the overall accuracy.\n",
    "\n",
    "print('Accuracy is',(metrics.accuracy_score(y_test_pred_df.Converted, y_test_pred_df.final_predicted))*100)"
   ]
  },
  {
   "cell_type": "code",
   "execution_count": 1350,
   "metadata": {
    "scrolled": true
   },
   "outputs": [
    {
     "data": {
      "text/plain": [
       "array([[1351,  383],\n",
       "       [ 178,  811]], dtype=int64)"
      ]
     },
     "execution_count": 1350,
     "metadata": {},
     "output_type": "execute_result"
    }
   ],
   "source": [
    "confusiontest = metrics.confusion_matrix(y_test_pred_df.Converted, y_test_pred_df.final_predicted )\n",
    "confusiontest"
   ]
  },
  {
   "cell_type": "code",
   "execution_count": 1351,
   "metadata": {},
   "outputs": [],
   "source": [
    "TP_test = confusiontest[1,1] # true positive \n",
    "TN_test = confusiontest[0,0] # true negatives\n",
    "FP_test = confusiontest[0,1] # false positives\n",
    "FN_test = confusiontest[1,0] # false negatives"
   ]
  },
  {
   "cell_type": "code",
   "execution_count": 1352,
   "metadata": {},
   "outputs": [
    {
     "name": "stdout",
     "output_type": "stream",
     "text": [
      "Sensitivity is 82.0020222446916\n"
     ]
    }
   ],
   "source": [
    "# Let's see the sensitivity of our logistic regression model\n",
    "\n",
    "print('Sensitivity is',(TP_test / float(TP_test + FN_test))*100)"
   ]
  },
  {
   "cell_type": "code",
   "execution_count": 1353,
   "metadata": {},
   "outputs": [
    {
     "name": "stdout",
     "output_type": "stream",
     "text": [
      "Precision is  67.92294807370183\n"
     ]
    }
   ],
   "source": [
    "print('Precision is ',(precision_score(y_test_pred_df.Converted, y_test_pred_df.final_predicted))*100)"
   ]
  },
  {
   "cell_type": "code",
   "execution_count": 1354,
   "metadata": {},
   "outputs": [
    {
     "name": "stdout",
     "output_type": "stream",
     "text": [
      "Recall is 82.0020222446916\n"
     ]
    }
   ],
   "source": [
    "print('Recall is',(recall_score(y_test_pred_df.Converted, y_test_pred_df.final_predicted))*100)"
   ]
  },
  {
   "cell_type": "code",
   "execution_count": 1355,
   "metadata": {},
   "outputs": [
    {
     "name": "stdout",
     "output_type": "stream",
     "text": [
      "Specificity is  77.9123414071511\n"
     ]
    }
   ],
   "source": [
    "# Let us calculate specificity\n",
    "\n",
    "print('Specificity is ',(TN_test / float(TN_test + FP_test))*100)"
   ]
  },
  {
   "cell_type": "code",
   "execution_count": 1356,
   "metadata": {},
   "outputs": [
    {
     "name": "stdout",
     "output_type": "stream",
     "text": [
      "Out of all the negatives predicted by the model 88.35840418574232 were correct\n"
     ]
    }
   ],
   "source": [
    "# Negative predictive value - out of all the negatives predicted, how many were actually negatives ? \n",
    "\n",
    "print('Out of all the negatives predicted by the model',(TN_test / float(TN_test+ FN_test))*100,'were correct')"
   ]
  },
  {
   "cell_type": "code",
   "execution_count": 1357,
   "metadata": {},
   "outputs": [
    {
     "name": "stdout",
     "output_type": "stream",
     "text": [
      "False positive rate i.e. customers who were not converted and yet predicted as converted is 22.087658592848904\n"
     ]
    }
   ],
   "source": [
    "\n",
    "print('False positive rate i.e. customers who were not converted and yet predicted as converted is',(FP_test/float(FP_test + TN_test)*100))"
   ]
  },
  {
   "cell_type": "markdown",
   "metadata": {},
   "source": [
    "**Metrics of the test set are** : \n",
    "    1. Accuracy is 79.39\n",
    "    2. Sensitivity is 82.00\n",
    "    3. Specificity is  77.91\n",
    "    4. Precision is  67.92\n",
    "    5. Recall is 82.00\n",
    "    6. Out of all the negatives predicted by the model 88.35840418574232 were correct\n",
    "    7. False positive rate i.e. customers who were not converted and yet predicted as converted is 22.087658592848904"
   ]
  },
  {
   "cell_type": "markdown",
   "metadata": {},
   "source": [
    "## 8. Calculating Lead score for the entire dataset"
   ]
  },
  {
   "cell_type": "markdown",
   "metadata": {},
   "source": [
    "Lead Score = 100 * ConversionProbability\n",
    "\n",
    "ConversionProbability needs to be calculated for all the leads from the original dataset (Test + Train)"
   ]
  },
  {
   "cell_type": "code",
   "execution_count": 1358,
   "metadata": {},
   "outputs": [
    {
     "data": {
      "text/html": [
       "<div>\n",
       "<style scoped>\n",
       "    .dataframe tbody tr th:only-of-type {\n",
       "        vertical-align: middle;\n",
       "    }\n",
       "\n",
       "    .dataframe tbody tr th {\n",
       "        vertical-align: top;\n",
       "    }\n",
       "\n",
       "    .dataframe thead th {\n",
       "        text-align: right;\n",
       "    }\n",
       "</style>\n",
       "<table border=\"1\" class=\"dataframe\">\n",
       "  <thead>\n",
       "    <tr style=\"text-align: right;\">\n",
       "      <th></th>\n",
       "      <th>Converted</th>\n",
       "      <th>Lead Number</th>\n",
       "      <th>Lead_Prob</th>\n",
       "      <th>final_predicted</th>\n",
       "    </tr>\n",
       "  </thead>\n",
       "  <tbody>\n",
       "    <tr>\n",
       "      <th>0</th>\n",
       "      <td>0</td>\n",
       "      <td>628652</td>\n",
       "      <td>0.06</td>\n",
       "      <td>0</td>\n",
       "    </tr>\n",
       "    <tr>\n",
       "      <th>1</th>\n",
       "      <td>1</td>\n",
       "      <td>644500</td>\n",
       "      <td>0.98</td>\n",
       "      <td>1</td>\n",
       "    </tr>\n",
       "    <tr>\n",
       "      <th>2</th>\n",
       "      <td>0</td>\n",
       "      <td>588935</td>\n",
       "      <td>0.05</td>\n",
       "      <td>0</td>\n",
       "    </tr>\n",
       "    <tr>\n",
       "      <th>3</th>\n",
       "      <td>1</td>\n",
       "      <td>619437</td>\n",
       "      <td>0.78</td>\n",
       "      <td>1</td>\n",
       "    </tr>\n",
       "    <tr>\n",
       "      <th>4</th>\n",
       "      <td>0</td>\n",
       "      <td>623381</td>\n",
       "      <td>0.06</td>\n",
       "      <td>0</td>\n",
       "    </tr>\n",
       "  </tbody>\n",
       "</table>\n",
       "</div>"
      ],
      "text/plain": [
       "   Converted  Lead Number  Lead_Prob  final_predicted\n",
       "0          0       628652       0.06                0\n",
       "1          1       644500       0.98                1\n",
       "2          0       588935       0.05                0\n",
       "3          1       619437       0.78                1\n",
       "4          0       623381       0.06                0"
      ]
     },
     "execution_count": 1358,
     "metadata": {},
     "output_type": "execute_result"
    }
   ],
   "source": [
    "y_test_pred_df.head()"
   ]
  },
  {
   "cell_type": "code",
   "execution_count": 1359,
   "metadata": {},
   "outputs": [],
   "source": [
    "y_train_pred_final = y_train_pred_df.drop(['predicted',0.0,0.1,0.2,0.3,0.4,0.5,0.6,0.7,0.8,0.9], axis = 1)"
   ]
  },
  {
   "cell_type": "code",
   "execution_count": 1360,
   "metadata": {},
   "outputs": [
    {
     "data": {
      "text/html": [
       "<div>\n",
       "<style scoped>\n",
       "    .dataframe tbody tr th:only-of-type {\n",
       "        vertical-align: middle;\n",
       "    }\n",
       "\n",
       "    .dataframe tbody tr th {\n",
       "        vertical-align: top;\n",
       "    }\n",
       "\n",
       "    .dataframe thead th {\n",
       "        text-align: right;\n",
       "    }\n",
       "</style>\n",
       "<table border=\"1\" class=\"dataframe\">\n",
       "  <thead>\n",
       "    <tr style=\"text-align: right;\">\n",
       "      <th></th>\n",
       "      <th>Converted</th>\n",
       "      <th>Lead_Prob</th>\n",
       "      <th>Lead Number</th>\n",
       "      <th>final_predicted</th>\n",
       "    </tr>\n",
       "  </thead>\n",
       "  <tbody>\n",
       "    <tr>\n",
       "      <th>0</th>\n",
       "      <td>0</td>\n",
       "      <td>0.09</td>\n",
       "      <td>630949</td>\n",
       "      <td>0</td>\n",
       "    </tr>\n",
       "    <tr>\n",
       "      <th>1</th>\n",
       "      <td>0</td>\n",
       "      <td>0.63</td>\n",
       "      <td>649355</td>\n",
       "      <td>1</td>\n",
       "    </tr>\n",
       "    <tr>\n",
       "      <th>2</th>\n",
       "      <td>0</td>\n",
       "      <td>0.46</td>\n",
       "      <td>579735</td>\n",
       "      <td>1</td>\n",
       "    </tr>\n",
       "    <tr>\n",
       "      <th>3</th>\n",
       "      <td>1</td>\n",
       "      <td>0.75</td>\n",
       "      <td>614238</td>\n",
       "      <td>1</td>\n",
       "    </tr>\n",
       "    <tr>\n",
       "      <th>4</th>\n",
       "      <td>1</td>\n",
       "      <td>0.85</td>\n",
       "      <td>588625</td>\n",
       "      <td>1</td>\n",
       "    </tr>\n",
       "  </tbody>\n",
       "</table>\n",
       "</div>"
      ],
      "text/plain": [
       "   Converted  Lead_Prob  Lead Number  final_predicted\n",
       "0          0       0.09       630949                0\n",
       "1          0       0.63       649355                1\n",
       "2          0       0.46       579735                1\n",
       "3          1       0.75       614238                1\n",
       "4          1       0.85       588625                1"
      ]
     },
     "execution_count": 1360,
     "metadata": {},
     "output_type": "execute_result"
    }
   ],
   "source": [
    "y_train_pred_final.rename(columns = {'LeadID':'Lead Number','Conversion_Prob':'Lead_Prob','predicted':'final_predicted'}, inplace = True) \n",
    "y_train_pred_final.head()"
   ]
  },
  {
   "cell_type": "code",
   "execution_count": 1361,
   "metadata": {},
   "outputs": [
    {
     "data": {
      "text/html": [
       "<div>\n",
       "<style scoped>\n",
       "    .dataframe tbody tr th:only-of-type {\n",
       "        vertical-align: middle;\n",
       "    }\n",
       "\n",
       "    .dataframe tbody tr th {\n",
       "        vertical-align: top;\n",
       "    }\n",
       "\n",
       "    .dataframe thead th {\n",
       "        text-align: right;\n",
       "    }\n",
       "</style>\n",
       "<table border=\"1\" class=\"dataframe\">\n",
       "  <thead>\n",
       "    <tr style=\"text-align: right;\">\n",
       "      <th></th>\n",
       "      <th>Converted</th>\n",
       "      <th>Lead Number</th>\n",
       "      <th>Lead_Prob</th>\n",
       "      <th>final_predicted</th>\n",
       "    </tr>\n",
       "  </thead>\n",
       "  <tbody>\n",
       "    <tr>\n",
       "      <th>0</th>\n",
       "      <td>0</td>\n",
       "      <td>628652</td>\n",
       "      <td>0.06</td>\n",
       "      <td>0</td>\n",
       "    </tr>\n",
       "    <tr>\n",
       "      <th>1</th>\n",
       "      <td>1</td>\n",
       "      <td>644500</td>\n",
       "      <td>0.98</td>\n",
       "      <td>1</td>\n",
       "    </tr>\n",
       "    <tr>\n",
       "      <th>2</th>\n",
       "      <td>0</td>\n",
       "      <td>588935</td>\n",
       "      <td>0.05</td>\n",
       "      <td>0</td>\n",
       "    </tr>\n",
       "    <tr>\n",
       "      <th>3</th>\n",
       "      <td>1</td>\n",
       "      <td>619437</td>\n",
       "      <td>0.78</td>\n",
       "      <td>1</td>\n",
       "    </tr>\n",
       "    <tr>\n",
       "      <th>4</th>\n",
       "      <td>0</td>\n",
       "      <td>623381</td>\n",
       "      <td>0.06</td>\n",
       "      <td>0</td>\n",
       "    </tr>\n",
       "  </tbody>\n",
       "</table>\n",
       "</div>"
      ],
      "text/plain": [
       "   Converted  Lead Number  Lead_Prob  final_predicted\n",
       "0          0       628652       0.06                0\n",
       "1          1       644500       0.98                1\n",
       "2          0       588935       0.05                0\n",
       "3          1       619437       0.78                1\n",
       "4          0       623381       0.06                0"
      ]
     },
     "execution_count": 1361,
     "metadata": {},
     "output_type": "execute_result"
    }
   ],
   "source": [
    "y_test_pred_df.head()"
   ]
  },
  {
   "cell_type": "markdown",
   "metadata": {},
   "source": [
    "### 8.1 Concatenating the train and the test dataset with the conversion probabilities"
   ]
  },
  {
   "cell_type": "code",
   "execution_count": 1362,
   "metadata": {},
   "outputs": [
    {
     "data": {
      "text/html": [
       "<div>\n",
       "<style scoped>\n",
       "    .dataframe tbody tr th:only-of-type {\n",
       "        vertical-align: middle;\n",
       "    }\n",
       "\n",
       "    .dataframe tbody tr th {\n",
       "        vertical-align: top;\n",
       "    }\n",
       "\n",
       "    .dataframe thead th {\n",
       "        text-align: right;\n",
       "    }\n",
       "</style>\n",
       "<table border=\"1\" class=\"dataframe\">\n",
       "  <thead>\n",
       "    <tr style=\"text-align: right;\">\n",
       "      <th></th>\n",
       "      <th>Converted</th>\n",
       "      <th>Lead_Prob</th>\n",
       "      <th>Lead Number</th>\n",
       "      <th>final_predicted</th>\n",
       "    </tr>\n",
       "  </thead>\n",
       "  <tbody>\n",
       "    <tr>\n",
       "      <th>0</th>\n",
       "      <td>0</td>\n",
       "      <td>0.09</td>\n",
       "      <td>630949</td>\n",
       "      <td>0</td>\n",
       "    </tr>\n",
       "    <tr>\n",
       "      <th>1</th>\n",
       "      <td>0</td>\n",
       "      <td>0.63</td>\n",
       "      <td>649355</td>\n",
       "      <td>1</td>\n",
       "    </tr>\n",
       "    <tr>\n",
       "      <th>2</th>\n",
       "      <td>0</td>\n",
       "      <td>0.46</td>\n",
       "      <td>579735</td>\n",
       "      <td>1</td>\n",
       "    </tr>\n",
       "    <tr>\n",
       "      <th>3</th>\n",
       "      <td>1</td>\n",
       "      <td>0.75</td>\n",
       "      <td>614238</td>\n",
       "      <td>1</td>\n",
       "    </tr>\n",
       "    <tr>\n",
       "      <th>4</th>\n",
       "      <td>1</td>\n",
       "      <td>0.85</td>\n",
       "      <td>588625</td>\n",
       "      <td>1</td>\n",
       "    </tr>\n",
       "  </tbody>\n",
       "</table>\n",
       "</div>"
      ],
      "text/plain": [
       "   Converted  Lead_Prob  Lead Number  final_predicted\n",
       "0          0       0.09       630949                0\n",
       "1          0       0.63       649355                1\n",
       "2          0       0.46       579735                1\n",
       "3          1       0.75       614238                1\n",
       "4          1       0.85       588625                1"
      ]
     },
     "execution_count": 1362,
     "metadata": {},
     "output_type": "execute_result"
    }
   ],
   "source": [
    "# Concatenating the 2 dataframes train and test along the rows with the append() function\n",
    "\n",
    "lead_full_pred = y_train_pred_final.append(y_test_pred_df)\n",
    "lead_full_pred.head()"
   ]
  },
  {
   "cell_type": "code",
   "execution_count": 1363,
   "metadata": {},
   "outputs": [
    {
     "name": "stdout",
     "output_type": "stream",
     "text": [
      "(6351, 15)\n",
      "(2723, 4)\n",
      "(9074, 4)\n"
     ]
    }
   ],
   "source": [
    "# Inspecting the shape of the final dataframe and the test and train dataframes\n",
    "print(y_train_pred_df.shape)\n",
    "print(y_test_pred_df.shape)\n",
    "print(lead_full_pred.shape)"
   ]
  },
  {
   "cell_type": "code",
   "execution_count": 1364,
   "metadata": {},
   "outputs": [
    {
     "data": {
      "text/plain": [
       "9074"
      ]
     },
     "execution_count": 1364,
     "metadata": {},
     "output_type": "execute_result"
    }
   ],
   "source": [
    "# Ensuring the Lead Numbers are unique for each lead in the final dataframe\n",
    "len(lead_full_pred['Lead Number'].unique().tolist())"
   ]
  },
  {
   "cell_type": "code",
   "execution_count": 1365,
   "metadata": {},
   "outputs": [
    {
     "data": {
      "text/html": [
       "<div>\n",
       "<style scoped>\n",
       "    .dataframe tbody tr th:only-of-type {\n",
       "        vertical-align: middle;\n",
       "    }\n",
       "\n",
       "    .dataframe tbody tr th {\n",
       "        vertical-align: top;\n",
       "    }\n",
       "\n",
       "    .dataframe thead th {\n",
       "        text-align: right;\n",
       "    }\n",
       "</style>\n",
       "<table border=\"1\" class=\"dataframe\">\n",
       "  <thead>\n",
       "    <tr style=\"text-align: right;\">\n",
       "      <th></th>\n",
       "      <th>Converted</th>\n",
       "      <th>Lead_Prob</th>\n",
       "      <th>Lead Number</th>\n",
       "      <th>final_predicted</th>\n",
       "      <th>Lead_Score</th>\n",
       "    </tr>\n",
       "  </thead>\n",
       "  <tbody>\n",
       "    <tr>\n",
       "      <th>0</th>\n",
       "      <td>0</td>\n",
       "      <td>0.09</td>\n",
       "      <td>630949</td>\n",
       "      <td>0</td>\n",
       "      <td>9</td>\n",
       "    </tr>\n",
       "    <tr>\n",
       "      <th>1</th>\n",
       "      <td>0</td>\n",
       "      <td>0.63</td>\n",
       "      <td>649355</td>\n",
       "      <td>1</td>\n",
       "      <td>63</td>\n",
       "    </tr>\n",
       "    <tr>\n",
       "      <th>2</th>\n",
       "      <td>0</td>\n",
       "      <td>0.46</td>\n",
       "      <td>579735</td>\n",
       "      <td>1</td>\n",
       "      <td>46</td>\n",
       "    </tr>\n",
       "    <tr>\n",
       "      <th>3</th>\n",
       "      <td>1</td>\n",
       "      <td>0.75</td>\n",
       "      <td>614238</td>\n",
       "      <td>1</td>\n",
       "      <td>75</td>\n",
       "    </tr>\n",
       "    <tr>\n",
       "      <th>4</th>\n",
       "      <td>1</td>\n",
       "      <td>0.85</td>\n",
       "      <td>588625</td>\n",
       "      <td>1</td>\n",
       "      <td>85</td>\n",
       "    </tr>\n",
       "  </tbody>\n",
       "</table>\n",
       "</div>"
      ],
      "text/plain": [
       "   Converted  Lead_Prob  Lead Number  final_predicted  Lead_Score\n",
       "0          0       0.09       630949                0           9\n",
       "1          0       0.63       649355                1          63\n",
       "2          0       0.46       579735                1          46\n",
       "3          1       0.75       614238                1          75\n",
       "4          1       0.85       588625                1          85"
      ]
     },
     "execution_count": 1365,
     "metadata": {},
     "output_type": "execute_result"
    }
   ],
   "source": [
    "# Calculating the Lead Score value\n",
    "# Lead Score = 100 * Conversion_Prob\n",
    "lead_full_pred['Lead_Score'] = lead_full_pred['Lead_Prob'].apply(lambda x : round(x*100))\n",
    "lead_full_pred.head()"
   ]
  },
  {
   "cell_type": "code",
   "execution_count": 1366,
   "metadata": {},
   "outputs": [
    {
     "data": {
      "text/plain": [
       "660737"
      ]
     },
     "execution_count": 1366,
     "metadata": {},
     "output_type": "execute_result"
    }
   ],
   "source": [
    "# Inspecing the max Lead Number\n",
    "lead_full_pred['Lead Number'].max()"
   ]
  },
  {
   "cell_type": "code",
   "execution_count": 1367,
   "metadata": {},
   "outputs": [
    {
     "data": {
      "text/plain": [
       "(9074, 5)"
      ]
     },
     "execution_count": 1367,
     "metadata": {},
     "output_type": "execute_result"
    }
   ],
   "source": [
    "# Inspecting the dataframe shape\n",
    "lead_full_pred.shape"
   ]
  },
  {
   "cell_type": "code",
   "execution_count": 1368,
   "metadata": {},
   "outputs": [
    {
     "data": {
      "text/plain": [
       "Lead_Score        0.00\n",
       "final_predicted   0.00\n",
       "Lead Number       0.00\n",
       "Lead_Prob         0.00\n",
       "Converted         0.00\n",
       "dtype: float64"
      ]
     },
     "execution_count": 1368,
     "metadata": {},
     "output_type": "execute_result"
    }
   ],
   "source": [
    "# Inspecting if the final dataframe has any null values\n",
    "round(100*(lead_full_pred.isnull().sum()/len(lead_full_pred)),2).sort_values(ascending=False)"
   ]
  },
  {
   "cell_type": "markdown",
   "metadata": {},
   "source": [
    "### 8.2 Determining Feature Importance"
   ]
  },
  {
   "cell_type": "code",
   "execution_count": 1369,
   "metadata": {},
   "outputs": [
    {
     "data": {
      "text/plain": [
       "Total Time Spent on Website                             1.12\n",
       "Lead Source_Olark Chat                                  1.40\n",
       "Lead Source_Reference                                   3.66\n",
       "Lead Source_Welingak Website                            5.45\n",
       "Last Notable Activity_Modified                         -0.73\n",
       "What is your current occupation_Others                  1.41\n",
       "What is your current occupation_Unemployed              1.22\n",
       "What is your current occupation_Working Professional    3.67\n",
       "Specialization_Marketing Management                     0.30\n",
       "Last Activity_Email Opened                              0.42\n",
       "Last Activity_Olark Chat Conversation                  -0.61\n",
       "Last Activity_SMS Sent                                  1.48\n",
       "dtype: float64"
      ]
     },
     "execution_count": 1369,
     "metadata": {},
     "output_type": "execute_result"
    }
   ],
   "source": [
    "pd.options.display.float_format = '{:.2f}'.format\n",
    "new_params = res13.params[1:]\n",
    "new_params"
   ]
  },
  {
   "cell_type": "code",
   "execution_count": 1370,
   "metadata": {},
   "outputs": [],
   "source": [
    "# Getting a relative coeffient value for all the features wrt the feature with the highest coefficient\n",
    "feature_importance = new_params\n",
    "feature_importance = 100.0 * (feature_importance / feature_importance.max())\n",
    "feature_importance = pd.DataFrame(feature_importance)\n",
    "imp = feature_importance.reset_index()\n",
    "imp.columns = ['Features', 'Importance']\n",
    "\n",
    "sortedimp = imp.sort_values(by = 'Importance', ascending = False)\n"
   ]
  },
  {
   "cell_type": "code",
   "execution_count": 1371,
   "metadata": {},
   "outputs": [
    {
     "data": {
      "text/plain": [
       "<matplotlib.axes._subplots.AxesSubplot at 0x25303a4fe48>"
      ]
     },
     "execution_count": 1371,
     "metadata": {},
     "output_type": "execute_result"
    },
    {
     "data": {
      "image/png": "[encoded data removed]",
      "text/plain": [
       "<Figure size 432x288 with 1 Axes>"
      ]
     },
     "metadata": {
      "needs_background": "light"
     },
     "output_type": "display_data"
    }
   ],
   "source": [
    "sns.barplot(y='Features', x='Importance', palette='husl', data= sortedimp)"
   ]
  },
  {
   "cell_type": "markdown",
   "metadata": {},
   "source": [
    "### 8.4 Selecting `Top 3` features which contribute most towards the probability of a lead getting converted"
   ]
  },
  {
   "cell_type": "code",
   "execution_count": 1372,
   "metadata": {},
   "outputs": [
    {
     "data": {
      "text/html": [
       "<div>\n",
       "<style scoped>\n",
       "    .dataframe tbody tr th:only-of-type {\n",
       "        vertical-align: middle;\n",
       "    }\n",
       "\n",
       "    .dataframe tbody tr th {\n",
       "        vertical-align: top;\n",
       "    }\n",
       "\n",
       "    .dataframe thead th {\n",
       "        text-align: right;\n",
       "    }\n",
       "</style>\n",
       "<table border=\"1\" class=\"dataframe\">\n",
       "  <thead>\n",
       "    <tr style=\"text-align: right;\">\n",
       "      <th></th>\n",
       "      <th>index</th>\n",
       "      <th>0</th>\n",
       "    </tr>\n",
       "  </thead>\n",
       "  <tbody>\n",
       "    <tr>\n",
       "      <th>3</th>\n",
       "      <td>Lead Source_Welingak Website</td>\n",
       "      <td>100.00</td>\n",
       "    </tr>\n",
       "    <tr>\n",
       "      <th>7</th>\n",
       "      <td>What is your current occupation_Working Profes...</td>\n",
       "      <td>67.29</td>\n",
       "    </tr>\n",
       "    <tr>\n",
       "      <th>2</th>\n",
       "      <td>Lead Source_Reference</td>\n",
       "      <td>67.05</td>\n",
       "    </tr>\n",
       "  </tbody>\n",
       "</table>\n",
       "</div>"
      ],
      "text/plain": [
       "                                               index      0\n",
       "3                       Lead Source_Welingak Website 100.00\n",
       "7  What is your current occupation_Working Profes...  67.29\n",
       "2                              Lead Source_Reference  67.05"
      ]
     },
     "execution_count": 1372,
     "metadata": {},
     "output_type": "execute_result"
    }
   ],
   "source": [
    "pd.DataFrame(feature_importance).reset_index().sort_values(by=0,ascending=False).head(3)"
   ]
  },
  {
   "cell_type": "markdown",
   "metadata": {},
   "source": [
    "## Conclusion"
   ]
  },
  {
   "cell_type": "markdown",
   "metadata": {},
   "source": [
    "#### Based on our model, some features are identified which contribute most to a Lead getting converted successfully. "
   ]
  },
  {
   "cell_type": "markdown",
   "metadata": {},
   "source": [
    "- Lead Source_Welingak Website\n",
    "- What is your current occupation_Working Professional\n",
    "- Lead Source_Reference\n",
    "- Last Activity_SMS Sent\n",
    "- What is your current occupation_Others\n",
    "- Lead Source_Olark Chat\n",
    "- What is your current occupation_Unemployed\n",
    "- Total Time Spent on Website\n",
    "- Last Activity_Email Opened\n",
    "- Specialization_Marketing Management"
   ]
  },
  {
   "cell_type": "markdown",
   "metadata": {},
   "source": [
    "The conversion probability of a lead increases with decrease in values of the following features in descending order:\n",
    "\n",
    "|Features with Negative Coefficient Values|\n",
    "|-------------|\n",
    "|Last Activity_Olark Chat Conversation|\n",
    "Last Notable Activity_Modified|                 \n"
   ]
  },
  {
   "cell_type": "markdown",
   "metadata": {},
   "source": [
    "**The top three features are** : \n",
    "    1. Lead Source_Welingak Website\n",
    "    2. What is your current occupation_Working Professional\n",
    "    3. Lead Source_Reference                             \n"
   ]
  },
  {
   "cell_type": "markdown",
   "metadata": {},
   "source": [
    "**Final Model**\n",
    "\n",
    "Logodds = -2.5constant + 1.12*Total Time spent on website + 1.40*Lead Source_Olark Chat + 3.6554*Lead Source_Reference + \n",
    "5.4521*Lead Source_Welingak Website + (-0.7289)*Last Notable Activity_Modified + 1.4145*what is your current occupation_Others  + 1.2150*What is your current occupation_Unemployed  + 3.6688*What is your current occupation_Working Professional + 0.3018*Specialization_Marketing Management  +  0.4244*Last Activity_Email Opened + (-0.6056)*Last Activity_Olark Chat Conversation + 1.4775* Last Activity_SMS Sent                                                                                                                          "
   ]
  },
  {
   "cell_type": "markdown",
   "metadata": {},
   "source": [
    "### Recommendations to X Education: \n",
    "\n",
    "1. Leads with Lead Source as reference to be contacted frequently. \n",
    "\n",
    "2. Leads from reference are low as compared to others such as Google but have high conversion rate. Hence, efforts must be put in to generate more leads through reference. Those who provide reference can be given incentives. This could generate more leads through reference\n",
    "\n",
    "3. Leads from Welingak website have high rate of conversion but welingak websites has low number of leads overall. Efforts must be put to generate more leads through Welingak website. This could be through blogs, videos etc. on Welingak Website.\n",
    "\n",
    "4. Target working professionals as working professional category has a high rate of conversion.\n",
    "\n",
    "5. Minimize or curb all efforts on Olark Chat conversation as it has a negative correlation on conversion. \n"
   ]
  },
  {
   "cell_type": "code",
   "execution_count": null,
   "metadata": {},
   "outputs": [],
   "source": []
  }
 ],
 "metadata": {
  "kernelspec": {
   "display_name": "Python 3",
   "language": "python",
   "name": "python3"
  },
  "language_info": {
   "codemirror_mode": {
    "name": "ipython",
    "version": 3
   },
   "file_extension": ".py",
   "mimetype": "text/x-python",
   "name": "python",
   "nbconvert_exporter": "python",
   "pygments_lexer": "ipython3",
   "version": "3.7.6"
  }
 },
 "nbformat": 4,
 "nbformat_minor": 4
}
